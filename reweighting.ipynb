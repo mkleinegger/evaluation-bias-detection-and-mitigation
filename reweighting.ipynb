{
 "cells": [
  {
   "cell_type": "markdown",
   "metadata": {},
   "source": [
    "## Load data"
   ]
  },
  {
   "cell_type": "code",
   "execution_count": 310,
   "metadata": {},
   "outputs": [],
   "source": [
    "import numpy as np\n",
    "import pandas as pd\n",
    "from sklearn.model_selection import train_test_split\n",
    "import matplotlib.pyplot as plt\n",
    "import seaborn as sns\n",
    "from dython.nominal import associations\n",
    "from sklearn.neural_network import MLPClassifier\n",
    "from sklearn.metrics import accuracy_score, precision_score, recall_score, f1_score\n",
    "from sklearn.compose import ColumnTransformer\n",
    "from sklearn.preprocessing import OneHotEncoder\n",
    "\n",
    "random_state = 42"
   ]
  },
  {
   "cell_type": "code",
   "execution_count": 311,
   "metadata": {},
   "outputs": [],
   "source": [
    "import warnings\n",
    "warnings.filterwarnings(\"ignore\")"
   ]
  },
  {
   "cell_type": "code",
   "execution_count": 312,
   "metadata": {},
   "outputs": [],
   "source": [
    "df_train = pd.read_csv(\"./data2/synthetic_data_DataSynthesizer_correlated_attribute_mode.csv\", index_col=0)\n",
    "df_test = pd.read_json(\"./data2/testset.json\")\n",
    "\n",
    "ratio_features = [\"age\", \"capital-gain\", \"capital-loss\", \"hours-per-week\"]\n",
    "ordinal_features = [\"education-num\"]\n",
    "nominal_features = ['workclass', 'marital-status', 'occupation', 'relationship', 'race', 'sex']\n",
    "target = 'income'"
   ]
  },
  {
   "cell_type": "markdown",
   "metadata": {},
   "source": [
    "## Train baseline"
   ]
  },
  {
   "cell_type": "code",
   "execution_count": 313,
   "metadata": {},
   "outputs": [],
   "source": [
    "from sklearn.compose import ColumnTransformer\n",
    "from sklearn.metrics import accuracy_score, f1_score, precision_score, recall_score\n",
    "from sklearn.pipeline import Pipeline\n",
    "from sklearn.linear_model import LogisticRegression\n",
    "from sklearn.preprocessing import OneHotEncoder\n",
    "\n",
    "def create_model(categorical_features, random_state):\n",
    "    categorical_features_onehot_transformer = ColumnTransformer(\n",
    "        transformers=[\n",
    "            (\"one-hot-encoder\", OneHotEncoder(handle_unknown=\"ignore\"), categorical_features),\n",
    "        ],\n",
    "        remainder=\"passthrough\",\n",
    "    )\n",
    "\n",
    "    model = Pipeline(\n",
    "        [\n",
    "            (\"one-hot-encoder\", categorical_features_onehot_transformer),\n",
    "            (\"clf\", LogisticRegression(max_iter=1000, random_state=random_state)),\n",
    "        ]\n",
    "    )\n",
    "    return model\n",
    "\n",
    "def split_data(df, target, drop_na=False):\n",
    "    _df = df.copy()\n",
    "    if drop_na:\n",
    "        _df = _df.dropna()\n",
    "    \n",
    "    X = _df.drop(columns=[target])\n",
    "    y = _df[target]\n",
    "\n",
    "    return X, y\n",
    "\n",
    "def train_and_evaluate(model, df_train, df_test, target, drop_na = False, sample_weight = None):\n",
    "    X_train, y_train = split_data(df_train, target, drop_na)\n",
    "    X_test, y_test = split_data(df_test, target, drop_na)\n",
    "\n",
    "    if sample_weight is not None:\n",
    "        model.fit(X_train, y_train, clf__sample_weight=sample_weight)\n",
    "    else:\n",
    "        model.fit(X_train, y_train)\n",
    "\n",
    "    y_pred = model.predict(X_test)\n",
    "\n",
    "    return y_test, y_pred\n",
    "\n",
    "def describe_model(y_test, y_pred):\n",
    "    return {\n",
    "        \"Accuracy\": accuracy_score(y_test, y_pred),\n",
    "        \"Precision\": precision_score(y_test, y_pred, average='macro'),\n",
    "        \"Recall\": recall_score(y_test, y_pred, average='macro'),\n",
    "        \"F1\": f1_score(y_test, y_pred, average='macro')\n",
    "    }"
   ]
  },
  {
   "cell_type": "code",
   "execution_count": 314,
   "metadata": {},
   "outputs": [
    {
     "data": {
      "text/plain": [
       "{'Accuracy': 0.8176021741402738,\n",
       " 'Precision': 0.7677920543378745,\n",
       " 'Recall': 0.6842193517269446,\n",
       " 'F1': 0.7083168158339043}"
      ]
     },
     "execution_count": 314,
     "metadata": {},
     "output_type": "execute_result"
    }
   ],
   "source": [
    "model = create_model(nominal_features, random_state)\n",
    "y_test, y_pred = train_and_evaluate(model, df_train, df_test, target, drop_na=True)\n",
    "metrics = describe_model(y_test, y_pred)\n",
    "metrics"
   ]
  },
  {
   "cell_type": "markdown",
   "metadata": {},
   "source": [
    "## Fairness Evaluation"
   ]
  },
  {
   "cell_type": "code",
   "execution_count": 403,
   "metadata": {},
   "outputs": [],
   "source": [
    "df_train.reset_index(inplace=True, drop=False)\n",
    "df_train.drop(columns=['index', 'level_0'], axis=1, inplace=True)\n",
    "X_train, y_train = split_data(df_train, target, drop_na=True)\n",
    "\n",
    "model = create_model(nominal_features, random_state)\n",
    "model.fit(X_train, y_train)\n",
    "probs = pd.Series(model.predict_proba(X_train)[:, 1])"
   ]
  },
  {
   "cell_type": "code",
   "execution_count": 404,
   "metadata": {},
   "outputs": [
    {
     "data": {
      "text/html": [
       "<div>\n",
       "<style scoped>\n",
       "    .dataframe tbody tr th:only-of-type {\n",
       "        vertical-align: middle;\n",
       "    }\n",
       "\n",
       "    .dataframe tbody tr th {\n",
       "        vertical-align: top;\n",
       "    }\n",
       "\n",
       "    .dataframe thead th {\n",
       "        text-align: right;\n",
       "    }\n",
       "</style>\n",
       "<table border=\"1\" class=\"dataframe\">\n",
       "  <thead>\n",
       "    <tr style=\"text-align: right;\">\n",
       "      <th></th>\n",
       "      <th>age</th>\n",
       "      <th>workclass</th>\n",
       "      <th>education-num</th>\n",
       "      <th>marital-status</th>\n",
       "      <th>occupation</th>\n",
       "      <th>relationship</th>\n",
       "      <th>race</th>\n",
       "      <th>sex</th>\n",
       "      <th>capital-gain</th>\n",
       "      <th>capital-loss</th>\n",
       "      <th>hours-per-week</th>\n",
       "      <th>income</th>\n",
       "    </tr>\n",
       "  </thead>\n",
       "  <tbody>\n",
       "    <tr>\n",
       "      <th>0</th>\n",
       "      <td>75.0</td>\n",
       "      <td>Private</td>\n",
       "      <td>3.0</td>\n",
       "      <td>Married-civ-spouse</td>\n",
       "      <td>Exec-managerial</td>\n",
       "      <td>Husband</td>\n",
       "      <td>White</td>\n",
       "      <td>1</td>\n",
       "      <td>2150.0</td>\n",
       "      <td>2708.0</td>\n",
       "      <td>87.0</td>\n",
       "      <td>0</td>\n",
       "    </tr>\n",
       "    <tr>\n",
       "      <th>1</th>\n",
       "      <td>23.0</td>\n",
       "      <td>Private</td>\n",
       "      <td>11.0</td>\n",
       "      <td>Divorced</td>\n",
       "      <td>Exec-managerial</td>\n",
       "      <td>Unmarried</td>\n",
       "      <td>White</td>\n",
       "      <td>0</td>\n",
       "      <td>10754.0</td>\n",
       "      <td>170.0</td>\n",
       "      <td>62.0</td>\n",
       "      <td>0</td>\n",
       "    </tr>\n",
       "    <tr>\n",
       "      <th>2</th>\n",
       "      <td>33.0</td>\n",
       "      <td>Local-gov</td>\n",
       "      <td>9.0</td>\n",
       "      <td>Never-married</td>\n",
       "      <td>Protective-serv</td>\n",
       "      <td>Not-in-family</td>\n",
       "      <td>White</td>\n",
       "      <td>1</td>\n",
       "      <td>3382.0</td>\n",
       "      <td>86.0</td>\n",
       "      <td>44.0</td>\n",
       "      <td>0</td>\n",
       "    </tr>\n",
       "    <tr>\n",
       "      <th>3</th>\n",
       "      <td>18.0</td>\n",
       "      <td>Private</td>\n",
       "      <td>7.0</td>\n",
       "      <td>Never-married</td>\n",
       "      <td>Adm-clerical</td>\n",
       "      <td>Own-child</td>\n",
       "      <td>White</td>\n",
       "      <td>1</td>\n",
       "      <td>786.0</td>\n",
       "      <td>4295.0</td>\n",
       "      <td>4.0</td>\n",
       "      <td>0</td>\n",
       "    </tr>\n",
       "    <tr>\n",
       "      <th>4</th>\n",
       "      <td>52.0</td>\n",
       "      <td>Private</td>\n",
       "      <td>14.0</td>\n",
       "      <td>Married-civ-spouse</td>\n",
       "      <td>Other-service</td>\n",
       "      <td>Husband</td>\n",
       "      <td>White</td>\n",
       "      <td>1</td>\n",
       "      <td>2655.0</td>\n",
       "      <td>182.0</td>\n",
       "      <td>73.0</td>\n",
       "      <td>0</td>\n",
       "    </tr>\n",
       "    <tr>\n",
       "      <th>...</th>\n",
       "      <td>...</td>\n",
       "      <td>...</td>\n",
       "      <td>...</td>\n",
       "      <td>...</td>\n",
       "      <td>...</td>\n",
       "      <td>...</td>\n",
       "      <td>...</td>\n",
       "      <td>...</td>\n",
       "      <td>...</td>\n",
       "      <td>...</td>\n",
       "      <td>...</td>\n",
       "      <td>...</td>\n",
       "    </tr>\n",
       "    <tr>\n",
       "      <th>39068</th>\n",
       "      <td>49.0</td>\n",
       "      <td>Private</td>\n",
       "      <td>4.0</td>\n",
       "      <td>Married-civ-spouse</td>\n",
       "      <td>Tech-support</td>\n",
       "      <td>Husband</td>\n",
       "      <td>Asian-Pac-Islander</td>\n",
       "      <td>1</td>\n",
       "      <td>1966.0</td>\n",
       "      <td>203.0</td>\n",
       "      <td>40.0</td>\n",
       "      <td>1</td>\n",
       "    </tr>\n",
       "    <tr>\n",
       "      <th>39069</th>\n",
       "      <td>29.0</td>\n",
       "      <td>Private</td>\n",
       "      <td>13.0</td>\n",
       "      <td>Married-civ-spouse</td>\n",
       "      <td>Prof-specialty</td>\n",
       "      <td>Husband</td>\n",
       "      <td>White</td>\n",
       "      <td>1</td>\n",
       "      <td>2369.0</td>\n",
       "      <td>1924.0</td>\n",
       "      <td>56.0</td>\n",
       "      <td>1</td>\n",
       "    </tr>\n",
       "    <tr>\n",
       "      <th>39070</th>\n",
       "      <td>40.0</td>\n",
       "      <td>Local-gov</td>\n",
       "      <td>11.0</td>\n",
       "      <td>Married-civ-spouse</td>\n",
       "      <td>Exec-managerial</td>\n",
       "      <td>Wife</td>\n",
       "      <td>White</td>\n",
       "      <td>0</td>\n",
       "      <td>4827.0</td>\n",
       "      <td>196.0</td>\n",
       "      <td>31.0</td>\n",
       "      <td>1</td>\n",
       "    </tr>\n",
       "    <tr>\n",
       "      <th>39071</th>\n",
       "      <td>31.0</td>\n",
       "      <td>Private</td>\n",
       "      <td>1.0</td>\n",
       "      <td>Married-spouse-absent</td>\n",
       "      <td>Adm-clerical</td>\n",
       "      <td>Unmarried</td>\n",
       "      <td>White</td>\n",
       "      <td>0</td>\n",
       "      <td>4554.0</td>\n",
       "      <td>3998.0</td>\n",
       "      <td>87.0</td>\n",
       "      <td>0</td>\n",
       "    </tr>\n",
       "    <tr>\n",
       "      <th>39072</th>\n",
       "      <td>53.0</td>\n",
       "      <td>Self-emp-inc</td>\n",
       "      <td>9.0</td>\n",
       "      <td>Married-civ-spouse</td>\n",
       "      <td>Machine-op-inspct</td>\n",
       "      <td>Husband</td>\n",
       "      <td>White</td>\n",
       "      <td>1</td>\n",
       "      <td>1041.0</td>\n",
       "      <td>204.0</td>\n",
       "      <td>13.0</td>\n",
       "      <td>0</td>\n",
       "    </tr>\n",
       "  </tbody>\n",
       "</table>\n",
       "<p>39073 rows × 12 columns</p>\n",
       "</div>"
      ],
      "text/plain": [
       "        age     workclass  education-num         marital-status  \\\n",
       "0      75.0       Private            3.0     Married-civ-spouse   \n",
       "1      23.0       Private           11.0               Divorced   \n",
       "2      33.0     Local-gov            9.0          Never-married   \n",
       "3      18.0       Private            7.0          Never-married   \n",
       "4      52.0       Private           14.0     Married-civ-spouse   \n",
       "...     ...           ...            ...                    ...   \n",
       "39068  49.0       Private            4.0     Married-civ-spouse   \n",
       "39069  29.0       Private           13.0     Married-civ-spouse   \n",
       "39070  40.0     Local-gov           11.0     Married-civ-spouse   \n",
       "39071  31.0       Private            1.0  Married-spouse-absent   \n",
       "39072  53.0  Self-emp-inc            9.0     Married-civ-spouse   \n",
       "\n",
       "              occupation   relationship                race  sex  \\\n",
       "0        Exec-managerial        Husband               White    1   \n",
       "1        Exec-managerial      Unmarried               White    0   \n",
       "2        Protective-serv  Not-in-family               White    1   \n",
       "3           Adm-clerical      Own-child               White    1   \n",
       "4          Other-service        Husband               White    1   \n",
       "...                  ...            ...                 ...  ...   \n",
       "39068       Tech-support        Husband  Asian-Pac-Islander    1   \n",
       "39069     Prof-specialty        Husband               White    1   \n",
       "39070    Exec-managerial           Wife               White    0   \n",
       "39071       Adm-clerical      Unmarried               White    0   \n",
       "39072  Machine-op-inspct        Husband               White    1   \n",
       "\n",
       "       capital-gain  capital-loss  hours-per-week  income  \n",
       "0            2150.0        2708.0            87.0       0  \n",
       "1           10754.0         170.0            62.0       0  \n",
       "2            3382.0          86.0            44.0       0  \n",
       "3             786.0        4295.0             4.0       0  \n",
       "4            2655.0         182.0            73.0       0  \n",
       "...             ...           ...             ...     ...  \n",
       "39068        1966.0         203.0            40.0       1  \n",
       "39069        2369.0        1924.0            56.0       1  \n",
       "39070        4827.0         196.0            31.0       1  \n",
       "39071        4554.0        3998.0            87.0       0  \n",
       "39072        1041.0         204.0            13.0       0  \n",
       "\n",
       "[39073 rows x 12 columns]"
      ]
     },
     "execution_count": 404,
     "metadata": {},
     "output_type": "execute_result"
    }
   ],
   "source": [
    "df_train"
   ]
  },
  {
   "cell_type": "code",
   "execution_count": 405,
   "metadata": {},
   "outputs": [],
   "source": [
    "from aif360.detectors.mdss_detector import bias_scan\n",
    "\n",
    "privileged_subset = bias_scan(\n",
    "    data=X_train,\n",
    "    observations=y_train,\n",
    "    scoring=\"Bernoulli\",\n",
    "    expectations=probs,\n",
    "    overpredicted=True,\n",
    "    penalty=5,\n",
    "    alpha=0.24,\n",
    "    favorable_value=1,\n",
    ")\n",
    "\n",
    "unprivileged_subset = bias_scan(\n",
    "    data=X_train,\n",
    "    observations=y_train,\n",
    "    scoring=\"Bernoulli\",\n",
    "    expectations=probs,\n",
    "    overpredicted=False,\n",
    "    penalty=5,\n",
    "    alpha=0.24,\n",
    "    favorable_value=1\n",
    ")"
   ]
  },
  {
   "cell_type": "code",
   "execution_count": 406,
   "metadata": {},
   "outputs": [
    {
     "name": "stdout",
     "output_type": "stream",
     "text": [
      "({'age': [17.0, 18.0, 19.0, 20.0, 21.0, 22.0, 23.0, 24.0, 25.0, 26.0, 27.0, 64.0, 65.0, 66.0, 67.0, 68.0, 71.0, 76.0, 77.0, 78.0, 79.0, 80.0, 81.0, 82.0, 83.0, 84.0], 'relationship': ['Husband', 'Not-in-family', 'Own-child']}, 309.5611)\n",
      "({'relationship': ['Own-child', 'Unmarried'], 'age': [73.0, 74.0, 75.0, 80.0, 81.0, 87.0, 88.0, 89.0, 90.0]}, 133.9244)\n"
     ]
    }
   ],
   "source": [
    "print(privileged_subset)\n",
    "print(unprivileged_subset)"
   ]
  },
  {
   "cell_type": "code",
   "execution_count": 321,
   "metadata": {},
   "outputs": [
    {
     "name": "stdout",
     "output_type": "stream",
     "text": [
      "Sensitive Attributes: ['hours-per-week']\n",
      "\n",
      "                        Group Distance  Proportion  Counts  P-Value\n",
      "hours-per-week [54.00, 64.00]    0.044    0.093874    3572 5.41e-09\n",
      " hours-per-week [1.00, 17.00]   -0.036    0.104780    3987 2.68e-07\n",
      "hours-per-week [17.00, 30.00]   -0.033    0.100339    3818 3.92e-06\n",
      "hours-per-week [44.00, 54.00]    0.028    0.109406    4163 4.74e-05\n",
      "hours-per-week [39.00, 44.00]    0.025    0.095004    3615 6.15e-04\n",
      "\n",
      "Weighted Mean Statistical Distance: 0.03303463476641185\n"
     ]
    }
   ],
   "source": [
    "import fairlens as fl\n",
    "\n",
    "_df_train = df_train.copy()\n",
    "_df_train.dropna(inplace=True)\n",
    "_df_train.reset_index(inplace=True)\n",
    "\n",
    "fscorer = fl.FairnessScorer(\n",
    "    _df_train,\n",
    "    target_attr=\"income\",\n",
    "    sensitive_attrs=privileged_subset[0].keys()\n",
    ")\n",
    "\n",
    "fscorer.demographic_report()"
   ]
  },
  {
   "cell_type": "code",
   "execution_count": 322,
   "metadata": {},
   "outputs": [],
   "source": [
    "dff = X_train.copy()\n",
    "dff[\"observed\"] = y_train.copy()\n",
    "dff[\"probabilities\"] = probs.copy()"
   ]
  },
  {
   "cell_type": "code",
   "execution_count": 323,
   "metadata": {},
   "outputs": [
    {
     "data": {
      "text/plain": [
       "'Our detected privileged group has a size of 594, we observe 0.1869 as the average probability of earning >50k, but our model predicts 0.2676'"
      ]
     },
     "execution_count": 323,
     "metadata": {},
     "output_type": "execute_result"
    }
   ],
   "source": [
    "to_choose = dff[privileged_subset[0].keys()].isin(privileged_subset[0]).all(axis=1)\n",
    "temp_df = dff.loc[to_choose]\n",
    "\n",
    "\"Our detected privileged group has a size of {}, we observe {} as the average probability of earning >50k, but our model predicts {}\".format(\n",
    "    len(temp_df),\n",
    "    np.round(temp_df[\"observed\"].mean(), 4),\n",
    "    np.round(temp_df[\"probabilities\"].mean(), 4),\n",
    ")"
   ]
  },
  {
   "cell_type": "code",
   "execution_count": 324,
   "metadata": {},
   "outputs": [
    {
     "data": {
      "text/plain": [
       "'Our detected unprivileged group has a size of 186, we observe 0.5968 as the average probability of earning >50k, but our model predicts 0.2382'"
      ]
     },
     "execution_count": 324,
     "metadata": {},
     "output_type": "execute_result"
    }
   ],
   "source": [
    "to_choose = dff[unprivileged_subset[0].keys()].isin(unprivileged_subset[0]).all(axis=1)\n",
    "temp_df = dff.loc[to_choose]\n",
    "\n",
    "\"Our detected unprivileged group has a size of {}, we observe {} as the average probability of earning >50k, but our model predicts {}\".format(\n",
    "    len(temp_df),\n",
    "    np.round(temp_df[\"observed\"].mean(), 4),\n",
    "    np.round(temp_df[\"probabilities\"].mean(), 4),\n",
    ")"
   ]
  },
  {
   "cell_type": "markdown",
   "metadata": {},
   "source": [
    "### Fairness Metrics"
   ]
  },
  {
   "cell_type": "code",
   "execution_count": 341,
   "metadata": {},
   "outputs": [],
   "source": [
    "from aif360.sklearn.metrics import (\n",
    "    equal_opportunity_difference,\n",
    "    average_odds_difference,\n",
    "    statistical_parity_difference,\n",
    "    disparate_impact_ratio,\n",
    "    theil_index,\n",
    ")\n",
    "\n",
    "def create_dataset(df, protected_attributes, priveleged_groups) -> pd.DataFrame:\n",
    "    column_renaming = {}\n",
    "    _df = df.copy()  # Make a copy of the DataFrame to avoid modifying the original DataFrame\n",
    "\n",
    "    for i, col in enumerate(protected_attributes):\n",
    "        _df[f\"{col}_index\"] = _df[col].copy()\n",
    "        _df[f\"{col}\"] = _df[col].map(lambda x: 1 if x in priveleged_groups[i] else 0)\n",
    "        column_renaming[f\"{col}_index\"] = f\"{col}\"\n",
    "\n",
    "    if len(protected_attributes) > 0:\n",
    "        _df.set_index(protected_attributes, inplace=True)\n",
    "        _df = _df.rename(columns=column_renaming)\n",
    "\n",
    "    return _df\n",
    "\n",
    "\n",
    "def calculate_fairness_metrics(\n",
    "    observed, predictions, protected_attributes, priveleged_group\n",
    "):\n",
    "    fairness_metrics = {}\n",
    "\n",
    "    fairness_metrics[\"statistical_parity_difference\"] = statistical_parity_difference(\n",
    "        observed,\n",
    "        predictions,\n",
    "        prot_attr=protected_attributes,\n",
    "        priv_group=priveleged_group,\n",
    "    )\n",
    "    fairness_metrics[\"average_odds_difference\"] = average_odds_difference(\n",
    "        observed,\n",
    "        predictions,\n",
    "        prot_attr=protected_attributes,\n",
    "        priv_group=priveleged_group,\n",
    "    )\n",
    "    fairness_metrics[\"equal_opportunity_difference\"] = equal_opportunity_difference(\n",
    "        observed,\n",
    "        predictions,\n",
    "        prot_attr=protected_attributes,\n",
    "        priv_group=priveleged_group,\n",
    "    )\n",
    "    fairness_metrics[\"disparate_impact\"] = disparate_impact_ratio(\n",
    "        observed,\n",
    "        predictions,\n",
    "        prot_attr=protected_attributes,\n",
    "        priv_group=priveleged_group,\n",
    "    )\n",
    "    fairness_metrics[\"theil_index\"] = theil_index(1 + predictions - observed)\n",
    "\n",
    "    return fairness_metrics"
   ]
  },
  {
   "cell_type": "code",
   "execution_count": 342,
   "metadata": {},
   "outputs": [],
   "source": [
    "df_train_bias = create_dataset(\n",
    "    df_train.dropna(), list(privileged_subset[0].keys()), list(privileged_subset[0].values())\n",
    ")\n",
    "df_test_bias = create_dataset(\n",
    "    df_test.dropna(), list(privileged_subset[0].keys()), list(privileged_subset[0].values())\n",
    ")"
   ]
  },
  {
   "cell_type": "code",
   "execution_count": 343,
   "metadata": {},
   "outputs": [
    {
     "data": {
      "text/plain": [
       "{'Accuracy': 0.8176021741402738,\n",
       " 'Precision': 0.7677920543378745,\n",
       " 'Recall': 0.6842193517269446,\n",
       " 'F1': 0.7083168158339043}"
      ]
     },
     "execution_count": 343,
     "metadata": {},
     "output_type": "execute_result"
    }
   ],
   "source": [
    "model = create_model(nominal_features, random_state)\n",
    "y_test, y_pred = train_and_evaluate(model, df_train, df_test, target, drop_na=True)\n",
    "metrics = describe_model(y_test, y_pred)\n",
    "metrics"
   ]
  },
  {
   "cell_type": "code",
   "execution_count": 344,
   "metadata": {},
   "outputs": [
    {
     "data": {
      "text/plain": [
       "{'statistical_parity_difference': -0.07207834006563218,\n",
       " 'average_odds_difference': -0.11585294369324847,\n",
       " 'equal_opportunity_difference': -0.13502818460919025,\n",
       " 'disparate_impact': 0.7145697733400965,\n",
       " 'theil_index': 0.1739788205119391}"
      ]
     },
     "execution_count": 344,
     "metadata": {},
     "output_type": "execute_result"
    }
   ],
   "source": [
    "model = create_model(nominal_features, random_state)\n",
    "y_test, y_pred = train_and_evaluate(model, df_train, df_train, target, drop_na=True)\n",
    "metrics = calculate_fairness_metrics(\n",
    "    df_train_bias[target], y_pred, list(privileged_subset[0].keys()), (1,) * len(privileged_subset[0].keys())\n",
    ")\n",
    "metrics"
   ]
  },
  {
   "cell_type": "code",
   "execution_count": 345,
   "metadata": {},
   "outputs": [],
   "source": [
    "from aif360.datasets import StandardDataset\n",
    "\n",
    "def convert_to_standard_dataset(df, protected_attributes, privileged_classes, target_label_name, scores_name=\"\"):\n",
    "    favorable_target_label = [1]\n",
    "    categorical_features = nominal_features\n",
    "    categorical_features = [\n",
    "        col for col in categorical_features if col not in protected_attributes\n",
    "    ]\n",
    "\n",
    "    # create the `StandardDataset` object\n",
    "    standard_dataset = StandardDataset(\n",
    "        df=df,\n",
    "        label_name=target_label_name,\n",
    "        favorable_classes=favorable_target_label,\n",
    "        scores_name=scores_name,\n",
    "        protected_attribute_names=protected_attributes,\n",
    "        privileged_classes=privileged_classes,\n",
    "        categorical_features=categorical_features,\n",
    "    )\n",
    "\n",
    "    if scores_name == \"\":\n",
    "        standard_dataset.scores = standard_dataset.labels.copy()\n",
    "\n",
    "    return standard_dataset"
   ]
  },
  {
   "cell_type": "code",
   "execution_count": 346,
   "metadata": {},
   "outputs": [],
   "source": [
    "# Metrics function\n",
    "from collections import OrderedDict\n",
    "from aif360.metrics import ClassificationMetric, BinaryLabelDatasetMetric\n",
    "\n",
    "\n",
    "def compute_metrics(\n",
    "    dataset_true, dataset_pred, unprivileged_groups, privileged_groups, disp=True\n",
    "):\n",
    "    \"\"\"Compute the key metrics\"\"\"\n",
    "    classified_metric_pred = ClassificationMetric(\n",
    "        dataset_true,\n",
    "        dataset_pred,\n",
    "        unprivileged_groups=unprivileged_groups,\n",
    "        privileged_groups=privileged_groups,\n",
    "    )\n",
    "    metrics = OrderedDict()\n",
    "    metrics[\"Statistical parity difference\"] = (\n",
    "        classified_metric_pred.statistical_parity_difference()\n",
    "    )\n",
    "    metrics[\"Disparate impact\"] = classified_metric_pred.disparate_impact()\n",
    "    metrics[\"Average odds difference\"] = (\n",
    "        classified_metric_pred.average_odds_difference()\n",
    "    )\n",
    "    metrics[\"Equal opportunity difference\"] = (\n",
    "        classified_metric_pred.equal_opportunity_difference()\n",
    "    )\n",
    "    metrics[\"Theil index\"] = classified_metric_pred.theil_index()\n",
    "\n",
    "    if disp:\n",
    "        for k in metrics:\n",
    "            print(\"%s = %.4f\" % (k, metrics[k]))\n",
    "\n",
    "    return metrics"
   ]
  },
  {
   "cell_type": "code",
   "execution_count": 347,
   "metadata": {},
   "outputs": [
    {
     "name": "stderr",
     "output_type": "stream",
     "text": [
      "WARNING:root:Missing Data: 1022 rows removed from StandardDataset.\n"
     ]
    }
   ],
   "source": [
    "dataset_orig = convert_to_standard_dataset(df_train, list(privileged_subset[0].keys()), list(privileged_subset[0].values()), target_label_name=\"income\")"
   ]
  },
  {
   "cell_type": "code",
   "execution_count": 348,
   "metadata": {},
   "outputs": [],
   "source": [
    "from aif360.detectors.mdss_detector import bias_scan\n",
    "\n",
    "\n",
    "def iterate_it(df, model, penalty):\n",
    "    X_train, y_train = split_data(df, target, drop_na=True)\n",
    "    _, _ = train_and_evaluate(model, df, df, target, drop_na=True)\n",
    "    y_probs = pd.Series(model.predict_proba(X_train)[:, 1])\n",
    "\n",
    "    privileged_subset = bias_scan(\n",
    "        data=X_train,\n",
    "        observations=y_train,\n",
    "        scoring=\"Bernoulli\",\n",
    "        expectations=y_probs,\n",
    "        overpredicted=True,\n",
    "        penalty=penalty,\n",
    "        alpha=0.24,\n",
    "        favorable_value=1,\n",
    "    )\n",
    "\n",
    "    df_bias = create_dataset(\n",
    "        df.dropna(),\n",
    "        list(privileged_subset[0].keys()),\n",
    "        list(privileged_subset[0].values()),\n",
    "    )\n",
    "\n",
    "    if len(privileged_subset[0].keys()) == 0:\n",
    "        return {\n",
    "            \"statistical_parity_difference\": 0,\n",
    "            \"average_abs_odds_difference\": 0,\n",
    "            \"equal_opportunity_difference\": 0,\n",
    "            \"disparate_impact\": 1,\n",
    "            \"theil_index\": 0,\n",
    "        }, privileged_subset\n",
    "    else:\n",
    "        metrics = calculate_fairness_metrics(\n",
    "            df_bias[target],\n",
    "            y_pred,\n",
    "            list(privileged_subset[0].keys()),\n",
    "            (1,) * len(privileged_subset[0].keys()),\n",
    "        )\n",
    "        return metrics, privileged_subset"
   ]
  },
  {
   "cell_type": "code",
   "execution_count": 349,
   "metadata": {},
   "outputs": [],
   "source": [
    "df_bias = pd.DataFrame(\n",
    "    columns=[\n",
    "        \"statistical_parity_difference\",\n",
    "        \"average_abs_odds_difference\",\n",
    "        \"equal_opportunity_difference\",\n",
    "        \"disparate_impact\",\n",
    "        \"theil_index\",\n",
    "    ]\n",
    ")\n",
    "priv_subsets = {}\n",
    "\n",
    "for i in [1, 5, 25, 50, 100]:\n",
    "    metrics, priv = iterate_it(df_train, model, i)    \n",
    "    df_bias.loc[f\"penalty_{i}\"] = metrics.values()\n",
    "    priv_subsets[f\"penalty_{i}\"] = priv"
   ]
  },
  {
   "cell_type": "code",
   "execution_count": 350,
   "metadata": {},
   "outputs": [
    {
     "data": {
      "image/png": "[encoded data removed]",
      "text/plain": [
       "<Figure size 640x480 with 1 Axes>"
      ]
     },
     "metadata": {},
     "output_type": "display_data"
    }
   ],
   "source": [
    "df_bias.plot(kind=\"line\")\n",
    "plt.xlabel(\"Penalty\")\n",
    "plt.ylabel(\"Value\")\n",
    "plt.title(\"Metrics vs. Penalty\")\n",
    "plt.legend(title=\"Metrics\", bbox_to_anchor=(1.05, 1), loc='upper left')\n",
    "plt.grid(True)\n",
    "plt.xticks(rotation=45)\n",
    "plt.tight_layout()"
   ]
  },
  {
   "cell_type": "markdown",
   "metadata": {},
   "source": [
    "### Mitigation"
   ]
  },
  {
   "cell_type": "markdown",
   "metadata": {},
   "source": [
    "#### Reweigthing"
   ]
  },
  {
   "cell_type": "code",
   "execution_count": 374,
   "metadata": {},
   "outputs": [
    {
     "name": "stdout",
     "output_type": "stream",
     "text": [
      "Statistical parity difference = -0.0767\n",
      "Disparate impact = 0.7099\n",
      "Average odds difference = -0.1279\n",
      "Equal opportunity difference = -0.1618\n",
      "Theil index = 0.1797\n"
     ]
    }
   ],
   "source": [
    "privileged_groups = [{\"hours-per-week\": 1}]\n",
    "unprivileged_groups = [{\"hours-per-week\": 0}]\n",
    "\n",
    "dataset_orig = StandardDataset(\n",
    "    df=df_train.dropna(),\n",
    "    label_name=\"income\",\n",
    "    favorable_classes=[1],\n",
    "    scores_name=\"\",\n",
    "    protected_attribute_names=[\"hours-per-week\"],\n",
    "    privileged_classes=[lambda x: x in [2.0, 85.0, 86.0]],\n",
    "    categorical_features=[\n",
    "        \"workclass\",\n",
    "        \"marital-status\",\n",
    "        \"occupation\",\n",
    "        \"relationship\",\n",
    "        \"race\",\n",
    "    ],\n",
    ")\n",
    "dataset_orig.scores = dataset_orig.labels.copy()\n",
    "dataset_test = StandardDataset(\n",
    "    df=df_test.dropna(),\n",
    "    label_name=\"income\",\n",
    "    favorable_classes=[1],\n",
    "    scores_name=\"\",\n",
    "    protected_attribute_names=[\"hours-per-week\"],\n",
    "    privileged_classes=[lambda x: x in [2.0, 85.0, 86.0]],\n",
    "    categorical_features=[\n",
    "        \"workclass\",\n",
    "        \"marital-status\",\n",
    "        \"occupation\",\n",
    "        \"relationship\",\n",
    "        \"race\",\n",
    "    ],\n",
    ")\n",
    "dataset_test.scores = dataset_test.labels.copy()\n",
    "dataset_orig.scores = dataset_orig.labels.copy()\n",
    "\n",
    "clf = LogisticRegression()\n",
    "clf.fit(dataset_orig.features, dataset_orig.labels.ravel())\n",
    "y_pred = clf.predict(dataset_orig.features)\n",
    "\n",
    "dataset_pred = dataset_orig.copy()\n",
    "dataset_pred.labels = y_pred.reshape(-1, 1)\n",
    "dataset_pred.scores = y_pred.reshape(-1, 1)\n",
    "metrics2 = compute_metrics(\n",
    "    dataset_orig, dataset_pred, unprivileged_groups, privileged_groups\n",
    ")"
   ]
  },
  {
   "cell_type": "code",
   "execution_count": 375,
   "metadata": {},
   "outputs": [
    {
     "data": {
      "text/plain": [
       "{'statistical_parity_difference': -0.07668128365194335,\n",
       " 'average_odds_difference': -0.12792063949336696,\n",
       " 'equal_opportunity_difference': -0.16182513319384828,\n",
       " 'disparate_impact': 0.7098810032531571,\n",
       " 'theil_index': 0.17971030777666208}"
      ]
     },
     "execution_count": 375,
     "metadata": {},
     "output_type": "execute_result"
    }
   ],
   "source": [
    "y_pred = clf.predict(dataset_orig.features)\n",
    "calculate_fairness_metrics(df_train_bias[target], y_pred, list(privileged_subset[0].keys()), (1))"
   ]
  },
  {
   "cell_type": "code",
   "execution_count": 376,
   "metadata": {},
   "outputs": [
    {
     "data": {
      "text/plain": [
       "{'Accuracy': 0.8017142259851573,\n",
       " 'Precision': 0.7384522941307037,\n",
       " 'Recall': 0.6574265272952449,\n",
       " 'F1': 0.6784085604999975}"
      ]
     },
     "execution_count": 376,
     "metadata": {},
     "output_type": "execute_result"
    }
   ],
   "source": [
    "describe_model(df_test.dropna()[target], clf.predict(dataset_test.features))"
   ]
  },
  {
   "cell_type": "code",
   "execution_count": 377,
   "metadata": {},
   "outputs": [],
   "source": [
    "from aif360.algorithms.preprocessing import Reweighing\n",
    "\n",
    "privileged_groups = [{\"hours-per-week\": 1}]\n",
    "unprivileged_groups = [{\"hours-per-week\": 0}]\n",
    "\n",
    "RW = Reweighing(\n",
    "    unprivileged_groups=unprivileged_groups, privileged_groups=privileged_groups\n",
    ")\n",
    "\n",
    "RW.fit(dataset_orig)\n",
    "dataset_reweight = RW.transform(dataset_orig)"
   ]
  },
  {
   "cell_type": "code",
   "execution_count": 378,
   "metadata": {},
   "outputs": [
    {
     "name": "stdout",
     "output_type": "stream",
     "text": [
      "Column 'age' is the same in both DataFrames.\n"
     ]
    }
   ],
   "source": [
    "import pandas as pd\n",
    "\n",
    "# Check if the 'age' columns are equal\n",
    "column_name = 'age'\n",
    "df, _ = dataset_reweight.convert_to_dataframe()\n",
    "df1_aligned, df2_aligned = df[column_name].align((df_train.dropna())[column_name], join='inner')\n",
    "\n",
    "if df1_aligned.equals(df2_aligned):\n",
    "    print(f\"Column '{column_name}' is the same in both DataFrames.\")\n",
    "else:\n",
    "    print(f\"Column '{column_name}' differs in the DataFrames. Differences are at the following indices:\")\n",
    "    # Identify the indices where they differ\n",
    "    differences = df1_aligned != df2_aligned\n",
    "    differing_indices = differences[differences].index\n",
    "    \n",
    "    # Print the differing values and their indices\n",
    "    for idx in differing_indices:\n",
    "        print(f\"Index {idx}: df1[{column_name}] = {df1_aligned.at[idx]}, df2[{column_name}] = {df2_aligned.at[idx]}\")\n"
   ]
  },
  {
   "cell_type": "code",
   "execution_count": 379,
   "metadata": {},
   "outputs": [
    {
     "data": {
      "text/plain": [
       "{'Accuracy': 0.8141528169750183,\n",
       " 'Precision': 0.7558596083299096,\n",
       " 'Recall': 0.6890756935824046,\n",
       " 'F1': 0.7103622131227932}"
      ]
     },
     "execution_count": 379,
     "metadata": {},
     "output_type": "execute_result"
    }
   ],
   "source": [
    "model = create_model(nominal_features, random_state)\n",
    "y_test, y_pred = train_and_evaluate(model, df_train, df_test, target, drop_na=True, sample_weight=dataset_reweight.instance_weights)\n",
    "describe_model(y_test, y_pred)"
   ]
  },
  {
   "cell_type": "code",
   "execution_count": 380,
   "metadata": {},
   "outputs": [
    {
     "name": "stderr",
     "output_type": "stream",
     "text": [
      "WARNING:root:[1.0] listed but not observed for feature age\n"
     ]
    },
    {
     "name": "stdout",
     "output_type": "stream",
     "text": [
      "({'age': [17.0, 18.0, 19.0, 20.0, 21.0, 22.0, 23.0, 24.0, 25.0, 26.0, 27.0, 64.0, 65.0, 66.0, 67.0, 68.0, 71.0, 76.0, 77.0, 78.0, 79.0, 80.0, 81.0, 82.0, 83.0, 84.0], 'relationship': ['Husband', 'Not-in-family', 'Own-child']}, 309.5611)\n",
      "0 {'Accuracy': 0.8144663948991324, 'Precision': 0.7564746195561247, 'Recall': 0.6894306177151284, 'F1': 0.710794506680759}\n",
      "0 {'statistical_parity_difference': 0.15024897999015613, 'average_odds_difference': 0.004117031384759218, 'equal_opportunity_difference': -0.035874620829120296, 'disparate_impact': 2.7862244439325585, 'theil_index': 0.16603371546509008}\n"
     ]
    },
    {
     "name": "stderr",
     "output_type": "stream",
     "text": [
      "WARNING:root:[1.0] listed but not observed for feature age\n"
     ]
    },
    {
     "name": "stdout",
     "output_type": "stream",
     "text": [
      "({'age': [17.0, 18.0, 19.0, 20.0, 21.0, 22.0, 23.0, 24.0, 25.0, 26.0, 27.0, 64.0, 65.0, 66.0, 67.0, 68.0, 71.0, 76.0, 77.0, 78.0, 79.0, 80.0, 81.0, 82.0, 83.0, 84.0], 'relationship': ['Husband', 'Not-in-family', 'Own-child']}, 306.1014)\n"
     ]
    },
    {
     "name": "stderr",
     "output_type": "stream",
     "text": [
      "WARNING:root:[1.0] listed but not observed for feature age\n"
     ]
    },
    {
     "name": "stdout",
     "output_type": "stream",
     "text": [
      "({'age': [17.0, 18.0, 19.0, 20.0, 21.0, 22.0, 23.0, 24.0, 25.0, 26.0, 27.0, 64.0, 65.0, 66.0, 67.0, 68.0, 71.0, 76.0, 77.0, 78.0, 79.0, 80.0, 81.0, 82.0, 83.0, 84.0], 'relationship': ['Husband', 'Not-in-family', 'Own-child']}, 313.8341)\n"
     ]
    },
    {
     "name": "stderr",
     "output_type": "stream",
     "text": [
      "WARNING:root:[1.0] listed but not observed for feature age\n"
     ]
    },
    {
     "name": "stdout",
     "output_type": "stream",
     "text": [
      "({'age': [17.0, 18.0, 19.0, 20.0, 21.0, 22.0, 23.0, 24.0, 25.0, 26.0, 27.0, 65.0, 66.0, 68.0, 71.0, 76.0, 77.0, 78.0, 79.0, 80.0, 81.0, 82.0, 83.0, 84.0], 'relationship': ['Husband', 'Not-in-family', 'Own-child']}, 283.8476)\n"
     ]
    },
    {
     "name": "stderr",
     "output_type": "stream",
     "text": [
      "WARNING:root:[1.0] listed but not observed for feature relationship\n"
     ]
    },
    {
     "name": "stdout",
     "output_type": "stream",
     "text": [
      "({'relationship': ['Husband', 'Other-relative', 'Own-child', 'Wife'], 'age': [17.0, 18.0, 19.0, 20.0, 21.0, 22.0, 23.0, 24.0, 65.0, 77.0, 78.0, 80.0, 81.0, 82.0]}, 244.4901)\n"
     ]
    },
    {
     "name": "stderr",
     "output_type": "stream",
     "text": [
      "WARNING:root:[1.0] listed but not observed for feature age\n",
      "WARNING:root:[1.0] listed but not observed for feature marital-status\n"
     ]
    },
    {
     "name": "stdout",
     "output_type": "stream",
     "text": [
      "({'age': [17.0, 18.0, 19.0, 20.0, 21.0, 22.0, 23.0, 24.0, 77.0, 78.0, 79.0, 80.0, 81.0, 82.0, 83.0], 'marital-status': ['Married-civ-spouse', 'Never-married'], 'relationship': ['Husband', 'Own-child']}, 218.5805)\n",
      "5 {'Accuracy': 0.8148844987979513, 'Precision': 0.7630391166046389, 'Recall': 0.6794605332618461, 'F1': 0.7031192896922791}\n",
      "5 {'statistical_parity_difference': 0.17333990810598307, 'average_odds_difference': 0.09640551564045269, 'equal_opportunity_difference': 0.13293160788962433, 'disparate_impact': 8.531898587701908, 'theil_index': 0.1743724195264477}\n"
     ]
    },
    {
     "name": "stderr",
     "output_type": "stream",
     "text": [
      "WARNING:root:[1.0] listed but not observed for feature age\n"
     ]
    },
    {
     "name": "stdout",
     "output_type": "stream",
     "text": [
      "({'age': [17.0, 18.0, 19.0, 20.0, 21.0, 22.0, 23.0, 24.0, 65.0, 77.0, 78.0, 80.0, 81.0, 82.0], 'relationship': ['Husband', 'Not-in-family', 'Other-relative', 'Own-child', 'Wife']}, 272.8049)\n",
      "({'age': [17.0, 18.0, 19.0, 20.0, 21.0, 22.0, 23.0, 24.0, 65.0, 66.0, 67.0, 68.0, 77.0, 78.0, 82.0]}, 249.0649)\n",
      "({'age': [17.0, 18.0, 19.0, 20.0, 21.0, 22.0, 23.0, 24.0, 65.0, 77.0, 78.0, 82.0]}, 356.9521)\n",
      "({'age': [17.0, 18.0, 19.0, 20.0, 21.0, 22.0, 23.0, 24.0, 65.0, 77.0, 78.0]}, 397.4428)\n",
      "({'age': [17.0, 18.0, 19.0, 20.0, 21.0, 22.0, 23.0, 24.0, 65.0, 77.0, 78.0, 82.0]}, 374.814)\n",
      "10 {'Accuracy': 0.798160342845197, 'Precision': 0.7306498782660429, 'Recall': 0.6536020313574933, 'F1': 0.6736028899534587}\n",
      "10 {'statistical_parity_difference': 0.17691585195025966, 'average_odds_difference': 0.04859329974847068, 'equal_opportunity_difference': 0.021788660444970354, 'disparate_impact': 5.2785378778943, 'theil_index': 0.17831015434339836}\n",
      "({'age': [17.0, 18.0, 19.0, 20.0, 21.0, 22.0, 23.0, 24.0, 65.0, 77.0, 78.0]}, 432.2877)\n"
     ]
    },
    {
     "name": "stderr",
     "output_type": "stream",
     "text": [
      "WARNING:root:[1.0] listed but not observed for feature marital-status\n"
     ]
    },
    {
     "name": "stdout",
     "output_type": "stream",
     "text": [
      "({'marital-status': ['Married-spouse-absent', 'Never-married', 'Separated', 'Widowed'], 'age': [17.0, 18.0, 19.0, 20.0, 21.0, 22.0, 23.0, 24.0, 44.0, 52.0, 59.0, 60.0, 65.0, 66.0]}, 293.0165)\n"
     ]
    },
    {
     "name": "stderr",
     "output_type": "stream",
     "text": [
      "WARNING:root:[1.0] listed but not observed for feature age\n"
     ]
    },
    {
     "name": "stdout",
     "output_type": "stream",
     "text": [
      "({'age': [17.0, 18.0, 19.0, 20.0, 21.0, 22.0, 23.0, 24.0, 44.0, 58.0, 59.0, 60.0, 65.0, 66.0, 67.0, 77.0, 78.0], 'relationship': ['Not-in-family', 'Other-relative', 'Own-child', 'Unmarried', 'Wife']}, 359.7017)\n"
     ]
    },
    {
     "name": "stderr",
     "output_type": "stream",
     "text": [
      "WARNING:root:[1.0] listed but not observed for feature age\n"
     ]
    },
    {
     "name": "stdout",
     "output_type": "stream",
     "text": [
      "({'age': [17.0, 18.0, 19.0, 20.0, 21.0, 22.0, 23.0, 24.0, 44.0, 58.0, 59.0, 60.0, 65.0, 66.0, 67.0, 77.0, 78.0], 'relationship': ['Not-in-family', 'Other-relative', 'Own-child', 'Unmarried', 'Wife']}, 375.9584)\n",
      "({'age': [17.0, 18.0, 19.0, 20.0, 21.0, 22.0, 23.0, 24.0, 77.0, 78.0]}, 333.4115)\n",
      "15 {'Accuracy': 0.7749555764607505, 'Precision': 0.6929953192834816, 'Recall': 0.578932130538871, 'F1': 0.583322734886745}\n",
      "15 {'statistical_parity_difference': 0.12491364894017513, 'average_odds_difference': 0.01357191394352042, 'equal_opportunity_difference': -0.027552973229001854, 'disparate_impact': 6.093277868676531, 'theil_index': 0.2188899794560671}\n",
      "({'age': [17.0, 18.0, 19.0, 20.0, 21.0, 22.0, 23.0, 24.0, 77.0, 78.0]}, 332.6565)\n",
      "({'age': [17.0, 18.0, 19.0, 20.0, 21.0, 22.0, 23.0, 24.0, 77.0, 78.0]}, 434.976)\n"
     ]
    },
    {
     "name": "stderr",
     "output_type": "stream",
     "text": [
      "WARNING:root:[1.0] listed but not observed for feature age\n"
     ]
    },
    {
     "name": "stdout",
     "output_type": "stream",
     "text": [
      "({'age': [17.0, 18.0, 19.0, 20.0, 21.0, 22.0, 23.0, 24.0, 44.0, 58.0, 59.0, 60.0, 65.0, 66.0, 67.0, 77.0, 78.0], 'relationship': ['Not-in-family', 'Other-relative', 'Own-child', 'Unmarried', 'Wife']}, 343.1839)\n",
      "({'age': [17.0, 18.0, 19.0, 20.0, 21.0, 22.0, 23.0, 24.0, 77.0, 78.0]}, 364.7601)\n",
      "({'relationship': ['Not-in-family', 'Other-relative', 'Unmarried']}, 394.5071)\n",
      "20 {'Accuracy': 0.7633531932685272, 'Precision': 0.6553402900739971, 'Recall': 0.5469425744237149, 'F1': 0.5349050419596421}\n",
      "20 {'statistical_parity_difference': 0.039901655663142535, 'average_odds_difference': -0.015634888402917005, 'equal_opportunity_difference': -0.0283632861719936, 'disparate_impact': 1.5093748836656875, 'theil_index': 0.24088440374096556}\n",
      "({'relationship': ['Not-in-family', 'Other-relative', 'Unmarried']}, 522.5389)\n",
      "({'relationship': ['Not-in-family', 'Other-relative', 'Unmarried']}, 437.5767)\n",
      "({'relationship': ['Other-relative', 'Unmarried']}, 356.5612)\n"
     ]
    },
    {
     "name": "stderr",
     "output_type": "stream",
     "text": [
      "WARNING:root:[1.0] listed but not observed for feature age\n"
     ]
    },
    {
     "name": "stdout",
     "output_type": "stream",
     "text": [
      "({'age': [17.0, 18.0, 19.0, 20.0, 21.0, 22.0, 23.0, 24.0, 44.0, 52.0, 59.0, 60.0, 65.0, 66.0, 67.0], 'marital-status': ['Married-spouse-absent', 'Never-married', 'Separated', 'Widowed']}, 288.2447)\n"
     ]
    }
   ],
   "source": [
    "from aif360.detectors.mdss_detector import bias_scan\n",
    "\n",
    "def iterate(X_train, y_train, X_test, y_test, sample_weights=None):\n",
    "    model = create_model(nominal_features, random_state)\n",
    "    model.fit(X_train, y_train, clf__sample_weight=sample_weights)\n",
    "\n",
    "    probs = pd.Series(model.predict_proba(X_train)[:, 1])\n",
    "    privileged_subset = bias_scan(\n",
    "        data=X_train,\n",
    "        observations=y_train,\n",
    "        scoring=\"Bernoulli\",\n",
    "        expectations=probs,\n",
    "        overpredicted=True,\n",
    "        penalty=5,\n",
    "        alpha=0.24,\n",
    "        favorable_value=1,\n",
    "    )\n",
    "    print(privileged_subset)\n",
    "\n",
    "    if len(privileged_subset[0].keys()) <= 0:\n",
    "        return None, None, None\n",
    "    \n",
    "    dataset_orig = StandardDataset(\n",
    "        df=df_train.dropna(),\n",
    "        label_name=\"income\",\n",
    "        favorable_classes=[1],\n",
    "        scores_name=\"\",\n",
    "        protected_attribute_names=list(privileged_subset[0].keys()),\n",
    "        privileged_classes= [lambda x: x in value for _, value in privileged_subset[0].items()],\n",
    "        categorical_features=[col for col in nominal_features if col not in list(privileged_subset[0].keys())],\n",
    "    )\n",
    "\n",
    "    # dataset_orig = convert_to_standard_dataset(\n",
    "    #     df_train,\n",
    "    #     list(privileged_subset[0].keys()),\n",
    "    #     list(privileged_subset[0].values()),\n",
    "    #     target_label_name=\"income\",\n",
    "    # )\n",
    "    if sample_weights is not None:\n",
    "        dataset_orig.instance_weights = sample_weights\n",
    "    y_pred = model.predict(X_train)\n",
    "\n",
    "    dataset_pred = dataset_orig.copy()\n",
    "    dataset_pred.labels = y_pred.reshape(-1, 1)\n",
    "    dataset_pred.scores = y_pred.reshape(-1, 1)\n",
    "    model_metrics = describe_model(y_test, model.predict(X_test))\n",
    "\n",
    "    privileged_groups = [{key: 1 for key in list(privileged_subset[0].keys())}]\n",
    "    unprivileged_groups = [{key: 0 for key in list(privileged_subset[0].keys())}]\n",
    "\n",
    "    df_train_bias = df_train.copy()\n",
    "    df_train_bias.dropna(inplace=True)\n",
    "    df_train_bias = create_dataset(\n",
    "        df_train_bias, list(privileged_subset[0].keys()), list(privileged_subset[0].values())\n",
    "    )\n",
    "    fair_metrics = calculate_fairness_metrics(df_train_bias[target], y_pred, list(privileged_subset[0].keys()), (1,) * len(privileged_subset[0].keys()))\n",
    "    RW = Reweighing(\n",
    "        unprivileged_groups=unprivileged_groups, privileged_groups=privileged_groups\n",
    "    )\n",
    "\n",
    "    RW.fit(dataset_orig)\n",
    "    dataset = RW.transform(dataset_orig)\n",
    "    return dataset.instance_weights, model_metrics, fair_metrics\n",
    "\n",
    "\n",
    "df_bias = pd.DataFrame(\n",
    "    columns=[\n",
    "        \"statistical_parity_difference\",\n",
    "        \"average_abs_odds_difference\",\n",
    "        \"equal_opportunity_difference\",\n",
    "        \"disparate_impact\",\n",
    "        \"theil_index\",\n",
    "    ]\n",
    ")\n",
    "\n",
    "df_metrics = pd.DataFrame(\n",
    "    columns=['acc', 'prec', 'rec', 'f1']\n",
    ")\n",
    "\n",
    "weights = None\n",
    "\n",
    "weights_hist = [weights]\n",
    "max_iter = 25\n",
    "for i in range(max_iter):\n",
    "    # split the data\n",
    "    df_train.reset_index(inplace=True, drop=False)\n",
    "    X_train, y_train = split_data(df_train, target, True)\n",
    "    X_test, y_test = split_data(df_test, target, True)\n",
    "    weights, model_metrics, fair_metrics = iterate(X_train, y_train, X_test, y_test, weights)\n",
    "    if model_metrics is None:\n",
    "        break\n",
    "\n",
    "    df_metrics.loc[f\"mitigation_{i}\"] = model_metrics.values()\n",
    "    df_bias.loc[f\"mitigation_{i}\"] = fair_metrics.values()\n",
    "    weights_hist.append(weights)\n",
    "    if i == 0 or i % 5 == 0:\n",
    "        print(i, model_metrics)\n",
    "        print(i, fair_metrics)"
   ]
  },
  {
   "cell_type": "code",
   "execution_count": 382,
   "metadata": {},
   "outputs": [
    {
     "data": {
      "image/png": "[encoded data removed]",
      "text/plain": [
       "<Figure size 1000x500 with 2 Axes>"
      ]
     },
     "metadata": {},
     "output_type": "display_data"
    }
   ],
   "source": [
    "fig, axes = plt.subplots(nrows=1, ncols=2, figsize=(10, 5))\n",
    "\n",
    "    # Plotting df_bias\n",
    "df_bias.plot(kind=\"line\", ax=axes[0])\n",
    "axes[0].set_xlabel(\"Penalty\")\n",
    "axes[0].set_ylabel(\"Value\")\n",
    "axes[0].set_title(\"Bias Metrics vs. Penalty\")\n",
    "axes[0].grid(True)\n",
    "axes[0].tick_params(axis='x', rotation=45)\n",
    "\n",
    "    # Plotting df_metrics\n",
    "df_metrics.plot(kind=\"line\", ax=axes[1])\n",
    "axes[1].set_xlabel(\"Penalty\")\n",
    "axes[1].set_ylabel(\"Value\")\n",
    "axes[1].set_title(\"Performance Metrics vs. Penalty\")\n",
    "axes[1].legend(title=\"Metrics\", bbox_to_anchor=(1.05, 1), loc='upper left')\n",
    "axes[1].grid(True)\n",
    "axes[1].tick_params(axis='x', rotation=45)\n",
    "\n",
    "plt.tight_layout()\n",
    "plt.show()"
   ]
  },
  {
   "cell_type": "code",
   "execution_count": 4,
   "metadata": {},
   "outputs": [],
   "source": [
    "def draw_result(penalty):\n",
    "    df_bias = pd.read_csv(f\"df_bias_{penalty}.csv\")\n",
    "    df_metrics = pd.read_csv(f\"df_metrics_{penalty}.csv\")\n",
    "\n",
    "    fig, axes = plt.subplots(nrows=1, ncols=2, figsize=(10, 5))\n",
    "\n",
    "    # Plotting df_bias\n",
    "    df_bias.plot(kind=\"line\", ax=axes[0])\n",
    "    axes[0].set_xlabel(\"Penalty\")\n",
    "    axes[0].set_ylabel(\"Value\")\n",
    "    axes[0].set_title(\"Bias Metrics vs. Penalty\")\n",
    "    axes[0].grid(True)\n",
    "    axes[0].tick_params(axis='x', rotation=45)\n",
    "\n",
    "    # Plotting df_metrics\n",
    "    df_metrics.plot(kind=\"line\", ax=axes[1])\n",
    "    axes[1].set_xlabel(\"Penalty\")\n",
    "    axes[1].set_ylabel(\"Value\")\n",
    "    axes[1].set_title(\"Performance Metrics vs. Penalty\")\n",
    "    axes[1].legend(title=\"Metrics\", bbox_to_anchor=(1.05, 1), loc='upper left')\n",
    "    axes[1].grid(True)\n",
    "    axes[1].tick_params(axis='x', rotation=45)\n",
    "\n",
    "    plt.tight_layout()\n",
    "    plt.show()"
   ]
  },
  {
   "cell_type": "markdown",
   "metadata": {},
   "source": [
    "# Cleaned Data"
   ]
  },
  {
   "cell_type": "code",
   "execution_count": 407,
   "metadata": {},
   "outputs": [],
   "source": [
    "import numpy as np\n",
    "import pandas as pd\n",
    "from scipy.stats import gaussian_kde\n",
    "\n",
    "def clean_data(X: pd.DataFrame) -> pd.DataFrame:\n",
    "    X = X.reset_index(drop=True)\n",
    "    X = X.drop(columns=[\"fnlwgt\", \"education\"], errors=\"ignore\")\n",
    "    cols = list(X.columns)\n",
    "    X[cols] = X[cols].replace([\" ?\"], np.nan)\n",
    "    X = X.dropna()\n",
    "    \n",
    "    def strip_str(x):\n",
    "        if isinstance(x, str):\n",
    "            return x.strip()\n",
    "        else:\n",
    "            return x\n",
    "    X = X.applymap(strip_str)\n",
    "    \n",
    "    X[\"relationship\"] = X[\"relationship\"].replace([\"Husband\", \"Wife\"], \"Married\")\n",
    "    \n",
    "    # Define a function to categorize data using KDE\n",
    "    def categorize_with_kde(series, categories):\n",
    "        kde = gaussian_kde(series)\n",
    "        x_values = np.linspace(series.min(), series.max(), 1000)\n",
    "        pdf_values = kde(x_values)\n",
    "        \n",
    "        # Calculate cumulative density function\n",
    "        cdf_values = np.cumsum(pdf_values)\n",
    "        cdf_values = cdf_values / cdf_values[-1]\n",
    "        \n",
    "        # Find bin edges\n",
    "        bin_edges = np.interp(np.linspace(0, 1, len(categories) + 1), cdf_values, x_values)\n",
    "        \n",
    "        # Digitize the series based on bin edges\n",
    "        digitized = np.digitize(series, bins=bin_edges[1:-1], right=True)\n",
    "        \n",
    "        return pd.Categorical.from_codes(digitized, categories=categories)\n",
    "    \n",
    "    # Apply KDE-based categorization to continuous variables\n",
    "    X[\"hours-per-week\"] = categorize_with_kde(\n",
    "        X[\"hours-per-week\"], [\"PartTime\", \"MidTime\", \"FullTime\", \"OverTime\", \"BrainDrain\"]\n",
    "    )\n",
    "    \n",
    "    X[\"age\"] = categorize_with_kde(\n",
    "        X[\"age\"], [\"Young\", \"YoungAdult\", \"Adult\", \"Senior\", \"Elder\"]\n",
    "    )\n",
    "    \n",
    "    X[\"capital-gain\"] = categorize_with_kde(\n",
    "        X[\"capital-gain\"], [\"None\", \"Little\", \"Medium\", \"High\", \"Very High\"]\n",
    "    )\n",
    "    \n",
    "    X[\"capital-loss\"] = categorize_with_kde(\n",
    "        X[\"capital-loss\"], [\"None\", \"Little\", \"Medium\", \"High\", \"Very High\"]\n",
    "    )\n",
    "    \n",
    "    return X\n",
    "\n",
    "df_train_clean = clean_data(df_train.copy())\n",
    "df_test_clean = clean_data(df_test.copy())"
   ]
  },
  {
   "cell_type": "code",
   "execution_count": 425,
   "metadata": {},
   "outputs": [],
   "source": [
    "nominal_features = df_train_clean.select_dtypes(include=[\"object\", \"category\"]).columns.to_list()"
   ]
  },
  {
   "cell_type": "code",
   "execution_count": 426,
   "metadata": {},
   "outputs": [
    {
     "data": {
      "text/plain": [
       "{'Accuracy': 0.8178112260896833,\n",
       " 'Precision': 0.7642420240247624,\n",
       " 'Recall': 0.6910387218998956,\n",
       " 'F1': 0.713766746401525}"
      ]
     },
     "execution_count": 426,
     "metadata": {},
     "output_type": "execute_result"
    }
   ],
   "source": [
    "model = create_model(nominal_features, random_state)\n",
    "y_test, y_pred = train_and_evaluate(model, df_train_clean, df_test_clean, target, drop_na=True)\n",
    "metrics = describe_model(y_test, y_pred)\n",
    "metrics"
   ]
  },
  {
   "cell_type": "code",
   "execution_count": 427,
   "metadata": {},
   "outputs": [],
   "source": [
    "X_train, y_train = split_data(df_train_clean, target, drop_na=True)\n",
    "\n",
    "model = create_model(df_train_clean.select_dtypes(include=[\"object\", \"category\"]).columns.to_list(), random_state)\n",
    "model.fit(X_train, y_train)\n",
    "probs = pd.Series(model.predict_proba(X_train)[:, 1])"
   ]
  },
  {
   "cell_type": "code",
   "execution_count": 412,
   "metadata": {},
   "outputs": [],
   "source": [
    "from aif360.detectors.mdss_detector import bias_scan\n",
    "\n",
    "privileged_subset = bias_scan(\n",
    "    data=X_train,\n",
    "    observations=y_train,\n",
    "    scoring=\"Bernoulli\",\n",
    "    expectations=probs,\n",
    "    overpredicted=True,\n",
    "    penalty=5,\n",
    "    alpha=0.24,\n",
    "    favorable_value=1,\n",
    ")\n",
    "\n",
    "unprivileged_subset = bias_scan(\n",
    "    data=X_train,\n",
    "    observations=y_train,\n",
    "    scoring=\"Bernoulli\",\n",
    "    expectations=probs,\n",
    "    overpredicted=False,\n",
    "    penalty=5,\n",
    "    alpha=0.24,\n",
    "    favorable_value=1\n",
    ")"
   ]
  },
  {
   "cell_type": "code",
   "execution_count": 413,
   "metadata": {},
   "outputs": [
    {
     "name": "stdout",
     "output_type": "stream",
     "text": [
      "({'relationship': ['Own-child'], 'age': ['Young']}, 95.426)\n",
      "({'relationship': ['Own-child', 'Unmarried'], 'age': ['Elder']}, 102.8825)\n"
     ]
    }
   ],
   "source": [
    "print(privileged_subset)\n",
    "print(unprivileged_subset)"
   ]
  },
  {
   "cell_type": "code",
   "execution_count": 428,
   "metadata": {},
   "outputs": [
    {
     "name": "stdout",
     "output_type": "stream",
     "text": [
      "Sensitive Attributes: ['age', 'relationship']\n",
      "\n",
      "               Group Distance  Proportion  Counts   P-Value\n",
      "     Senior, Married    0.300    0.118709    4517  0.00e+00\n",
      "    Young, Own-child   -0.266    0.102494    3900  0.00e+00\n",
      "               Young   -0.230    0.209719    7980 4.94e-324\n",
      "             Married    0.192    0.451894   17195 4.94e-324\n",
      "       Not-in-family   -0.160    0.251741    9579 4.94e-324\n",
      "           Own-child   -0.188    0.154240    5869 6.00e-293\n",
      "      Adult, Married    0.235    0.105569    4017 1.05e-218\n",
      "Young, Not-in-family   -0.237    0.057475    2187 1.59e-197\n",
      "              Senior    0.143    0.189535    7212 9.86e-152\n",
      "      Elder, Married    0.185    0.110983    4223 1.14e-145\n",
      "\n",
      "Weighted Mean Statistical Distance: 0.16281838796637169\n"
     ]
    }
   ],
   "source": [
    "import fairlens as fl\n",
    "\n",
    "_df_train = df_train_clean.copy()\n",
    "_df_train.dropna(inplace=True)\n",
    "_df_train.reset_index(inplace=True)\n",
    "\n",
    "fscorer = fl.FairnessScorer(\n",
    "    _df_train,\n",
    "    target_attr=\"income\",\n",
    "    sensitive_attrs=privileged_subset[0].keys()\n",
    ")\n",
    "\n",
    "fscorer.demographic_report()"
   ]
  },
  {
   "cell_type": "code",
   "execution_count": 429,
   "metadata": {},
   "outputs": [],
   "source": [
    "dff = X_train.copy()\n",
    "dff[\"observed\"] = y_train.copy()\n",
    "dff[\"probabilities\"] = probs.copy()"
   ]
  },
  {
   "cell_type": "code",
   "execution_count": 430,
   "metadata": {},
   "outputs": [
    {
     "data": {
      "text/plain": [
       "'Our detected privileged group has a size of 3900, we observe 0.0 as the average probability of earning >50k, but our model predicts 0.2705'"
      ]
     },
     "execution_count": 430,
     "metadata": {},
     "output_type": "execute_result"
    }
   ],
   "source": [
    "to_choose = dff[privileged_subset[0].keys()].isin(privileged_subset[0]).all(axis=1)\n",
    "temp_df = dff.loc[to_choose]\n",
    "\n",
    "\"Our detected privileged group has a size of {}, we observe {} as the average probability of earning >50k, but our model predicts {}\".format(\n",
    "    len(temp_df),\n",
    "    np.round(temp_df[\"observed\"].mean(), 4),\n",
    "    np.round(temp_df[\"probabilities\"].mean(), 4),\n",
    ")"
   ]
  },
  {
   "cell_type": "code",
   "execution_count": 431,
   "metadata": {},
   "outputs": [
    {
     "data": {
      "text/plain": [
       "'Our detected unprivileged group has a size of 1353, we observe 0.4183 as the average probability of earning >50k, but our model predicts 0.2736'"
      ]
     },
     "execution_count": 431,
     "metadata": {},
     "output_type": "execute_result"
    }
   ],
   "source": [
    "to_choose = dff[unprivileged_subset[0].keys()].isin(unprivileged_subset[0]).all(axis=1)\n",
    "temp_df = dff.loc[to_choose]\n",
    "\n",
    "\"Our detected unprivileged group has a size of {}, we observe {} as the average probability of earning >50k, but our model predicts {}\".format(\n",
    "    len(temp_df),\n",
    "    np.round(temp_df[\"observed\"].mean(), 4),\n",
    "    np.round(temp_df[\"probabilities\"].mean(), 4),\n",
    ")"
   ]
  },
  {
   "cell_type": "markdown",
   "metadata": {},
   "source": [
    "### Fairness Metrics"
   ]
  },
  {
   "cell_type": "code",
   "execution_count": 483,
   "metadata": {},
   "outputs": [],
   "source": [
    "df_train_bias = create_dataset(\n",
    "    df_train_clean.dropna(), list(privileged_subset[0].keys()), list(privileged_subset[0].values())\n",
    ")\n",
    "df_test_bias = create_dataset(\n",
    "    df_test_clean.dropna(), list(privileged_subset[0].keys()), list(privileged_subset[0].values())\n",
    ")"
   ]
  },
  {
   "cell_type": "code",
   "execution_count": 484,
   "metadata": {},
   "outputs": [
    {
     "data": {
      "text/plain": [
       "{'Accuracy': 0.8178112260896833,\n",
       " 'Precision': 0.7642420240247624,\n",
       " 'Recall': 0.6910387218998956,\n",
       " 'F1': 0.713766746401525}"
      ]
     },
     "execution_count": 484,
     "metadata": {},
     "output_type": "execute_result"
    }
   ],
   "source": [
    "model = create_model(nominal_features, random_state)\n",
    "y_test, y_pred = train_and_evaluate(model, df_train_clean, df_test_clean, target, drop_na=True)\n",
    "metrics = describe_model(y_test, y_pred)\n",
    "metrics"
   ]
  },
  {
   "cell_type": "code",
   "execution_count": 485,
   "metadata": {},
   "outputs": [
    {
     "data": {
      "text/plain": [
       "{'statistical_parity_difference': 0.24133993148077656,\n",
       " 'average_odds_difference': 0.33529589671677523,\n",
       " 'equal_opportunity_difference': 0.5664528860384805,\n",
       " 'disparate_impact': 0.0,\n",
       " 'theil_index': 0.14691724858226457}"
      ]
     },
     "execution_count": 485,
     "metadata": {},
     "output_type": "execute_result"
    }
   ],
   "source": [
    "model = create_model(nominal_features, random_state)\n",
    "y_test, y_pred = train_and_evaluate(model, df_train_clean, df_train_clean, target, drop_na=True)\n",
    "metrics = calculate_fairness_metrics(\n",
    "    df_train_bias[target], y_pred, list(privileged_subset[0].keys()), (1,) * len(privileged_subset[0].keys())\n",
    ")\n",
    "metrics"
   ]
  },
  {
   "cell_type": "code",
   "execution_count": 486,
   "metadata": {},
   "outputs": [],
   "source": [
    "dataset_orig = convert_to_standard_dataset(df_train_clean, list(privileged_subset[0].keys()), list(privileged_subset[0].values()), target_label_name=\"income\")"
   ]
  },
  {
   "cell_type": "code",
   "execution_count": 437,
   "metadata": {},
   "outputs": [],
   "source": [
    "from aif360.detectors.mdss_detector import bias_scan\n",
    "\n",
    "\n",
    "def iterate_it(df, model, penalty):\n",
    "    X_train, y_train = split_data(df, target, drop_na=True)\n",
    "    _, _ = train_and_evaluate(model, df, df, target, drop_na=True)\n",
    "    y_probs = pd.Series(model.predict_proba(X_train)[:, 1])\n",
    "\n",
    "    privileged_subset = bias_scan(\n",
    "        data=X_train,\n",
    "        observations=y_train,\n",
    "        scoring=\"Bernoulli\",\n",
    "        expectations=y_probs,\n",
    "        overpredicted=True,\n",
    "        penalty=penalty,\n",
    "        alpha=0.24,\n",
    "        favorable_value=1,\n",
    "    )\n",
    "\n",
    "    df_bias = create_dataset(\n",
    "        df.dropna(),\n",
    "        list(privileged_subset[0].keys()),\n",
    "        list(privileged_subset[0].values()),\n",
    "    )\n",
    "\n",
    "    if len(privileged_subset[0].keys()) == 0:\n",
    "        return {\n",
    "            \"statistical_parity_difference\": 0,\n",
    "            \"average_abs_odds_difference\": 0,\n",
    "            \"equal_opportunity_difference\": 0,\n",
    "            \"disparate_impact\": 1,\n",
    "            \"theil_index\": 0,\n",
    "        }, privileged_subset\n",
    "    else:\n",
    "        metrics = calculate_fairness_metrics(\n",
    "            df_bias[target],\n",
    "            y_pred,\n",
    "            list(privileged_subset[0].keys()),\n",
    "            (1,) * len(privileged_subset[0].keys()),\n",
    "        )\n",
    "        return metrics, privileged_subset"
   ]
  },
  {
   "cell_type": "code",
   "execution_count": 438,
   "metadata": {},
   "outputs": [],
   "source": [
    "df_bias = pd.DataFrame(\n",
    "    columns=[\n",
    "        \"statistical_parity_difference\",\n",
    "        \"average_abs_odds_difference\",\n",
    "        \"equal_opportunity_difference\",\n",
    "        \"disparate_impact\",\n",
    "        \"theil_index\",\n",
    "    ]\n",
    ")\n",
    "priv_subsets = {}\n",
    "\n",
    "for i in [1, 5, 25, 50, 100]:\n",
    "    metrics, priv = iterate_it(df_train_clean, model, i)    \n",
    "    df_bias.loc[f\"penalty_{i}\"] = metrics.values()\n",
    "    priv_subsets[f\"penalty_{i}\"] = priv"
   ]
  },
  {
   "cell_type": "code",
   "execution_count": 439,
   "metadata": {},
   "outputs": [
    {
     "data": {
      "image/png": "[encoded data removed]",
      "text/plain": [
       "<Figure size 640x480 with 1 Axes>"
      ]
     },
     "metadata": {},
     "output_type": "display_data"
    }
   ],
   "source": [
    "df_bias.plot(kind=\"line\")\n",
    "plt.xlabel(\"Penalty\")\n",
    "plt.ylabel(\"Value\")\n",
    "plt.title(\"Metrics vs. Penalty\")\n",
    "plt.legend(title=\"Metrics\", bbox_to_anchor=(1.05, 1), loc='upper left')\n",
    "plt.grid(True)\n",
    "plt.xticks(rotation=45)\n",
    "plt.tight_layout()"
   ]
  },
  {
   "cell_type": "markdown",
   "metadata": {},
   "source": [
    "### Mitigation"
   ]
  },
  {
   "cell_type": "code",
   "execution_count": 487,
   "metadata": {},
   "outputs": [],
   "source": [
    "for col in df_train_clean.columns:\n",
    "    if df_train_clean[col].dtype.name == 'category':\n",
    "        df_train_clean[col] = df_train_clean[col].astype(str)\n",
    "\n",
    "for col in df_test_clean.columns:\n",
    "    if df_test_clean[col].dtype.name == 'category':\n",
    "        df_test_clean[col] = df_test_clean[col].astype(str)\n",
    "\n",
    "\n"
   ]
  },
  {
   "cell_type": "code",
   "execution_count": 488,
   "metadata": {},
   "outputs": [
    {
     "data": {
      "text/plain": [
       "({'relationship': ['Own-child'], 'age': ['Young']}, 95.426)"
      ]
     },
     "execution_count": 488,
     "metadata": {},
     "output_type": "execute_result"
    }
   ],
   "source": [
    "privileged_subset"
   ]
  },
  {
   "cell_type": "markdown",
   "metadata": {},
   "source": [
    "#### Reweigthing"
   ]
  },
  {
   "cell_type": "code",
   "execution_count": 489,
   "metadata": {},
   "outputs": [
    {
     "name": "stdout",
     "output_type": "stream",
     "text": [
      "Statistical parity difference = 0.2751\n",
      "Disparate impact = inf\n",
      "Average odds difference = nan\n",
      "Equal opportunity difference = nan\n",
      "Theil index = 0.1539\n"
     ]
    }
   ],
   "source": [
    "privileged_groups = [{key: 1 for key in list(privileged_subset[0].keys())}]\n",
    "unprivileged_groups = [{key: 0 for key in list(privileged_subset[0].keys())}]\n",
    "\n",
    "dataset_orig = StandardDataset(\n",
    "        df=df_train_clean.dropna(),\n",
    "        label_name=\"income\",\n",
    "        favorable_classes=[1],\n",
    "        scores_name=\"\",\n",
    "        protected_attribute_names=list(privileged_subset[0].keys()),\n",
    "        privileged_classes= [value for _, value in privileged_subset[0].items()],\n",
    "        categorical_features=[col for col in nominal_features if col not in list(privileged_subset[0].keys())],\n",
    "    )\n",
    "\n",
    "dataset_orig.scores = dataset_orig.labels.copy()\n",
    "dataset_test = StandardDataset(\n",
    "        df=df_test_clean.dropna(),\n",
    "        label_name=\"income\",\n",
    "        favorable_classes=[1],\n",
    "        scores_name=\"\",\n",
    "        protected_attribute_names=list(privileged_subset[0].keys()),\n",
    "        privileged_classes= [value for _, value in privileged_subset[0].items()],\n",
    "        categorical_features=[col for col in nominal_features if col not in list(privileged_subset[0].keys())],\n",
    "    )\n",
    "\n",
    "dataset_test.scores = dataset_test.labels.copy()\n",
    "\n",
    "clf = LogisticRegression()\n",
    "clf.fit(dataset_orig.features, dataset_orig.labels.ravel())\n",
    "y_pred = clf.predict(dataset_orig.features)\n",
    "\n",
    "dataset_pred = dataset_orig.copy()\n",
    "dataset_pred.labels = y_pred.reshape(-1, 1)\n",
    "dataset_pred.scores = y_pred.reshape(-1, 1)\n",
    "metrics2 = compute_metrics(\n",
    "    dataset_orig, dataset_pred, unprivileged_groups, privileged_groups\n",
    ")"
   ]
  },
  {
   "cell_type": "code",
   "execution_count": 490,
   "metadata": {},
   "outputs": [
    {
     "data": {
      "text/plain": [
       "{'statistical_parity_difference': 0.2321454715820913,\n",
       " 'average_odds_difference': 0.3217154975124296,\n",
       " 'equal_opportunity_difference': 0.542081894425259,\n",
       " 'disparate_impact': 0.0,\n",
       " 'theil_index': 0.15388800448782972}"
      ]
     },
     "execution_count": 490,
     "metadata": {},
     "output_type": "execute_result"
    }
   ],
   "source": [
    "y_pred = clf.predict(dataset_orig.features)\n",
    "calculate_fairness_metrics(df_train_bias[target], y_pred, list(privileged_subset[0].keys()), (1, 1))"
   ]
  },
  {
   "cell_type": "code",
   "execution_count": null,
   "metadata": {},
   "outputs": [],
   "source": [
    "describe_model(df_test_clean.dropna()[target], clf.predict(dataset_test.features))"
   ]
  },
  {
   "cell_type": "code",
   "execution_count": 468,
   "metadata": {},
   "outputs": [],
   "source": [
    "from aif360.algorithms.preprocessing import Reweighing\n",
    "\n",
    "privileged_groups = [{key: 1 for key in list(privileged_subset[0].keys())}]\n",
    "unprivileged_groups = [{key: 0 for key in list(privileged_subset[0].keys())}]\n",
    "\n",
    "RW = Reweighing(\n",
    "    unprivileged_groups=unprivileged_groups, privileged_groups=privileged_groups\n",
    ")\n",
    "\n",
    "RW.fit(dataset_orig)\n",
    "dataset_reweight = RW.transform(dataset_orig)"
   ]
  },
  {
   "cell_type": "code",
   "execution_count": 496,
   "metadata": {},
   "outputs": [
    {
     "name": "stdout",
     "output_type": "stream",
     "text": [
      "Column 'age' is the same in both DataFrames.\n"
     ]
    }
   ],
   "source": [
    "import pandas as pd\n",
    "\n",
    "# Check if the 'age' columns are equal\n",
    "column_name = 'age'\n",
    "df, _ = dataset_reweight.convert_to_dataframe()\n",
    "df1_aligned, df2_aligned = df[column_name].align((df_train.dropna())[column_name], join='inner')\n",
    "\n",
    "if df1_aligned.equals(df2_aligned):\n",
    "    print(f\"Column '{column_name}' is the same in both DataFrames.\")\n",
    "else:\n",
    "    print(f\"Column '{column_name}' differs in the DataFrames. Differences are at the following indices:\")\n",
    "    # Identify the indices where they differ\n",
    "    differences = df1_aligned != df2_aligned\n",
    "    differing_indices = differences[differences].index\n",
    "    \n",
    "    # Print the differing values and their indices\n",
    "    for idx in differing_indices:\n",
    "        print(f\"Index {idx}: df1[{column_name}] = {df1_aligned.at[idx]}, df2[{column_name}] = {df2_aligned.at[idx]}\")\n"
   ]
  },
  {
   "cell_type": "code",
   "execution_count": 499,
   "metadata": {},
   "outputs": [
    {
     "data": {
      "text/plain": [
       "{'Accuracy': 0.8228284728755095,\n",
       " 'Precision': 0.764740803011751,\n",
       " 'Recall': 0.7166142534517179,\n",
       " 'F1': 0.7346033098873799}"
      ]
     },
     "execution_count": 499,
     "metadata": {},
     "output_type": "execute_result"
    }
   ],
   "source": [
    "model = create_model(nominal_features, random_state)\n",
    "y_test, y_pred = train_and_evaluate(model, df_train, df_test, target, drop_na=True, sample_weight=dataset_reweight.instance_weights)\n",
    "describe_model(y_test, y_pred)"
   ]
  },
  {
   "cell_type": "code",
   "execution_count": 515,
   "metadata": {},
   "outputs": [
    {
     "name": "stdout",
     "output_type": "stream",
     "text": [
      "({'relationship': ['Own-child'], 'age': ['Young']}, 95.426)\n",
      "0 {'Accuracy': 0.8178112260896833, 'Precision': 0.7642420240247624, 'Recall': 0.6910387218998956, 'F1': 0.713766746401525}\n",
      "0 {'statistical_parity_difference': 0.24133993148077656, 'average_odds_difference': 0.33529589671677523, 'equal_opportunity_difference': 0.5664528860384805, 'disparate_impact': 0.0, 'theil_index': 0.14691724858226457}\n",
      "({'age': ['Young'], 'relationship': ['Own-child']}, 132.9166)\n",
      "({'age': ['Young'], 'relationship': ['Own-child']}, 171.3969)\n",
      "({'age': ['Young'], 'relationship': ['Own-child']}, 210.5994)\n",
      "({'age': ['Young'], 'relationship': ['Own-child']}, 249.727)\n",
      "({'age': ['Young'], 'relationship': ['Own-child']}, 286.4492)\n",
      "5 {'Accuracy': 0.7794501933730532, 'Precision': 0.7709001616682496, 'Recall': 0.5544217302569414, 'F1': 0.5402124304454787}\n",
      "5 {'statistical_parity_difference': 0.09905215074229158, 'average_odds_difference': 0.1480629004467971, 'equal_opportunity_difference': 0.2680809077454366, 'disparate_impact': 129.76779596497906, 'theil_index': 0.22516952237331078}\n",
      "({'age': ['Young'], 'relationship': ['Own-child']}, 322.0666)\n",
      "({'age': ['Young'], 'relationship': ['Own-child']}, 357.9065)\n",
      "({'age': ['Young'], 'relationship': ['Own-child']}, 390.9439)\n",
      "({'age': ['Young'], 'relationship': ['Own-child']}, 418.984)\n",
      "({'age': ['Young'], 'relationship': ['Own-child']}, 450.1673)\n",
      "10 {'Accuracy': 0.7684749660290582, 'Precision': 0.794312915439763, 'Recall': 0.5222511233582068, 'F1': 0.4788532013806972}\n",
      "10 {'statistical_parity_difference': 0.048233433867236684, 'average_odds_difference': 0.08449952122288225, 'equal_opportunity_difference': 0.16586087814504194, 'disparate_impact': 5.478818859100549, 'theil_index': 0.25602092956506173}\n",
      "({'age': ['Young'], 'relationship': ['Own-child']}, 480.9384)\n",
      "({'age': ['Young'], 'relationship': ['Own-child']}, 506.7275)\n",
      "({'age': ['Young'], 'relationship': ['Own-child']}, 536.7198)\n",
      "({'age': ['Young'], 'relationship': ['Own-child']}, 553.8012)\n",
      "({'age': ['Young'], 'relationship': ['Own-child']}, 580.853)\n",
      "15 {'Accuracy': 0.7669070764084875, 'Precision': 0.787547148981582, 'Recall': 0.5186947045965367, 'F1': 0.47179879679197345}\n",
      "15 {'statistical_parity_difference': 0.03961357890935356, 'average_odds_difference': 0.07640470728435395, 'equal_opportunity_difference': 0.1555007400098668, 'disparate_impact': 3.5326714384668665, 'theil_index': 0.25954195674734337}\n",
      "({'age': ['Young'], 'relationship': ['Own-child']}, 598.3742)\n",
      "({'age': ['Young'], 'relationship': ['Own-child']}, 615.5109)\n",
      "({'age': ['Young'], 'relationship': ['Own-child']}, 632.6996)\n",
      "({'age': ['Young'], 'relationship': ['Own-child']}, 654.3924)\n",
      "({'age': ['Young'], 'relationship': ['Own-child']}, 663.5708)\n",
      "20 {'Accuracy': 0.7666980244590781, 'Precision': 0.7857731240791461, 'Recall': 0.5182601109416041, 'F1': 0.4709503573651308}\n",
      "20 {'statistical_parity_difference': 0.03281475408235972, 'average_odds_difference': 0.07331373289205713, 'equal_opportunity_difference': 0.1562900838677849, 'disparate_impact': 2.4379498979910434, 'theil_index': 0.2596761008995957}\n",
      "({'age': ['Young'], 'relationship': ['Own-child']}, 671.6275)\n",
      "({'age': ['Young'], 'relationship': ['Own-child']}, 685.4795)\n",
      "({'age': ['Young'], 'relationship': ['Own-child']}, 700.7786)\n",
      "({'age': ['Young'], 'relationship': ['Own-child']}, 706.26)\n",
      "({'age': ['Young'], 'relationship': ['Own-child']}, 723.7521)\n",
      "25 {'Accuracy': 0.7670116023831922, 'Precision': 0.7858104435766675, 'Recall': 0.5190604845988406, 'F1': 0.47259578887204784}\n",
      "25 {'statistical_parity_difference': 0.029722018876948454, 'average_odds_difference': 0.07325774821095281, 'equal_opportunity_difference': 0.1603354711396152, 'disparate_impact': 2.083325921683168, 'theil_index': 0.258635449169335}\n",
      "({'age': ['Young'], 'relationship': ['Own-child']}, 727.6342)\n",
      "({'age': ['Young'], 'relationship': ['Own-child']}, 729.0392)\n",
      "({'age': ['Young'], 'relationship': ['Own-child']}, 743.5168)\n",
      "({'age': ['Young'], 'relationship': ['Own-child']}, 741.7086)\n",
      "({'age': ['Young'], 'relationship': ['Own-child']}, 758.1573)\n",
      "30 {'Accuracy': 0.7672206543326017, 'Precision': 0.7875158780565259, 'Recall': 0.5194950782537733, 'F1': 0.47344130529025225}\n",
      "30 {'statistical_parity_difference': 0.026512156793846935, 'average_odds_difference': 0.07300442756536903, 'equal_opportunity_difference': 0.16398618648248645, 'disparate_impact': 1.8271792919680245, 'theil_index': 0.2577301927327339}\n",
      "({'age': ['Young'], 'relationship': ['Own-child']}, 748.8147)\n",
      "({'age': ['Young'], 'relationship': ['Own-child']}, 755.6613)\n",
      "({'age': ['Young'], 'relationship': ['Own-child']}, 756.3998)\n",
      "({'age': ['Young'], 'relationship': ['Own-child']}, 756.1165)\n",
      "({'age': ['Young'], 'relationship': ['Own-child']}, 765.538)\n",
      "35 {'Accuracy': 0.7672206543326017, 'Precision': 0.7850167926476842, 'Recall': 0.5196435614286109, 'F1': 0.47381297156908886}\n",
      "35 {'statistical_parity_difference': 0.02641640557133515, 'average_odds_difference': 0.07352637767713216, 'equal_opportunity_difference': 0.16546620621608288, 'disparate_impact': 1.8048748572516178, 'theil_index': 0.257353782562541}\n",
      "({'age': ['Young'], 'relationship': ['Own-child']}, 764.852)\n",
      "({'age': ['Young'], 'relationship': ['Own-child']}, 769.6697)\n",
      "({'age': ['Young'], 'relationship': ['Own-child']}, 768.1583)\n",
      "({'age': ['Young'], 'relationship': ['Own-child']}, 774.0458)\n",
      "({'age': ['Young'], 'relationship': ['Own-child']}, 771.8777)\n",
      "40 {'Accuracy': 0.7673251803073063, 'Precision': 0.7834463037492057, 'Recall': 0.5200093414309149, 'F1': 0.47460532010868606}\n",
      "40 {'statistical_parity_difference': 0.025192917728128997, 'average_odds_difference': 0.07295550548092393, 'equal_opportunity_difference': 0.16556487419832264, 'disparate_impact': 1.7387396927797225, 'theil_index': 0.25739248605684406}\n",
      "({'age': ['Young'], 'relationship': ['Own-child']}, 778.4073)\n",
      "({'age': ['Young'], 'relationship': ['Own-child']}, 770.539)\n",
      "({'age': ['Young'], 'relationship': ['Own-child']}, 784.1155)\n",
      "({'age': ['Young'], 'relationship': ['Own-child']}, 778.7132)\n",
      "({'age': ['Young'], 'relationship': ['Own-child']}, 776.4018)\n",
      "45 {'Accuracy': 0.7677432842061253, 'Precision': 0.7890923194981982, 'Recall': 0.5207300455659425, 'F1': 0.4759186934978426}\n",
      "45 {'statistical_parity_difference': 0.026034962372990543, 'average_odds_difference': 0.07387078866957025, 'equal_opportunity_difference': 0.16684755796743955, 'disparate_impact': 1.7692147973838115, 'theil_index': 0.2570233427032558}\n",
      "({'age': ['Young'], 'relationship': ['Own-child']}, 784.0657)\n",
      "({'age': ['Young'], 'relationship': ['Own-child']}, 776.481)\n",
      "({'age': ['Young'], 'relationship': ['Own-child']}, 782.1581)\n",
      "({'age': ['Young'], 'relationship': ['Own-child']}, 775.7664)\n",
      "({'age': ['Young'], 'relationship': ['Own-child']}, 777.9893)\n",
      "50 {'Accuracy': 0.7676387582314205, 'Precision': 0.7859119245947663, 'Recall': 0.5206612319133138, 'F1': 0.47586731661682047}\n",
      "50 {'statistical_parity_difference': 0.025888553775877718, 'average_odds_difference': 0.07365263325139315, 'equal_opportunity_difference': 0.16645288603848052, 'disparate_impact': 1.7648890888327509, 'theil_index': 0.25714715395881876}\n",
      "({'age': ['Young'], 'relationship': ['Own-child']}, 781.7422)\n",
      "({'age': ['Young'], 'relationship': ['Own-child']}, 782.3846)\n",
      "({'age': ['Young'], 'relationship': ['Own-child']}, 782.3141)\n",
      "({'age': ['Young'], 'relationship': ['Own-child']}, 781.6601)\n",
      "({'age': ['Young'], 'relationship': ['Own-child']}, 784.2652)\n",
      "55 {'Accuracy': 0.7677432842061253, 'Precision': 0.7867095906207957, 'Recall': 0.5208785287407801, 'F1': 0.4762873385837945}\n",
      "55 {'statistical_parity_difference': 0.025405014982479775, 'average_odds_difference': 0.07344555698610276, 'equal_opportunity_difference': 0.16655155402072028, 'disparate_impact': 1.7393996897885904, 'theil_index': 0.25713736367388507}\n",
      "({'age': ['Young'], 'relationship': ['Own-child']}, 778.4583)\n",
      "({'age': ['Young'], 'relationship': ['Own-child']}, 777.2363)\n",
      "({'age': ['Young'], 'relationship': ['Own-child']}, 784.67)\n",
      "({'age': ['Young'], 'relationship': ['Own-child']}, 777.2295)\n",
      "({'age': ['Young'], 'relationship': ['Own-child']}, 775.1944)\n",
      "60 {'Accuracy': 0.7677432842061253, 'Precision': 0.7890923194981982, 'Recall': 0.5207300455659425, 'F1': 0.4759186934978426}\n",
      "60 {'statistical_parity_difference': 0.02545645320293207, 'average_odds_difference': 0.0733139677887358, 'equal_opportunity_difference': 0.16615688209176122, 'disparate_impact': 1.7464674247476322, 'theil_index': 0.25722489643318996}\n",
      "({'age': ['Young'], 'relationship': ['Own-child']}, 782.454)\n",
      "({'age': ['Young'], 'relationship': ['Own-child']}, 773.3814)\n",
      "({'age': ['Young'], 'relationship': ['Own-child']}, 785.3133)\n",
      "({'age': ['Young'], 'relationship': ['Own-child']}, 782.1539)\n",
      "({'age': ['Young'], 'relationship': ['Own-child']}, 786.6058)\n",
      "65 {'Accuracy': 0.7678478101808299, 'Precision': 0.7898711463078716, 'Recall': 0.5209473423934088, 'F1': 0.47633887098783545}\n",
      "65 {'statistical_parity_difference': 0.025126448225039774, 'average_odds_difference': 0.07344124597153984, 'equal_opportunity_difference': 0.16684755796743955, 'disparate_impact': 1.72053785351217, 'theil_index': 0.2571200233152002}\n",
      "({'age': ['Young'], 'relationship': ['Own-child']}, 781.4417)\n",
      "({'age': ['Young'], 'relationship': ['Own-child']}, 782.0112)\n",
      "({'age': ['Young'], 'relationship': ['Own-child']}, 786.4249)\n",
      "({'age': ['Young'], 'relationship': ['Own-child']}, 780.8581)\n",
      "({'age': ['Young'], 'relationship': ['Own-child']}, 774.2196)\n",
      "70 {'Accuracy': 0.7679523361555346, 'Precision': 0.7906385369387483, 'Recall': 0.5211646392208752, 'F1': 0.47675872711792255}\n",
      "70 {'statistical_parity_difference': 0.026291372629400796, 'average_odds_difference': 0.07394196472293071, 'equal_opportunity_difference': 0.16665022200296004, 'disparate_impact': 1.78272025385239, 'theil_index': 0.2571033861137925}\n",
      "({'age': ['Young'], 'relationship': ['Own-child']}, 774.6828)\n",
      "({'age': ['Young'], 'relationship': ['Own-child']}, 774.3514)\n",
      "({'age': ['Young'], 'relationship': ['Own-child']}, 784.6468)\n",
      "({'age': ['Young'], 'relationship': ['Own-child']}, 781.0531)\n",
      "({'age': ['Young'], 'relationship': ['Own-child']}, 781.4895)\n",
      "75 {'Accuracy': 0.7677432842061253, 'Precision': 0.7867095906207957, 'Recall': 0.5208785287407801, 'F1': 0.4762873385837945}\n",
      "75 {'statistical_parity_difference': 0.025389983699842855, 'average_odds_difference': 0.07397079550388584, 'equal_opportunity_difference': 0.16803157375431674, 'disparate_impact': 1.7280951208043172, 'theil_index': 0.25667615124987375}\n",
      "({'age': ['Young'], 'relationship': ['Own-child']}, 783.0704)\n",
      "({'age': ['Young'], 'relationship': ['Own-child']}, 782.1732)\n",
      "({'age': ['Young'], 'relationship': ['Own-child']}, 777.6067)\n",
      "({'age': ['Young'], 'relationship': ['Own-child']}, 785.8377)\n",
      "({'age': ['Young'], 'relationship': ['Own-child']}, 777.5861)\n",
      "80 {'Accuracy': 0.7677432842061253, 'Precision': 0.7867095906207957, 'Recall': 0.5208785287407801, 'F1': 0.4762873385837945}\n",
      "80 {'statistical_parity_difference': 0.02592496071369311, 'average_odds_difference': 0.07398925349696456, 'equal_opportunity_difference': 0.16734089787863837, 'disparate_impact': 1.7602056149128054, 'theil_index': 0.25686557549738537}\n",
      "({'age': ['Young'], 'relationship': ['Own-child']}, 783.4769)\n",
      "({'age': ['Young'], 'relationship': ['Own-child']}, 779.4739)\n",
      "({'age': ['Young'], 'relationship': ['Own-child']}, 782.2201)\n",
      "({'age': ['Young'], 'relationship': ['Own-child']}, 779.4327)\n",
      "({'age': ['Young'], 'relationship': ['Own-child']}, 779.829)\n",
      "85 {'Accuracy': 0.7677432842061253, 'Precision': 0.7844004931576001, 'Recall': 0.5210270119156178, 'F1': 0.4766553623423605}\n",
      "85 {'statistical_parity_difference': 0.025814959054395674, 'average_odds_difference': 0.0740506892495141, 'equal_opportunity_difference': 0.16763690182535768, 'disparate_impact': 1.7513308978518145, 'theil_index': 0.25679992873249424}\n",
      "({'age': ['Young'], 'relationship': ['Own-child']}, 778.2776)\n",
      "({'age': ['Young'], 'relationship': ['Own-child']}, 782.6629)\n",
      "({'age': ['Young'], 'relationship': ['Own-child']}, 782.7032)\n",
      "({'age': ['Young'], 'relationship': ['Own-child']}, 784.7536)\n",
      "({'age': ['Young'], 'relationship': ['Own-child']}, 779.0386)\n",
      "90 {'Accuracy': 0.7677432842061253, 'Precision': 0.7890923194981982, 'Recall': 0.5207300455659425, 'F1': 0.4759186934978426}\n",
      "90 {'statistical_parity_difference': 0.025983524152538233, 'average_odds_difference': 0.07408792147920433, 'equal_opportunity_difference': 0.16753823384311792, 'disparate_impact': 1.761922888683452, 'theil_index': 0.25679763998814}\n",
      "({'age': ['Young'], 'relationship': ['Own-child']}, 781.2323)\n",
      "({'age': ['Young'], 'relationship': ['Own-child']}, 781.1803)\n",
      "({'age': ['Young'], 'relationship': ['Own-child']}, 790.2123)\n",
      "({'age': ['Young'], 'relationship': ['Own-child']}, 783.4873)\n",
      "({'age': ['Young'], 'relationship': ['Own-child']}, 782.8727)\n",
      "95 {'Accuracy': 0.7678478101808299, 'Precision': 0.7898711463078716, 'Recall': 0.5209473423934088, 'F1': 0.47633887098783545}\n",
      "95 {'statistical_parity_difference': 0.024840756249206952, 'average_odds_difference': 0.07326370685221485, 'equal_opportunity_difference': 0.1667488899851998, 'disparate_impact': 1.7071456158533365, 'theil_index': 0.2571660780762088}\n",
      "({'age': ['Young'], 'relationship': ['Own-child']}, 776.1043)\n",
      "({'age': ['Young'], 'relationship': ['Own-child']}, 785.1824)\n",
      "({'age': ['Young'], 'relationship': ['Own-child']}, 782.227)\n",
      "({'age': ['Young'], 'relationship': ['Own-child']}, 778.1314)\n"
     ]
    }
   ],
   "source": [
    "from aif360.detectors.mdss_detector import bias_scan\n",
    "\n",
    "def iterate(X_train, y_train, X_test, y_test, sample_weights=None):\n",
    "    model = create_model(nominal_features, random_state)\n",
    "    model.fit(X_train, y_train, clf__sample_weight=sample_weights)\n",
    "\n",
    "    probs = pd.Series(model.predict_proba(X_train)[:, 1])\n",
    "    privileged_subset = bias_scan(\n",
    "        data=X_train,\n",
    "        observations=y_train,\n",
    "        scoring=\"Bernoulli\",\n",
    "        expectations=probs,\n",
    "        overpredicted=True,\n",
    "        penalty=5,\n",
    "        alpha=0.24,\n",
    "        favorable_value=1,\n",
    "    )\n",
    "    print(privileged_subset)\n",
    "\n",
    "    if len(privileged_subset[0].keys()) <= 0:\n",
    "        return None, None, None\n",
    "    \n",
    "    dataset_orig = StandardDataset(\n",
    "        df=df_train_clean.dropna(),\n",
    "        label_name=\"income\",\n",
    "        favorable_classes=[1],\n",
    "        scores_name=\"\",\n",
    "        protected_attribute_names=list(privileged_subset[0].keys()),\n",
    "        privileged_classes= [value for _, value in privileged_subset[0].items()],\n",
    "        categorical_features=[col for col in nominal_features if col not in list(privileged_subset[0].keys())],\n",
    "    )\n",
    "    \n",
    "    if sample_weights is not None:\n",
    "        dataset_orig.instance_weights = sample_weights\n",
    "    y_pred = model.predict(X_train)\n",
    "\n",
    "    dataset_pred = dataset_orig.copy()\n",
    "    dataset_pred.labels = y_pred.reshape(-1, 1)\n",
    "    dataset_pred.scores = y_pred.reshape(-1, 1)\n",
    "    model_metrics = describe_model(y_test, model.predict(X_test))\n",
    "\n",
    "    privileged_groups = [{key: 1 for key in list(privileged_subset[0].keys())}]\n",
    "    unprivileged_groups = [{key: 0 for key in list(privileged_subset[0].keys())}]\n",
    "\n",
    "    df_train_bias = df_train_clean.copy()\n",
    "    df_train_bias.dropna(inplace=True)\n",
    "    df_train_bias = create_dataset(\n",
    "        df_train_bias, list(privileged_subset[0].keys()), list(privileged_subset[0].values())\n",
    "    )\n",
    "    fair_metrics = calculate_fairness_metrics(df_train_bias[target], y_pred, list(privileged_subset[0].keys()), (1,) * len(privileged_subset[0].keys()))\n",
    "    RW = Reweighing(\n",
    "        unprivileged_groups=unprivileged_groups, privileged_groups=privileged_groups\n",
    "    )\n",
    "\n",
    "    RW.fit(dataset_orig)\n",
    "    dataset = RW.transform(dataset_orig)\n",
    "    return dataset.instance_weights, model_metrics, fair_metrics\n",
    "\n",
    "\n",
    "df_bias = pd.DataFrame(\n",
    "    columns=[\n",
    "        \"statistical_parity_difference\",\n",
    "        \"average_abs_odds_difference\",\n",
    "        \"equal_opportunity_difference\",\n",
    "        \"disparate_impact\",\n",
    "        \"theil_index\",\n",
    "    ]\n",
    ")\n",
    "\n",
    "df_metrics = pd.DataFrame(\n",
    "    columns=['acc', 'prec', 'rec', 'f1']\n",
    ")\n",
    "\n",
    "weights = None\n",
    "\n",
    "weights_hist = [weights]\n",
    "max_iter = 100\n",
    "for i in range(max_iter):\n",
    "    # split the data\n",
    "    \n",
    "    X_train, y_train = split_data(df_train_clean, target, True)\n",
    "    X_test, y_test = split_data(df_test_clean, target, True)\n",
    "    weights, model_metrics, fair_metrics = iterate(X_train, y_train, X_test, y_test, weights)\n",
    "    if model_metrics is None:\n",
    "        break\n",
    "\n",
    "    df_metrics.loc[f\"mitigation_{i}\"] = model_metrics.values()\n",
    "    df_bias.loc[f\"mitigation_{i}\"] = fair_metrics.values()\n",
    "    weights_hist.append(weights)\n",
    "    if i == 0 or i % 5 == 0:\n",
    "        print(i, model_metrics)\n",
    "        print(i, fair_metrics)"
   ]
  },
  {
   "cell_type": "code",
   "execution_count": 517,
   "metadata": {},
   "outputs": [],
   "source": [
    "df_bias.to_json(\"df_bias_100.json\")\n",
    "df_metrics.to_json(\"df_metrics_100.json\")"
   ]
  },
  {
   "cell_type": "code",
   "execution_count": 518,
   "metadata": {},
   "outputs": [
    {
     "data": {
      "image/png": "[encoded data removed]",
      "text/plain": [
       "<Figure size 1000x500 with 2 Axes>"
      ]
     },
     "metadata": {},
     "output_type": "display_data"
    }
   ],
   "source": [
    "fig, axes = plt.subplots(nrows=1, ncols=2, figsize=(10, 5))\n",
    "\n",
    "    # Plotting df_bias\n",
    "df_bias[8:].plot(kind=\"line\", ax=axes[0])\n",
    "axes[0].set_xlabel(\"Penalty\")\n",
    "axes[0].set_ylabel(\"Value\")\n",
    "axes[0].set_title(\"Bias Metrics vs. Penalty\")\n",
    "axes[0].grid(True)\n",
    "axes[0].tick_params(axis='x', rotation=45)\n",
    "\n",
    "    # Plotting df_metrics\n",
    "df_metrics.plot(kind=\"line\", ax=axes[1])\n",
    "axes[1].set_xlabel(\"Penalty\")\n",
    "axes[1].set_ylabel(\"Value\")\n",
    "axes[1].set_title(\"Performance Metrics vs. Penalty\")\n",
    "axes[1].legend(title=\"Metrics\", bbox_to_anchor=(1.05, 1), loc='upper left')\n",
    "axes[1].grid(True)\n",
    "axes[1].tick_params(axis='x', rotation=45)\n",
    "\n",
    "plt.tight_layout()\n",
    "plt.show()"
   ]
  },
  {
   "cell_type": "code",
   "execution_count": 519,
   "metadata": {},
   "outputs": [
    {
     "data": {
      "text/html": [
       "<div>\n",
       "<style scoped>\n",
       "    .dataframe tbody tr th:only-of-type {\n",
       "        vertical-align: middle;\n",
       "    }\n",
       "\n",
       "    .dataframe tbody tr th {\n",
       "        vertical-align: top;\n",
       "    }\n",
       "\n",
       "    .dataframe thead th {\n",
       "        text-align: right;\n",
       "    }\n",
       "</style>\n",
       "<table border=\"1\" class=\"dataframe\">\n",
       "  <thead>\n",
       "    <tr style=\"text-align: right;\">\n",
       "      <th></th>\n",
       "      <th>statistical_parity_difference</th>\n",
       "      <th>average_abs_odds_difference</th>\n",
       "      <th>equal_opportunity_difference</th>\n",
       "      <th>disparate_impact</th>\n",
       "      <th>theil_index</th>\n",
       "    </tr>\n",
       "  </thead>\n",
       "  <tbody>\n",
       "    <tr>\n",
       "      <th>mitigation_0</th>\n",
       "      <td>0.241340</td>\n",
       "      <td>0.335296</td>\n",
       "      <td>0.566453</td>\n",
       "      <td>0.000000</td>\n",
       "      <td>0.146917</td>\n",
       "    </tr>\n",
       "    <tr>\n",
       "      <th>mitigation_1</th>\n",
       "      <td>0.189775</td>\n",
       "      <td>0.271344</td>\n",
       "      <td>0.472028</td>\n",
       "      <td>0.000000</td>\n",
       "      <td>0.169352</td>\n",
       "    </tr>\n",
       "    <tr>\n",
       "      <th>mitigation_2</th>\n",
       "      <td>0.163451</td>\n",
       "      <td>0.236431</td>\n",
       "      <td>0.415984</td>\n",
       "      <td>0.000000</td>\n",
       "      <td>0.183973</td>\n",
       "    </tr>\n",
       "    <tr>\n",
       "      <th>mitigation_3</th>\n",
       "      <td>0.142960</td>\n",
       "      <td>0.209171</td>\n",
       "      <td>0.371880</td>\n",
       "      <td>558.545870</td>\n",
       "      <td>0.195707</td>\n",
       "    </tr>\n",
       "    <tr>\n",
       "      <th>mitigation_4</th>\n",
       "      <td>0.120509</td>\n",
       "      <td>0.177693</td>\n",
       "      <td>0.318007</td>\n",
       "      <td>235.991625</td>\n",
       "      <td>0.211046</td>\n",
       "    </tr>\n",
       "    <tr>\n",
       "      <th>...</th>\n",
       "      <td>...</td>\n",
       "      <td>...</td>\n",
       "      <td>...</td>\n",
       "      <td>...</td>\n",
       "      <td>...</td>\n",
       "    </tr>\n",
       "    <tr>\n",
       "      <th>mitigation_95</th>\n",
       "      <td>0.024841</td>\n",
       "      <td>0.073264</td>\n",
       "      <td>0.166749</td>\n",
       "      <td>1.707146</td>\n",
       "      <td>0.257166</td>\n",
       "    </tr>\n",
       "    <tr>\n",
       "      <th>mitigation_96</th>\n",
       "      <td>0.025771</td>\n",
       "      <td>0.073512</td>\n",
       "      <td>0.166256</td>\n",
       "      <td>1.761429</td>\n",
       "      <td>0.257191</td>\n",
       "    </tr>\n",
       "    <tr>\n",
       "      <th>mitigation_97</th>\n",
       "      <td>0.025756</td>\n",
       "      <td>0.073952</td>\n",
       "      <td>0.167440</td>\n",
       "      <td>1.749626</td>\n",
       "      <td>0.256868</td>\n",
       "    </tr>\n",
       "    <tr>\n",
       "      <th>mitigation_98</th>\n",
       "      <td>0.025984</td>\n",
       "      <td>0.074116</td>\n",
       "      <td>0.167637</td>\n",
       "      <td>1.761923</td>\n",
       "      <td>0.256752</td>\n",
       "    </tr>\n",
       "    <tr>\n",
       "      <th>mitigation_99</th>\n",
       "      <td>0.025669</td>\n",
       "      <td>0.073861</td>\n",
       "      <td>0.167341</td>\n",
       "      <td>1.747070</td>\n",
       "      <td>0.256878</td>\n",
       "    </tr>\n",
       "  </tbody>\n",
       "</table>\n",
       "<p>100 rows × 5 columns</p>\n",
       "</div>"
      ],
      "text/plain": [
       "               statistical_parity_difference  average_abs_odds_difference  \\\n",
       "mitigation_0                        0.241340                     0.335296   \n",
       "mitigation_1                        0.189775                     0.271344   \n",
       "mitigation_2                        0.163451                     0.236431   \n",
       "mitigation_3                        0.142960                     0.209171   \n",
       "mitigation_4                        0.120509                     0.177693   \n",
       "...                                      ...                          ...   \n",
       "mitigation_95                       0.024841                     0.073264   \n",
       "mitigation_96                       0.025771                     0.073512   \n",
       "mitigation_97                       0.025756                     0.073952   \n",
       "mitigation_98                       0.025984                     0.074116   \n",
       "mitigation_99                       0.025669                     0.073861   \n",
       "\n",
       "               equal_opportunity_difference  disparate_impact  theil_index  \n",
       "mitigation_0                       0.566453          0.000000     0.146917  \n",
       "mitigation_1                       0.472028          0.000000     0.169352  \n",
       "mitigation_2                       0.415984          0.000000     0.183973  \n",
       "mitigation_3                       0.371880        558.545870     0.195707  \n",
       "mitigation_4                       0.318007        235.991625     0.211046  \n",
       "...                                     ...               ...          ...  \n",
       "mitigation_95                      0.166749          1.707146     0.257166  \n",
       "mitigation_96                      0.166256          1.761429     0.257191  \n",
       "mitigation_97                      0.167440          1.749626     0.256868  \n",
       "mitigation_98                      0.167637          1.761923     0.256752  \n",
       "mitigation_99                      0.167341          1.747070     0.256878  \n",
       "\n",
       "[100 rows x 5 columns]"
      ]
     },
     "execution_count": 519,
     "metadata": {},
     "output_type": "execute_result"
    }
   ],
   "source": [
    "df_bias"
   ]
  },
  {
   "cell_type": "code",
   "execution_count": 536,
   "metadata": {},
   "outputs": [],
   "source": [
    "observed = 0\n",
    "expected = []\n",
    "\n",
    "for weight in weights_hist:\n",
    "\n",
    "    model = create_model(nominal_features, random_state)\n",
    "    model.fit(X_train, y_train, clf__sample_weight=weight)\n",
    "\n",
    "    probs = pd.Series(model.predict_proba(X_train)[:, 1])\n",
    "\n",
    "    dff = X_train.copy()\n",
    "    dff[\"observed\"] = y_train.copy()\n",
    "    dff[\"probabilities\"] = probs.copy()\n",
    "    to_choose = dff[privileged_subset[0].keys()].isin(privileged_subset[0]).all(axis=1)\n",
    "    temp_df = dff.loc[to_choose]\n",
    "\n",
    "    observed = np.round(temp_df[\"observed\"].mean(),  4)\n",
    "    expected.append(np.round(temp_df[\"probabilities\"].mean(), 4))"
   ]
  },
  {
   "cell_type": "code",
   "execution_count": 537,
   "metadata": {},
   "outputs": [
    {
     "data": {
      "image/png": "[encoded data removed]",
      "text/plain": [
       "<Figure size 640x480 with 1 Axes>"
      ]
     },
     "metadata": {},
     "output_type": "display_data"
    }
   ],
   "source": [
    "#fig, axes = plt.subplots(nrows=1, ncols=2, figsize=(10, 5))\n",
    "\n",
    "plt.title(\"Bias Metrics vs. Penalty\") \n",
    "plt.xlabel(\"Penalty\") \n",
    "plt.ylabel(\"Value\") \n",
    "plt.plot(range(len(expected)), expected, color =\"red\") \n",
    "plt.grid(True)"
   ]
  },
  {
   "cell_type": "code",
   "execution_count": null,
   "metadata": {},
   "outputs": [],
   "source": []
  }
 ],
 "metadata": {
  "kernelspec": {
   "display_name": "Python 3",
   "language": "python",
   "name": "python3"
  },
  "language_info": {
   "codemirror_mode": {
    "name": "ipython",
    "version": 3
   },
   "file_extension": ".py",
   "mimetype": "text/x-python",
   "name": "python",
   "nbconvert_exporter": "python",
   "pygments_lexer": "ipython3",
   "version": "3.10.14"
  }
 },
 "nbformat": 4,
 "nbformat_minor": 2
}
