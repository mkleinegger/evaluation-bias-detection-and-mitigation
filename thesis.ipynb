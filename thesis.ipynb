{
 "cells": [
  {
   "cell_type": "markdown",
   "metadata": {
    "deletable": false,
    "editable": false,
    "nbgrader": {
     "cell_type": "markdown",
     "checksum": "a4ae6c6d9dad9d64ca626c52248df874",
     "grade": false,
     "grade_id": "cell-b7412adc4e975740",
     "locked": true,
     "schema_version": 3,
     "solution": false,
     "task": false
    }
   },
   "source": [
    "# BA Thesis - Fairness in Machine Learning\n",
    "---\n",
    "\n",
    "This `Jupyter`-notebook is here to implement the necessary tasks to fulfill the analysis and so on for this thesis."
   ]
  },
  {
   "cell_type": "markdown",
   "metadata": {},
   "source": [
    "## Packages\n",
    "The following packages are used in this project"
   ]
  },
  {
   "cell_type": "code",
   "execution_count": 112,
   "metadata": {},
   "outputs": [
    {
     "name": "stdout",
     "output_type": "stream",
     "text": [
      "Requirement already satisfied: numpy in /Users/maxkleinegger/anaconda3/lib/python3.10/site-packages (from -r ./requirements.txt (line 1)) (1.26.2)\n",
      "Requirement already satisfied: pandas in /Users/maxkleinegger/anaconda3/lib/python3.10/site-packages (from -r ./requirements.txt (line 2)) (1.5.3)\n",
      "Requirement already satisfied: scikit-learn in /Users/maxkleinegger/anaconda3/lib/python3.10/site-packages (from -r ./requirements.txt (line 3)) (1.3.2)\n",
      "Requirement already satisfied: matplotlib in /Users/maxkleinegger/anaconda3/lib/python3.10/site-packages (from -r ./requirements.txt (line 4)) (3.8.2)\n",
      "Requirement already satisfied: DataSynthesizer in /Users/maxkleinegger/anaconda3/lib/python3.10/site-packages (from -r ./requirements.txt (line 5)) (0.1.13)\n",
      "Requirement already satisfied: sdv in /Users/maxkleinegger/anaconda3/lib/python3.10/site-packages (from -r ./requirements.txt (line 6)) (1.12.1)\n",
      "Requirement already satisfied: ucimlrepo in /Users/maxkleinegger/anaconda3/lib/python3.10/site-packages (from -r ./requirements.txt (line 7)) (0.0.2)\n",
      "Requirement already satisfied: sdmetrics in /Users/maxkleinegger/anaconda3/lib/python3.10/site-packages (from -r ./requirements.txt (line 8)) (0.14.0)\n",
      "Requirement already satisfied: aif360 in /Users/maxkleinegger/anaconda3/lib/python3.10/site-packages (from -r ./requirements.txt (line 9)) (0.5.0)\n",
      "Requirement already satisfied: nbformat>=4.2.0 in /Users/maxkleinegger/anaconda3/lib/python3.10/site-packages (from -r ./requirements.txt (line 10)) (5.7.0)\n",
      "Requirement already satisfied: pytz>=2020.1 in /Users/maxkleinegger/anaconda3/lib/python3.10/site-packages (from pandas->-r ./requirements.txt (line 2)) (2022.7)\n",
      "Requirement already satisfied: python-dateutil>=2.8.1 in /Users/maxkleinegger/anaconda3/lib/python3.10/site-packages (from pandas->-r ./requirements.txt (line 2)) (2.8.2)\n",
      "Requirement already satisfied: scipy>=1.5.0 in /Users/maxkleinegger/anaconda3/lib/python3.10/site-packages (from scikit-learn->-r ./requirements.txt (line 3)) (1.10.0)\n",
      "Requirement already satisfied: threadpoolctl>=2.0.0 in /Users/maxkleinegger/anaconda3/lib/python3.10/site-packages (from scikit-learn->-r ./requirements.txt (line 3)) (3.2.0)\n",
      "Requirement already satisfied: joblib>=1.1.1 in /Users/maxkleinegger/anaconda3/lib/python3.10/site-packages (from scikit-learn->-r ./requirements.txt (line 3)) (1.1.1)\n",
      "Requirement already satisfied: contourpy>=1.0.1 in /Users/maxkleinegger/anaconda3/lib/python3.10/site-packages (from matplotlib->-r ./requirements.txt (line 4)) (1.0.5)\n",
      "Requirement already satisfied: kiwisolver>=1.3.1 in /Users/maxkleinegger/anaconda3/lib/python3.10/site-packages (from matplotlib->-r ./requirements.txt (line 4)) (1.4.4)\n",
      "Requirement already satisfied: cycler>=0.10 in /Users/maxkleinegger/anaconda3/lib/python3.10/site-packages (from matplotlib->-r ./requirements.txt (line 4)) (0.11.0)\n",
      "Requirement already satisfied: fonttools>=4.22.0 in /Users/maxkleinegger/anaconda3/lib/python3.10/site-packages (from matplotlib->-r ./requirements.txt (line 4)) (4.25.0)\n",
      "Requirement already satisfied: pillow>=8 in /Users/maxkleinegger/anaconda3/lib/python3.10/site-packages (from matplotlib->-r ./requirements.txt (line 4)) (9.4.0)\n",
      "Requirement already satisfied: pyparsing>=2.3.1 in /Users/maxkleinegger/anaconda3/lib/python3.10/site-packages (from matplotlib->-r ./requirements.txt (line 4)) (3.0.9)\n",
      "Requirement already satisfied: packaging>=20.0 in /Users/maxkleinegger/anaconda3/lib/python3.10/site-packages (from matplotlib->-r ./requirements.txt (line 4)) (22.0)\n",
      "Requirement already satisfied: seaborn>=0.10.1 in /Users/maxkleinegger/anaconda3/lib/python3.10/site-packages (from DataSynthesizer->-r ./requirements.txt (line 5)) (0.12.2)\n",
      "Requirement already satisfied: ctgan>=0.10.0 in /Users/maxkleinegger/anaconda3/lib/python3.10/site-packages (from sdv->-r ./requirements.txt (line 6)) (0.10.0)\n",
      "Requirement already satisfied: cloudpickle>=2.1.0 in /Users/maxkleinegger/anaconda3/lib/python3.10/site-packages (from sdv->-r ./requirements.txt (line 6)) (3.0.0)\n",
      "Requirement already satisfied: botocore>=1.31 in /Users/maxkleinegger/anaconda3/lib/python3.10/site-packages (from sdv->-r ./requirements.txt (line 6)) (1.34.88)\n",
      "Requirement already satisfied: deepecho>=0.6.0 in /Users/maxkleinegger/anaconda3/lib/python3.10/site-packages (from sdv->-r ./requirements.txt (line 6)) (0.6.0)\n",
      "Requirement already satisfied: rdt>=1.12.0 in /Users/maxkleinegger/anaconda3/lib/python3.10/site-packages (from sdv->-r ./requirements.txt (line 6)) (1.12.0)\n",
      "Requirement already satisfied: boto3>=1.28 in /Users/maxkleinegger/anaconda3/lib/python3.10/site-packages (from sdv->-r ./requirements.txt (line 6)) (1.34.88)\n",
      "Requirement already satisfied: copulas>=0.11.0 in /Users/maxkleinegger/anaconda3/lib/python3.10/site-packages (from sdv->-r ./requirements.txt (line 6)) (0.11.0)\n",
      "Requirement already satisfied: tqdm>=4.29 in /Users/maxkleinegger/anaconda3/lib/python3.10/site-packages (from sdv->-r ./requirements.txt (line 6)) (4.64.1)\n",
      "Requirement already satisfied: graphviz>=0.13.2 in /Users/maxkleinegger/anaconda3/lib/python3.10/site-packages (from sdv->-r ./requirements.txt (line 6)) (0.20.3)\n",
      "Requirement already satisfied: plotly>=5.19.0 in /Users/maxkleinegger/anaconda3/lib/python3.10/site-packages (from sdmetrics->-r ./requirements.txt (line 8)) (5.21.0)\n",
      "Requirement already satisfied: jsonschema>=2.6 in /Users/maxkleinegger/anaconda3/lib/python3.10/site-packages (from nbformat>=4.2.0->-r ./requirements.txt (line 10)) (4.17.3)\n",
      "Requirement already satisfied: fastjsonschema in /Users/maxkleinegger/anaconda3/lib/python3.10/site-packages (from nbformat>=4.2.0->-r ./requirements.txt (line 10)) (2.16.2)\n",
      "Requirement already satisfied: jupyter-core in /Users/maxkleinegger/anaconda3/lib/python3.10/site-packages (from nbformat>=4.2.0->-r ./requirements.txt (line 10)) (5.2.0)\n",
      "Requirement already satisfied: traitlets>=5.1 in /Users/maxkleinegger/anaconda3/lib/python3.10/site-packages (from nbformat>=4.2.0->-r ./requirements.txt (line 10)) (5.7.1)\n",
      "Requirement already satisfied: jmespath<2.0.0,>=0.7.1 in /Users/maxkleinegger/anaconda3/lib/python3.10/site-packages (from boto3>=1.28->sdv->-r ./requirements.txt (line 6)) (0.10.0)\n",
      "Requirement already satisfied: s3transfer<0.11.0,>=0.10.0 in /Users/maxkleinegger/anaconda3/lib/python3.10/site-packages (from boto3>=1.28->sdv->-r ./requirements.txt (line 6)) (0.10.1)\n",
      "Requirement already satisfied: urllib3!=2.2.0,<3,>=1.25.4 in /Users/maxkleinegger/anaconda3/lib/python3.10/site-packages (from botocore>=1.31->sdv->-r ./requirements.txt (line 6)) (1.26.14)\n",
      "Requirement already satisfied: torch>=1.11.0 in /Users/maxkleinegger/anaconda3/lib/python3.10/site-packages (from ctgan>=0.10.0->sdv->-r ./requirements.txt (line 6)) (2.1.1)\n",
      "Requirement already satisfied: attrs>=17.4.0 in /Users/maxkleinegger/anaconda3/lib/python3.10/site-packages (from jsonschema>=2.6->nbformat>=4.2.0->-r ./requirements.txt (line 10)) (22.1.0)\n",
      "Requirement already satisfied: pyrsistent!=0.17.0,!=0.17.1,!=0.17.2,>=0.14.0 in /Users/maxkleinegger/anaconda3/lib/python3.10/site-packages (from jsonschema>=2.6->nbformat>=4.2.0->-r ./requirements.txt (line 10)) (0.18.0)\n",
      "Requirement already satisfied: tenacity>=6.2.0 in /Users/maxkleinegger/anaconda3/lib/python3.10/site-packages (from plotly>=5.19.0->sdmetrics->-r ./requirements.txt (line 8)) (8.0.1)\n",
      "Requirement already satisfied: six>=1.5 in /Users/maxkleinegger/anaconda3/lib/python3.10/site-packages (from python-dateutil>=2.8.1->pandas->-r ./requirements.txt (line 2)) (1.16.0)\n",
      "Requirement already satisfied: Faker>=17 in /Users/maxkleinegger/anaconda3/lib/python3.10/site-packages (from rdt>=1.12.0->sdv->-r ./requirements.txt (line 6)) (24.11.0)\n",
      "Requirement already satisfied: platformdirs>=2.5 in /Users/maxkleinegger/anaconda3/lib/python3.10/site-packages (from jupyter-core->nbformat>=4.2.0->-r ./requirements.txt (line 10)) (2.5.2)\n",
      "Requirement already satisfied: filelock in /Users/maxkleinegger/anaconda3/lib/python3.10/site-packages (from torch>=1.11.0->ctgan>=0.10.0->sdv->-r ./requirements.txt (line 6)) (3.9.0)\n",
      "Requirement already satisfied: typing-extensions in /Users/maxkleinegger/anaconda3/lib/python3.10/site-packages (from torch>=1.11.0->ctgan>=0.10.0->sdv->-r ./requirements.txt (line 6)) (4.4.0)\n",
      "Requirement already satisfied: sympy in /Users/maxkleinegger/anaconda3/lib/python3.10/site-packages (from torch>=1.11.0->ctgan>=0.10.0->sdv->-r ./requirements.txt (line 6)) (1.11.1)\n",
      "Requirement already satisfied: networkx in /Users/maxkleinegger/anaconda3/lib/python3.10/site-packages (from torch>=1.11.0->ctgan>=0.10.0->sdv->-r ./requirements.txt (line 6)) (2.8.4)\n",
      "Requirement already satisfied: jinja2 in /Users/maxkleinegger/anaconda3/lib/python3.10/site-packages (from torch>=1.11.0->ctgan>=0.10.0->sdv->-r ./requirements.txt (line 6)) (3.1.2)\n",
      "Requirement already satisfied: fsspec in /Users/maxkleinegger/anaconda3/lib/python3.10/site-packages (from torch>=1.11.0->ctgan>=0.10.0->sdv->-r ./requirements.txt (line 6)) (2022.11.0)\n",
      "Requirement already satisfied: MarkupSafe>=2.0 in /Users/maxkleinegger/anaconda3/lib/python3.10/site-packages (from jinja2->torch>=1.11.0->ctgan>=0.10.0->sdv->-r ./requirements.txt (line 6)) (2.1.1)\n",
      "Requirement already satisfied: mpmath>=0.19 in /Users/maxkleinegger/anaconda3/lib/python3.10/site-packages/mpmath-1.2.1-py3.10.egg (from sympy->torch>=1.11.0->ctgan>=0.10.0->sdv->-r ./requirements.txt (line 6)) (1.2.1)\n"
     ]
    }
   ],
   "source": [
    "! pip install -r ./requirements.txt"
   ]
  },
  {
   "cell_type": "markdown",
   "metadata": {
    "deletable": false,
    "editable": false,
    "nbgrader": {
     "cell_type": "markdown",
     "checksum": "5d72fe892091ca92e9af47e1b4041a61",
     "grade": false,
     "grade_id": "cell-c1b4e57b70e15aa8",
     "locked": true,
     "schema_version": 3,
     "solution": false,
     "task": false
    }
   },
   "source": [
    "## Generel settings"
   ]
  },
  {
   "cell_type": "code",
   "execution_count": 211,
   "metadata": {},
   "outputs": [],
   "source": [
    "import numpy as np\n",
    "import pandas as pd"
   ]
  },
  {
   "cell_type": "code",
   "execution_count": 212,
   "metadata": {},
   "outputs": [],
   "source": [
    "# define a random state\n",
    "random_state = 12014500"
   ]
  },
  {
   "cell_type": "code",
   "execution_count": 213,
   "metadata": {},
   "outputs": [],
   "source": [
    "np.random.seed(random_state)"
   ]
  },
  {
   "cell_type": "markdown",
   "metadata": {},
   "source": [
    "## Dataset"
   ]
  },
  {
   "cell_type": "markdown",
   "metadata": {},
   "source": [
    "### Load Data"
   ]
  },
  {
   "cell_type": "code",
   "execution_count": 530,
   "metadata": {},
   "outputs": [],
   "source": [
    "# load the data\n",
    "df = pd.read_csv('./data/synthetic_data.csv')"
   ]
  },
  {
   "cell_type": "code",
   "execution_count": 531,
   "metadata": {},
   "outputs": [
    {
     "data": {
      "text/html": [
       "<div>\n",
       "<style scoped>\n",
       "    .dataframe tbody tr th:only-of-type {\n",
       "        vertical-align: middle;\n",
       "    }\n",
       "\n",
       "    .dataframe tbody tr th {\n",
       "        vertical-align: top;\n",
       "    }\n",
       "\n",
       "    .dataframe thead th {\n",
       "        text-align: right;\n",
       "    }\n",
       "</style>\n",
       "<table border=\"1\" class=\"dataframe\">\n",
       "  <thead>\n",
       "    <tr style=\"text-align: right;\">\n",
       "      <th></th>\n",
       "      <th>Unnamed: 0</th>\n",
       "      <th>age</th>\n",
       "      <th>workclass</th>\n",
       "      <th>fnlwgt</th>\n",
       "      <th>education-num</th>\n",
       "      <th>marital-status</th>\n",
       "      <th>occupation</th>\n",
       "      <th>relationship</th>\n",
       "      <th>race</th>\n",
       "      <th>sex</th>\n",
       "      <th>capital-gain</th>\n",
       "      <th>capital-loss</th>\n",
       "      <th>hours-per-week</th>\n",
       "      <th>native-country</th>\n",
       "      <th>income</th>\n",
       "    </tr>\n",
       "  </thead>\n",
       "  <tbody>\n",
       "    <tr>\n",
       "      <th>0</th>\n",
       "      <td>0</td>\n",
       "      <td>46</td>\n",
       "      <td>Private</td>\n",
       "      <td>522438</td>\n",
       "      <td>13</td>\n",
       "      <td>Never-married</td>\n",
       "      <td>Exec-managerial</td>\n",
       "      <td>Not-in-family</td>\n",
       "      <td>White</td>\n",
       "      <td>0</td>\n",
       "      <td>0</td>\n",
       "      <td>0</td>\n",
       "      <td>49</td>\n",
       "      <td>United-States</td>\n",
       "      <td>0</td>\n",
       "    </tr>\n",
       "    <tr>\n",
       "      <th>1</th>\n",
       "      <td>1</td>\n",
       "      <td>72</td>\n",
       "      <td>Private</td>\n",
       "      <td>64571</td>\n",
       "      <td>7</td>\n",
       "      <td>Widowed</td>\n",
       "      <td>Exec-managerial</td>\n",
       "      <td>Not-in-family</td>\n",
       "      <td>White</td>\n",
       "      <td>0</td>\n",
       "      <td>0</td>\n",
       "      <td>0</td>\n",
       "      <td>73</td>\n",
       "      <td>United-States</td>\n",
       "      <td>0</td>\n",
       "    </tr>\n",
       "    <tr>\n",
       "      <th>2</th>\n",
       "      <td>2</td>\n",
       "      <td>25</td>\n",
       "      <td>Private</td>\n",
       "      <td>132619</td>\n",
       "      <td>10</td>\n",
       "      <td>Never-married</td>\n",
       "      <td>Craft-repair</td>\n",
       "      <td>Own-child</td>\n",
       "      <td>White</td>\n",
       "      <td>1</td>\n",
       "      <td>0</td>\n",
       "      <td>0</td>\n",
       "      <td>46</td>\n",
       "      <td>United-States</td>\n",
       "      <td>0</td>\n",
       "    </tr>\n",
       "    <tr>\n",
       "      <th>3</th>\n",
       "      <td>3</td>\n",
       "      <td>51</td>\n",
       "      <td>Federal-gov</td>\n",
       "      <td>34355</td>\n",
       "      <td>11</td>\n",
       "      <td>Married-civ-spouse</td>\n",
       "      <td>Adm-clerical</td>\n",
       "      <td>Husband</td>\n",
       "      <td>White</td>\n",
       "      <td>1</td>\n",
       "      <td>0</td>\n",
       "      <td>0</td>\n",
       "      <td>40</td>\n",
       "      <td>United-States</td>\n",
       "      <td>0</td>\n",
       "    </tr>\n",
       "    <tr>\n",
       "      <th>4</th>\n",
       "      <td>4</td>\n",
       "      <td>31</td>\n",
       "      <td>Private</td>\n",
       "      <td>213603</td>\n",
       "      <td>10</td>\n",
       "      <td>Never-married</td>\n",
       "      <td>Adm-clerical</td>\n",
       "      <td>Other-relative</td>\n",
       "      <td>White</td>\n",
       "      <td>0</td>\n",
       "      <td>0</td>\n",
       "      <td>0</td>\n",
       "      <td>40</td>\n",
       "      <td>United-States</td>\n",
       "      <td>0</td>\n",
       "    </tr>\n",
       "  </tbody>\n",
       "</table>\n",
       "</div>"
      ],
      "text/plain": [
       "   Unnamed: 0  age    workclass  fnlwgt  education-num      marital-status  \\\n",
       "0           0   46      Private  522438             13       Never-married   \n",
       "1           1   72      Private   64571              7             Widowed   \n",
       "2           2   25      Private  132619             10       Never-married   \n",
       "3           3   51  Federal-gov   34355             11  Married-civ-spouse   \n",
       "4           4   31      Private  213603             10       Never-married   \n",
       "\n",
       "        occupation    relationship   race  sex  capital-gain  capital-loss  \\\n",
       "0  Exec-managerial   Not-in-family  White    0             0             0   \n",
       "1  Exec-managerial   Not-in-family  White    0             0             0   \n",
       "2     Craft-repair       Own-child  White    1             0             0   \n",
       "3     Adm-clerical         Husband  White    1             0             0   \n",
       "4     Adm-clerical  Other-relative  White    0             0             0   \n",
       "\n",
       "   hours-per-week native-country  income  \n",
       "0              49  United-States       0  \n",
       "1              73  United-States       0  \n",
       "2              46  United-States       0  \n",
       "3              40  United-States       0  \n",
       "4              40  United-States       0  "
      ]
     },
     "metadata": {},
     "output_type": "display_data"
    }
   ],
   "source": [
    "display(df.head())"
   ]
  },
  {
   "cell_type": "markdown",
   "metadata": {},
   "source": [
    "### Pre-Processing"
   ]
  },
  {
   "cell_type": "code",
   "execution_count": 564,
   "metadata": {},
   "outputs": [],
   "source": [
    "from sklearn.model_selection import train_test_split"
   ]
  },
  {
   "cell_type": "code",
   "execution_count": 565,
   "metadata": {},
   "outputs": [],
   "source": [
    "df_train, df_test = train_test_split(df, test_size=0.2, random_state=random_state)"
   ]
  },
  {
   "cell_type": "code",
   "execution_count": 566,
   "metadata": {},
   "outputs": [],
   "source": [
    "# Replace '?' with NaN, if necessary (check those special characters)\n",
    "df_train.replace('?', np.nan, inplace=True)\n",
    "df_test.replace('?', np.nan, inplace=True)"
   ]
  },
  {
   "cell_type": "code",
   "execution_count": 567,
   "metadata": {},
   "outputs": [
    {
     "data": {
      "text/plain": [
       "5853"
      ]
     },
     "execution_count": 567,
     "metadata": {},
     "output_type": "execute_result"
    }
   ],
   "source": [
    "df_train.isnull().any(axis=1).sum()"
   ]
  },
  {
   "cell_type": "code",
   "execution_count": 568,
   "metadata": {},
   "outputs": [
    {
     "data": {
      "text/plain": [
       "Unnamed: 0           0\n",
       "age                  0\n",
       "workclass         3502\n",
       "fnlwgt               0\n",
       "education-num        0\n",
       "marital-status       0\n",
       "occupation        3586\n",
       "relationship         0\n",
       "race                 0\n",
       "sex                  0\n",
       "capital-gain         0\n",
       "capital-loss         0\n",
       "hours-per-week       0\n",
       "native-country    1354\n",
       "income               0\n",
       "dtype: int64"
      ]
     },
     "execution_count": 568,
     "metadata": {},
     "output_type": "execute_result"
    }
   ],
   "source": [
    "df_train.isnull().sum()"
   ]
  },
  {
   "cell_type": "code",
   "execution_count": 569,
   "metadata": {},
   "outputs": [
    {
     "data": {
      "text/plain": [
       "1401"
      ]
     },
     "execution_count": 569,
     "metadata": {},
     "output_type": "execute_result"
    }
   ],
   "source": [
    "df_test.isnull().any(axis=1).sum()"
   ]
  },
  {
   "cell_type": "code",
   "execution_count": 570,
   "metadata": {},
   "outputs": [
    {
     "data": {
      "text/plain": [
       "Unnamed: 0          0\n",
       "age                 0\n",
       "workclass         849\n",
       "fnlwgt              0\n",
       "education-num       0\n",
       "marital-status      0\n",
       "occupation        890\n",
       "relationship        0\n",
       "race                0\n",
       "sex                 0\n",
       "capital-gain        0\n",
       "capital-loss        0\n",
       "hours-per-week      0\n",
       "native-country    288\n",
       "income              0\n",
       "dtype: int64"
      ]
     },
     "execution_count": 570,
     "metadata": {},
     "output_type": "execute_result"
    }
   ],
   "source": [
    "df_test.isnull().sum()"
   ]
  },
  {
   "cell_type": "code",
   "execution_count": 571,
   "metadata": {},
   "outputs": [
    {
     "name": "stdout",
     "output_type": "stream",
     "text": [
      "Training-set contains 0 duplicated observations\n",
      "Test-set contains 0 duplicated observations\n"
     ]
    }
   ],
   "source": [
    "print(\"Training-set contains \" + str(df_train.duplicated().sum()) + \" duplicated observations\") \n",
    "print(\"Test-set contains \" + str(df_test.duplicated().sum()) + \" duplicated observations\") "
   ]
  },
  {
   "cell_type": "code",
   "execution_count": 572,
   "metadata": {},
   "outputs": [],
   "source": [
    "ratio_features = ['age', 'fnlwgt', 'capital-gain', 'capital-loss', 'hours-per-week']\n",
    "ordinal_features = ['education-num'] # 'education-num' is a numerical representation of 'education' ('education' will be removed)\n",
    "nominal_features = ['workclass', 'marital-status', 'occupation', 'relationship', 'race', 'sex'] # 'native-country' will be removed\n",
    "target = 'income'"
   ]
  },
  {
   "cell_type": "code",
   "execution_count": 573,
   "metadata": {},
   "outputs": [],
   "source": [
    "df_train.drop_duplicates(inplace=True, ignore_index=True)\n",
    "df_test.drop_duplicates(inplace=True, ignore_index=True)"
   ]
  },
  {
   "cell_type": "code",
   "execution_count": 574,
   "metadata": {},
   "outputs": [],
   "source": [
    "columns_to_drop = [\"native-country\", 'Unnamed: 0']\n",
    "df_train = df_train.drop(columns=columns_to_drop)\n",
    "df_test = df_test.drop(columns=columns_to_drop)"
   ]
  },
  {
   "cell_type": "markdown",
   "metadata": {},
   "source": [
    "## ML-Models"
   ]
  },
  {
   "cell_type": "markdown",
   "metadata": {},
   "source": [
    "### Baseline for Synthetic Data"
   ]
  },
  {
   "cell_type": "code",
   "execution_count": 575,
   "metadata": {},
   "outputs": [],
   "source": [
    "from utils import train_and_evaluate\n",
    "from sklearn.neural_network import MLPClassifier\n",
    "from sklearn.ensemble import RandomForestClassifier\n",
    "from sklearn.linear_model import LogisticRegression"
   ]
  },
  {
   "cell_type": "code",
   "execution_count": 576,
   "metadata": {},
   "outputs": [],
   "source": [
    "models = {\n",
    "    'mlp': MLPClassifier(verbose=False, max_iter = 250, random_state=random_state),\n",
    "    'rf': RandomForestClassifier(n_estimators=200, max_depth=7 ,random_state=random_state),\n",
    "    'lr': LogisticRegression(max_iter=1000, solver='lbfgs', random_state=random_state)\n",
    "}"
   ]
  },
  {
   "cell_type": "code",
   "execution_count": 587,
   "metadata": {},
   "outputs": [],
   "source": [
    "def describe_model(models, results):\n",
    "    for model_name, model in models.items():\n",
    "        print(f\"model {model.__class__.__name__} with {model.get_params()}\")\n",
    "        print(\"\\tAccuracy: \" + str(results[model_name]['accuracy']))\n",
    "        print(\"\\tF1: \" + str(results[model_name]['f1']))\n",
    "        print(\"\\tPrecision: \" + str(results[model_name]['precision']))\n",
    "        print(\"\\tRecall: \" + str(results[model_name]['recall']))\n",
    "        print(\"\\n\")\n"
   ]
  },
  {
   "cell_type": "code",
   "execution_count": 588,
   "metadata": {},
   "outputs": [],
   "source": [
    "def evaluate_models(df_train, df_test, nominal_features, target, describe = True):\n",
    "    results = {}\n",
    "    for model_name, model in models.items():\n",
    "        results[model_name] = train_and_evaluate(model, df_train, df_test, nominal_features, target)\n",
    "\n",
    "    if describe:\n",
    "        describe_model(models, results)\n",
    "\n",
    "    return results"
   ]
  },
  {
   "cell_type": "code",
   "execution_count": 589,
   "metadata": {},
   "outputs": [
    {
     "name": "stderr",
     "output_type": "stream",
     "text": [
      "/Users/maxkleinegger/anaconda3/lib/python3.10/site-packages/sklearn/neural_network/_multilayer_perceptron.py:691: ConvergenceWarning:\n",
      "\n",
      "Stochastic Optimizer: Maximum iterations (250) reached and the optimization hasn't converged yet.\n",
      "\n"
     ]
    },
    {
     "name": "stdout",
     "output_type": "stream",
     "text": [
      "model MLPClassifier with {'activation': 'relu', 'alpha': 0.0001, 'batch_size': 'auto', 'beta_1': 0.9, 'beta_2': 0.999, 'early_stopping': False, 'epsilon': 1e-08, 'hidden_layer_sizes': (100,), 'learning_rate': 'constant', 'learning_rate_init': 0.001, 'max_fun': 15000, 'max_iter': 250, 'momentum': 0.9, 'n_iter_no_change': 10, 'nesterovs_momentum': True, 'power_t': 0.5, 'random_state': 12014500, 'shuffle': True, 'solver': 'adam', 'tol': 0.0001, 'validation_fraction': 0.1, 'verbose': False, 'warm_start': False}\n",
      "\tAccuracy: 0.8479885351622479\n",
      "\tF1: 0.7916473045549122\n",
      "\tPrecision: 0.8178309362254184\n",
      "\tRecall: 0.7743800267826496\n",
      "\n",
      "\n",
      "model RandomForestClassifier with {'bootstrap': True, 'ccp_alpha': 0.0, 'class_weight': None, 'criterion': 'gini', 'max_depth': 7, 'max_features': 'sqrt', 'max_leaf_nodes': None, 'max_samples': None, 'min_impurity_decrease': 0.0, 'min_samples_leaf': 1, 'min_samples_split': 2, 'min_weight_fraction_leaf': 0.0, 'n_estimators': 200, 'n_jobs': None, 'oob_score': False, 'random_state': 12014500, 'verbose': 0, 'warm_start': False}\n",
      "\tAccuracy: 0.8462483365748797\n",
      "\tF1: 0.7746295627987652\n",
      "\tPrecision: 0.8389357305038623\n",
      "\tRecall: 0.7458931659122296\n",
      "\n",
      "\n",
      "model LogisticRegression with {'C': 1.0, 'class_weight': None, 'dual': False, 'fit_intercept': True, 'intercept_scaling': 1, 'l1_ratio': None, 'max_iter': 1000, 'multi_class': 'auto', 'n_jobs': None, 'penalty': 'l2', 'random_state': 12014500, 'solver': 'lbfgs', 'tol': 0.0001, 'verbose': 0, 'warm_start': False}\n",
      "\tAccuracy: 0.8523902139420616\n",
      "\tF1: 0.797057243900148\n",
      "\tPrecision: 0.8252503101453897\n",
      "\tRecall: 0.7787297632802677\n",
      "\n",
      "\n"
     ]
    }
   ],
   "source": [
    "results = evaluate_models(df_train, df_test, nominal_features, target)"
   ]
  },
  {
   "cell_type": "code",
   "execution_count": 602,
   "metadata": {},
   "outputs": [
    {
     "name": "stderr",
     "output_type": "stream",
     "text": [
      "/var/folders/5s/7wthnl510p9_gg2ytrfvxy180000gn/T/ipykernel_48938/1100927733.py:10: FutureWarning:\n",
      "\n",
      "Unlike other reduction functions (e.g. `skew`, `kurtosis`), the default behavior of `mode` typically preserves the axis it acts along. In SciPy 1.11.0, this behavior will change: the default value of `keepdims` will become False, the `axis` over which the statistic is taken will be eliminated, and the value None will no longer be accepted. Set `keepdims` to True or False to avoid this warning.\n",
      "\n"
     ]
    }
   ],
   "source": [
    "from utils import _split_data\n",
    "from scipy.stats import mode\n",
    "\n",
    "def compute_pred(df):\n",
    "    preds = []\n",
    "    for _, model in models.items():\n",
    "        preds.append(model.predict(df))\n",
    "\n",
    "    stacked_vectors = np.vstack(preds)\n",
    "    return mode(stacked_vectors, axis=0).mode[0]\n",
    "\n",
    "X_train, _, _, _ = _split_data(df_train, df_test, nominal_features, 'income')\n",
    "\n",
    "df_train['income-predicted'] = compute_pred(X_train)"
   ]
  },
  {
   "cell_type": "markdown",
   "metadata": {},
   "source": [
    "### Skewing attribute\n",
    "Should ask Prof about this topic, how to and where?"
   ]
  },
  {
   "cell_type": "code",
   "execution_count": 440,
   "metadata": {},
   "outputs": [],
   "source": [
    "races = set(list(df['race'].values))\n",
    "probs = [0.01, 0.02, 0.04, 0.01, 0.92]\n",
    "\n",
    "race_distributions = []\n",
    "for i, race in enumerate(races):\n",
    "    race_distributions = race_distributions + ([race] * int(probs[i]*df_train.shape[0]))\n",
    "\n",
    "race_distributions = race_distributions + (['White'] * (df_train.shape[0] - len(race_distributions)))\n",
    "\n",
    "np.random.shuffle(race_distributions)\n",
    "df_train['race'] = race_distributions"
   ]
  },
  {
   "cell_type": "markdown",
   "metadata": {},
   "source": [
    "#### Performance for skewed data"
   ]
  },
  {
   "cell_type": "code",
   "execution_count": 442,
   "metadata": {},
   "outputs": [
    {
     "data": {
      "text/html": [
       "<style>#sk-container-id-7 {color: black;}#sk-container-id-7 pre{padding: 0;}#sk-container-id-7 div.sk-toggleable {background-color: white;}#sk-container-id-7 label.sk-toggleable__label {cursor: pointer;display: block;width: 100%;margin-bottom: 0;padding: 0.3em;box-sizing: border-box;text-align: center;}#sk-container-id-7 label.sk-toggleable__label-arrow:before {content: \"▸\";float: left;margin-right: 0.25em;color: #696969;}#sk-container-id-7 label.sk-toggleable__label-arrow:hover:before {color: black;}#sk-container-id-7 div.sk-estimator:hover label.sk-toggleable__label-arrow:before {color: black;}#sk-container-id-7 div.sk-toggleable__content {max-height: 0;max-width: 0;overflow: hidden;text-align: left;background-color: #f0f8ff;}#sk-container-id-7 div.sk-toggleable__content pre {margin: 0.2em;color: black;border-radius: 0.25em;background-color: #f0f8ff;}#sk-container-id-7 input.sk-toggleable__control:checked~div.sk-toggleable__content {max-height: 200px;max-width: 100%;overflow: auto;}#sk-container-id-7 input.sk-toggleable__control:checked~label.sk-toggleable__label-arrow:before {content: \"▾\";}#sk-container-id-7 div.sk-estimator input.sk-toggleable__control:checked~label.sk-toggleable__label {background-color: #d4ebff;}#sk-container-id-7 div.sk-label input.sk-toggleable__control:checked~label.sk-toggleable__label {background-color: #d4ebff;}#sk-container-id-7 input.sk-hidden--visually {border: 0;clip: rect(1px 1px 1px 1px);clip: rect(1px, 1px, 1px, 1px);height: 1px;margin: -1px;overflow: hidden;padding: 0;position: absolute;width: 1px;}#sk-container-id-7 div.sk-estimator {font-family: monospace;background-color: #f0f8ff;border: 1px dotted black;border-radius: 0.25em;box-sizing: border-box;margin-bottom: 0.5em;}#sk-container-id-7 div.sk-estimator:hover {background-color: #d4ebff;}#sk-container-id-7 div.sk-parallel-item::after {content: \"\";width: 100%;border-bottom: 1px solid gray;flex-grow: 1;}#sk-container-id-7 div.sk-label:hover label.sk-toggleable__label {background-color: #d4ebff;}#sk-container-id-7 div.sk-serial::before {content: \"\";position: absolute;border-left: 1px solid gray;box-sizing: border-box;top: 0;bottom: 0;left: 50%;z-index: 0;}#sk-container-id-7 div.sk-serial {display: flex;flex-direction: column;align-items: center;background-color: white;padding-right: 0.2em;padding-left: 0.2em;position: relative;}#sk-container-id-7 div.sk-item {position: relative;z-index: 1;}#sk-container-id-7 div.sk-parallel {display: flex;align-items: stretch;justify-content: center;background-color: white;position: relative;}#sk-container-id-7 div.sk-item::before, #sk-container-id-7 div.sk-parallel-item::before {content: \"\";position: absolute;border-left: 1px solid gray;box-sizing: border-box;top: 0;bottom: 0;left: 50%;z-index: -1;}#sk-container-id-7 div.sk-parallel-item {display: flex;flex-direction: column;z-index: 1;position: relative;background-color: white;}#sk-container-id-7 div.sk-parallel-item:first-child::after {align-self: flex-end;width: 50%;}#sk-container-id-7 div.sk-parallel-item:last-child::after {align-self: flex-start;width: 50%;}#sk-container-id-7 div.sk-parallel-item:only-child::after {width: 0;}#sk-container-id-7 div.sk-dashed-wrapped {border: 1px dashed gray;margin: 0 0.4em 0.5em 0.4em;box-sizing: border-box;padding-bottom: 0.4em;background-color: white;}#sk-container-id-7 div.sk-label label {font-family: monospace;font-weight: bold;display: inline-block;line-height: 1.2em;}#sk-container-id-7 div.sk-label-container {text-align: center;}#sk-container-id-7 div.sk-container {/* jupyter's `normalize.less` sets `[hidden] { display: none; }` but bootstrap.min.css set `[hidden] { display: none !important; }` so we also need the `!important` here to be able to override the default hidden behavior on the sphinx rendered scikit-learn.org. See: https://github.com/scikit-learn/scikit-learn/issues/21755 */display: inline-block !important;position: relative;}#sk-container-id-7 div.sk-text-repr-fallback {display: none;}</style><div id=\"sk-container-id-7\" class=\"sk-top-container\"><div class=\"sk-text-repr-fallback\"><pre>MLPClassifier(random_state=12014500)</pre><b>In a Jupyter environment, please rerun this cell to show the HTML representation or trust the notebook. <br />On GitHub, the HTML representation is unable to render, please try loading this page with nbviewer.org.</b></div><div class=\"sk-container\" hidden><div class=\"sk-item\"><div class=\"sk-estimator sk-toggleable\"><input class=\"sk-toggleable__control sk-hidden--visually\" id=\"sk-estimator-id-7\" type=\"checkbox\" checked><label for=\"sk-estimator-id-7\" class=\"sk-toggleable__label sk-toggleable__label-arrow\">MLPClassifier</label><div class=\"sk-toggleable__content\"><pre>MLPClassifier(random_state=12014500)</pre></div></div></div></div></div>"
      ],
      "text/plain": [
       "MLPClassifier(random_state=12014500)"
      ]
     },
     "execution_count": 442,
     "metadata": {},
     "output_type": "execute_result"
    }
   ],
   "source": [
    "evaluate_models(df_train, df_test, nominal_features, target)"
   ]
  },
  {
   "cell_type": "markdown",
   "metadata": {},
   "source": [
    "## Fairness-Evaluation\n",
    "This parts evaluates the fairness aspects of the basic data. Which attributes may be preserved priveleged, etc. Furthermore we calculate all the attributes to assess the fairness aspect"
   ]
  },
  {
   "cell_type": "code",
   "execution_count": 604,
   "metadata": {},
   "outputs": [
    {
     "data": {
      "text/html": [
       "<div>\n",
       "<style scoped>\n",
       "    .dataframe tbody tr th:only-of-type {\n",
       "        vertical-align: middle;\n",
       "    }\n",
       "\n",
       "    .dataframe tbody tr th {\n",
       "        vertical-align: top;\n",
       "    }\n",
       "\n",
       "    .dataframe thead th {\n",
       "        text-align: right;\n",
       "    }\n",
       "</style>\n",
       "<table border=\"1\" class=\"dataframe\">\n",
       "  <thead>\n",
       "    <tr style=\"text-align: right;\">\n",
       "      <th></th>\n",
       "      <th>age</th>\n",
       "      <th>workclass</th>\n",
       "      <th>fnlwgt</th>\n",
       "      <th>education-num</th>\n",
       "      <th>marital-status</th>\n",
       "      <th>occupation</th>\n",
       "      <th>relationship</th>\n",
       "      <th>race</th>\n",
       "      <th>sex</th>\n",
       "      <th>capital-gain</th>\n",
       "      <th>capital-loss</th>\n",
       "      <th>hours-per-week</th>\n",
       "      <th>income</th>\n",
       "      <th>income-predicted</th>\n",
       "    </tr>\n",
       "  </thead>\n",
       "  <tbody>\n",
       "    <tr>\n",
       "      <th>0</th>\n",
       "      <td>47</td>\n",
       "      <td>Self-emp-inc</td>\n",
       "      <td>334052</td>\n",
       "      <td>13</td>\n",
       "      <td>Married-civ-spouse</td>\n",
       "      <td>Sales</td>\n",
       "      <td>Husband</td>\n",
       "      <td>White</td>\n",
       "      <td>1</td>\n",
       "      <td>0</td>\n",
       "      <td>0</td>\n",
       "      <td>51</td>\n",
       "      <td>1</td>\n",
       "      <td>1</td>\n",
       "    </tr>\n",
       "    <tr>\n",
       "      <th>1</th>\n",
       "      <td>35</td>\n",
       "      <td>Local-gov</td>\n",
       "      <td>215409</td>\n",
       "      <td>6</td>\n",
       "      <td>Divorced</td>\n",
       "      <td>Transport-moving</td>\n",
       "      <td>Not-in-family</td>\n",
       "      <td>White</td>\n",
       "      <td>1</td>\n",
       "      <td>7612</td>\n",
       "      <td>0</td>\n",
       "      <td>40</td>\n",
       "      <td>0</td>\n",
       "      <td>0</td>\n",
       "    </tr>\n",
       "    <tr>\n",
       "      <th>2</th>\n",
       "      <td>43</td>\n",
       "      <td>Private</td>\n",
       "      <td>395792</td>\n",
       "      <td>14</td>\n",
       "      <td>Married-civ-spouse</td>\n",
       "      <td>Exec-managerial</td>\n",
       "      <td>Husband</td>\n",
       "      <td>White</td>\n",
       "      <td>1</td>\n",
       "      <td>0</td>\n",
       "      <td>0</td>\n",
       "      <td>46</td>\n",
       "      <td>1</td>\n",
       "      <td>1</td>\n",
       "    </tr>\n",
       "    <tr>\n",
       "      <th>3</th>\n",
       "      <td>52</td>\n",
       "      <td>Private</td>\n",
       "      <td>180461</td>\n",
       "      <td>11</td>\n",
       "      <td>Married-civ-spouse</td>\n",
       "      <td>Exec-managerial</td>\n",
       "      <td>Husband</td>\n",
       "      <td>White</td>\n",
       "      <td>1</td>\n",
       "      <td>0</td>\n",
       "      <td>0</td>\n",
       "      <td>49</td>\n",
       "      <td>1</td>\n",
       "      <td>1</td>\n",
       "    </tr>\n",
       "    <tr>\n",
       "      <th>4</th>\n",
       "      <td>27</td>\n",
       "      <td>Federal-gov</td>\n",
       "      <td>293395</td>\n",
       "      <td>9</td>\n",
       "      <td>Never-married</td>\n",
       "      <td>Transport-moving</td>\n",
       "      <td>Not-in-family</td>\n",
       "      <td>White</td>\n",
       "      <td>1</td>\n",
       "      <td>0</td>\n",
       "      <td>1729</td>\n",
       "      <td>40</td>\n",
       "      <td>0</td>\n",
       "      <td>0</td>\n",
       "    </tr>\n",
       "  </tbody>\n",
       "</table>\n",
       "</div>"
      ],
      "text/plain": [
       "   age     workclass  fnlwgt  education-num      marital-status  \\\n",
       "0   47  Self-emp-inc  334052             13  Married-civ-spouse   \n",
       "1   35     Local-gov  215409              6            Divorced   \n",
       "2   43       Private  395792             14  Married-civ-spouse   \n",
       "3   52       Private  180461             11  Married-civ-spouse   \n",
       "4   27   Federal-gov  293395              9       Never-married   \n",
       "\n",
       "         occupation   relationship   race  sex  capital-gain  capital-loss  \\\n",
       "0             Sales        Husband  White    1             0             0   \n",
       "1  Transport-moving  Not-in-family  White    1          7612             0   \n",
       "2   Exec-managerial        Husband  White    1             0             0   \n",
       "3   Exec-managerial        Husband  White    1             0             0   \n",
       "4  Transport-moving  Not-in-family  White    1             0          1729   \n",
       "\n",
       "   hours-per-week  income  income-predicted  \n",
       "0              51       1                 1  \n",
       "1              40       0                 0  \n",
       "2              46       1                 1  \n",
       "3              49       1                 1  \n",
       "4              40       0                 0  "
      ]
     },
     "execution_count": 604,
     "metadata": {},
     "output_type": "execute_result"
    }
   ],
   "source": [
    "df_train.head()"
   ]
  },
  {
   "cell_type": "code",
   "execution_count": 515,
   "metadata": {},
   "outputs": [],
   "source": [
    "features_4_scanning = ['race', 'sex']"
   ]
  },
  {
   "cell_type": "code",
   "execution_count": 607,
   "metadata": {},
   "outputs": [],
   "source": [
    "def print_report(data, subset):\n",
    "    \"\"\"Utility function to pretty-print the subsets.\"\"\"\n",
    "    if subset:\n",
    "        to_choose = df_train[subset.keys()].isin(subset).all(axis=1)\n",
    "        df = df_train[[\"income\", \"income-predicted\"]][to_choose]\n",
    "    else:\n",
    "        for col in features_4_scanning:\n",
    "            subset[col] = list(data[col].unique())\n",
    "        df = df_train[[\"income\", \"income-predicted\"]]\n",
    "\n",
    "    true = df[\"income\"].sum()\n",
    "    pred = df[\"income-predicted\"].sum()\n",
    "\n",
    "    print(\"\\033[1mSubset: \\033[0m\")\n",
    "    print(subset)\n",
    "    print(\"\\033[1mSubset Size: \\033[0m\", len(df))\n",
    "    print(\"\\033[1mTrue Clicks: \\033[0m\", true)\n",
    "    print(\"\\033[1mPredicted Clicks: \\033[0m\", pred)\n",
    "    print()"
   ]
  },
  {
   "cell_type": "code",
   "execution_count": 608,
   "metadata": {},
   "outputs": [
    {
     "name": "stdout",
     "output_type": "stream",
     "text": [
      "\u001b[1mSubset: \u001b[0m\n",
      "{'race': ['White', 'Amer-Indian-Eskimo', 'Black', 'Asian-Pac-Islander', 'Other'], 'sex': [1, 0]}\n",
      "\u001b[1mSubset Size: \u001b[0m 39073\n",
      "\u001b[1mTrue Clicks: \u001b[0m 10545\n",
      "\u001b[1mPredicted Clicks: \u001b[0m 8092\n",
      "\n"
     ]
    }
   ],
   "source": [
    "from aif360.detectors.mdss.generator import get_random_subset\n",
    "\n",
    "random_subset = get_random_subset(df_train[features_4_scanning], prob = 0.05, min_elements = 10000)\n",
    "print_report(df_train, random_subset)"
   ]
  },
  {
   "cell_type": "code",
   "execution_count": 616,
   "metadata": {},
   "outputs": [
    {
     "name": "stdout",
     "output_type": "stream",
     "text": [
      "\u001b[1mSubset: \u001b[0m\n",
      "{'race': ['White', 'Amer-Indian-Eskimo', 'Black', 'Asian-Pac-Islander', 'Other'], 'sex': [1, 0]}\n",
      "\u001b[1mSubset Size: \u001b[0m 39073\n",
      "\u001b[1mTrue Clicks: \u001b[0m 10545\n",
      "\u001b[1mPredicted Clicks: \u001b[0m 8092\n",
      "\n"
     ]
    }
   ],
   "source": [
    "from aif360.detectors.mdss.ScoringFunctions import Bernoulli\n",
    "from aif360.detectors.mdss.MDSS import MDSS\n",
    "\n",
    "# Bias scan\n",
    "scoring_function = Bernoulli(direction=\"negative\")\n",
    "scanner = MDSS(scoring_function)\n",
    "\n",
    "scanned_subset, _ = scanner.scan(\n",
    "    df_train[features_4_scanning],\n",
    "    expectations=df_train[\"income-predicted\"],\n",
    "    outcomes=df_train[\"income\"],\n",
    "    penalty=1,\n",
    "    num_iters=1,\n",
    "    verbose=False,\n",
    ")\n",
    "\n",
    "print_report(df_train, scanned_subset)"
   ]
  },
  {
   "cell_type": "code",
   "execution_count": 619,
   "metadata": {},
   "outputs": [
    {
     "name": "stdout",
     "output_type": "stream",
     "text": [
      "\u001b[1mSubset: \u001b[0m\n",
      "{'race': ['White'], 'sex': [0]}\n",
      "\u001b[1mSubset Size: \u001b[0m 9798\n",
      "\u001b[1mTrue Clicks: \u001b[0m 1799\n",
      "\u001b[1mPredicted Clicks: \u001b[0m 1339\n",
      "\n",
      "\u001b[1mSubset: \u001b[0m\n",
      "{'race': ['White'], 'sex': [1]}\n",
      "\u001b[1mSubset Size: \u001b[0m 18291\n",
      "\u001b[1mTrue Clicks: \u001b[0m 7275\n",
      "\u001b[1mPredicted Clicks: \u001b[0m 5863\n",
      "\n",
      "\u001b[1mSubset: \u001b[0m\n",
      "{'race': ['Black'], 'sex': [0]}\n",
      "\u001b[1mSubset Size: \u001b[0m 2876\n",
      "\u001b[1mTrue Clicks: \u001b[0m 220\n",
      "\u001b[1mPredicted Clicks: \u001b[0m 61\n",
      "\n",
      "\u001b[1mSubset: \u001b[0m\n",
      "{'race': ['Black'], 'sex': [1]}\n",
      "\u001b[1mSubset Size: \u001b[0m 2263\n",
      "\u001b[1mTrue Clicks: \u001b[0m 262\n",
      "\u001b[1mPredicted Clicks: \u001b[0m 148\n",
      "\n",
      "\u001b[1mSubset: \u001b[0m\n",
      "{'race': ['Amer-Indian-Eskimo'], 'sex': [0]}\n",
      "\u001b[1mSubset Size: \u001b[0m 609\n",
      "\u001b[1mTrue Clicks: \u001b[0m 59\n",
      "\u001b[1mPredicted Clicks: \u001b[0m 22\n",
      "\n",
      "\u001b[1mSubset: \u001b[0m\n",
      "{'race': ['Amer-Indian-Eskimo'], 'sex': [1]}\n",
      "\u001b[1mSubset Size: \u001b[0m 583\n",
      "\u001b[1mTrue Clicks: \u001b[0m 84\n",
      "\u001b[1mPredicted Clicks: \u001b[0m 51\n",
      "\n",
      "\u001b[1mSubset: \u001b[0m\n",
      "{'race': ['Asian-Pac-Islander'], 'sex': [0]}\n",
      "\u001b[1mSubset Size: \u001b[0m 1001\n",
      "\u001b[1mTrue Clicks: \u001b[0m 193\n",
      "\u001b[1mPredicted Clicks: \u001b[0m 83\n",
      "\n",
      "\u001b[1mSubset: \u001b[0m\n",
      "{'race': ['Asian-Pac-Islander'], 'sex': [1]}\n",
      "\u001b[1mSubset Size: \u001b[0m 2083\n",
      "\u001b[1mTrue Clicks: \u001b[0m 551\n",
      "\u001b[1mPredicted Clicks: \u001b[0m 506\n",
      "\n",
      "\u001b[1mSubset: \u001b[0m\n",
      "{'sex': [0]}\n",
      "\u001b[1mSubset Size: \u001b[0m 14711\n",
      "\u001b[1mTrue Clicks: \u001b[0m 2298\n",
      "\u001b[1mPredicted Clicks: \u001b[0m 1510\n",
      "\n",
      "\u001b[1mSubset: \u001b[0m\n",
      "{'sex': [1]}\n",
      "\u001b[1mSubset Size: \u001b[0m 24362\n",
      "\u001b[1mTrue Clicks: \u001b[0m 8247\n",
      "\u001b[1mPredicted Clicks: \u001b[0m 6582\n",
      "\n"
     ]
    }
   ],
   "source": [
    "print_report(df_train, {'race': ['White'], 'sex': [0]})\n",
    "print_report(df_train, {'race': ['White'], 'sex': [1]})\n",
    "print_report(df_train, {'race': ['Black'], 'sex': [0]})\n",
    "print_report(df_train, {'race': ['Black'], 'sex': [1]})\n",
    "print_report(df_train, {'race': ['Amer-Indian-Eskimo'], 'sex': [0]})\n",
    "print_report(df_train, {'race': ['Amer-Indian-Eskimo'], 'sex': [1]})\n",
    "print_report(df_train, {'race': ['Asian-Pac-Islander'], 'sex': [0]})\n",
    "print_report(df_train, {'race': ['Asian-Pac-Islander'], 'sex': [1]})\n",
    "print_report(df_train, {'sex': [0]})\n",
    "print_report(df_train, {'sex': [1]})"
   ]
  },
  {
   "cell_type": "markdown",
   "metadata": {},
   "source": [
    "### Creating a dataset for evaluation"
   ]
  },
  {
   "cell_type": "code",
   "execution_count": 701,
   "metadata": {},
   "outputs": [],
   "source": [
    "from aif360.datasets import StandardDataset\n",
    "\n",
    "def convert_to_standard_dataset(df, target_label_name, scores_name=\"\"):\n",
    "\n",
    "    # List of names corresponding to protected attribute columns in the dataset.\n",
    "    # Note that the terminology \"protected attribute\" used in AI Fairness 360 to\n",
    "    # divide the dataset into multiple groups for measuring and mitigating \n",
    "    # group-level bias.\n",
    "    protected_attributes=['sex', 'race']\n",
    "    \n",
    "    # columns from the dataset that we want to select for this Bias study\n",
    "    selected_features = df.columns\n",
    "    \n",
    "    # This privileged class is selected based on MDSS subgroup evaluation.\n",
    "    # in previous steps. In our case non-homeowner (homeowner=0) are considered to \n",
    "    # be privileged and homeowners (homeowner=1) are considered as unprivileged.\n",
    "    privileged_classes = [[1], ['White']]   \n",
    "\n",
    "    # Label values which are considered favorable are listed. All others are \n",
    "    # unfavorable. Label values are mapped to 1 (favorable) and 0 (unfavorable) \n",
    "    # if they are not already binary and numerical.\n",
    "    favorable_target_label = [1]\n",
    "\n",
    "    # List of column names in the DataFrame which are to be expanded into one-hot vectors.\n",
    "    categorical_features = ['workclass', 'marital-status', 'occupation', 'relationship']\n",
    "\n",
    "    # create the `StandardDataset` object\n",
    "    standard_dataset = StandardDataset(df=df, label_name=target_label_name,\n",
    "                                    favorable_classes=favorable_target_label,\n",
    "                                    scores_name=scores_name,\n",
    "                                    protected_attribute_names=protected_attributes,\n",
    "                                    privileged_classes=privileged_classes,\n",
    "                                    categorical_features=categorical_features,\n",
    "                                    # features_to_keep=selected_features\n",
    "                                    )\n",
    "    if scores_name==\"\":\n",
    "        standard_dataset.scores = standard_dataset.labels.copy()\n",
    "        \n",
    "    return standard_dataset"
   ]
  },
  {
   "cell_type": "code",
   "execution_count": 702,
   "metadata": {},
   "outputs": [
    {
     "name": "stderr",
     "output_type": "stream",
     "text": [
      "WARNING:root:Missing Data: 4625 rows removed from StandardDataset.\n"
     ]
    }
   ],
   "source": [
    "# Create two StandardDataset objects - one with true conversions and one with\n",
    "# predicted conversions.\n",
    "\n",
    "# First create the predicted dataset\n",
    "dataset_pred = convert_to_standard_dataset(df_train, target_label_name = 'income-predicted')\n",
    "# dataset_orig = convert_to_standard_dataset(df_train, target_label_name = 'income')\n",
    "# Use this to create the original dataset\n",
    "dataset_orig = dataset_pred.copy()\n",
    "dataset_orig.labels =  df_train.dropna()[\"income\"].values.reshape(-1, 1)\n",
    "dataset_orig.scores =  df_train.dropna()[\"income\"].values.reshape(-1, 1)"
   ]
  },
  {
   "cell_type": "code",
   "execution_count": null,
   "metadata": {},
   "outputs": [],
   "source": [
    "# Metrics function\n",
    "from collections import OrderedDict\n",
    "from aif360.metrics import ClassificationMetric, BinaryLabelDatasetMetric\n",
    "\n",
    "\n",
    "def compute_metrics(\n",
    "    dataset_true, dataset_pred, unprivileged_groups, privileged_groups, disp=True\n",
    "):\n",
    "    \"\"\"Compute the key metrics\"\"\"\n",
    "    classified_metric_pred = ClassificationMetric(\n",
    "        dataset_true,\n",
    "        dataset_pred,\n",
    "        unprivileged_groups=unprivileged_groups,\n",
    "        privileged_groups=privileged_groups,\n",
    "    )\n",
    "    metrics = OrderedDict()\n",
    "    metrics[\"Balanced accuracy\"] = 0.5 * (\n",
    "        classified_metric_pred.true_positive_rate()\n",
    "        + classified_metric_pred.true_negative_rate()\n",
    "    )\n",
    "    metrics[\"Statistical parity difference\"] = (\n",
    "        classified_metric_pred.statistical_parity_difference()\n",
    "    )\n",
    "    metrics[\"Disparate impact\"] = classified_metric_pred.disparate_impact()\n",
    "    metrics[\"Average odds difference\"] = (\n",
    "        classified_metric_pred.average_odds_difference()\n",
    "    )\n",
    "    metrics[\"Equal opportunity difference\"] = (\n",
    "        classified_metric_pred.equal_opportunity_difference()\n",
    "    )\n",
    "    metrics[\"Theil index\"] = classified_metric_pred.theil_index()\n",
    "\n",
    "    if disp:\n",
    "        for k in metrics:\n",
    "            print(\"%s = %.4f\" % (k, metrics[k]))\n",
    "\n",
    "    return metrics"
   ]
  },
  {
   "cell_type": "code",
   "execution_count": 717,
   "metadata": {},
   "outputs": [
    {
     "name": "stdout",
     "output_type": "stream",
     "text": [
      "Balanced accuracy = 0.7736\n",
      "Statistical parity difference = -0.3101\n",
      "Disparate impact = 0.1198\n",
      "Average odds difference = -0.2772\n",
      "Equal opportunity difference = -0.4673\n",
      "Theil index = 0.1388\n"
     ]
    }
   ],
   "source": [
    "privileged_groups = [{\"sex\": 1,  'race': 1}]\n",
    "unprivileged_groups = [{\"sex\": 0, 'race': 0}]\n",
    "metrics = compute_metrics(dataset_orig, dataset_pred, unprivileged_groups, privileged_groups)"
   ]
  },
  {
   "cell_type": "markdown",
   "metadata": {},
   "source": [
    "Use BinaryLabelMetric to compare metrics of predicted vs original"
   ]
  },
  {
   "cell_type": "code",
   "execution_count": 728,
   "metadata": {},
   "outputs": [
    {
     "name": "stdout",
     "output_type": "stream",
     "text": [
      "Disparate impact (probability of favorable outcome for unprivileged instances / probability of favorable outcome for privileged instances): 0.11975200083842225\n",
      "Average odds difference (average of TPR difference and FPR difference, 0 = equality of odds): -0.27724931870905417\n",
      "Statistical parity difference (probability of favorable outcome for unprivileged instances - probability of favorable outcome for privileged instances): -0.3100520692995215\n",
      "True positive rate difference (true positive rate on unprivileged instances - true positive rate on privileged instances): -0.4672961309896644\n"
     ]
    }
   ],
   "source": [
    "from aif360.explainers import MetricTextExplainer\n",
    "\n",
    "classified_metric = ClassificationMetric(\n",
    "        dataset_orig, dataset_pred,\n",
    "        unprivileged_groups=unprivileged_groups,\n",
    "        privileged_groups=privileged_groups,\n",
    ")\n",
    "\n",
    "explainer_classified_metric = MetricTextExplainer(classified_metric)\n",
    "print(explainer_classified_metric.disparate_impact())\n",
    "print(explainer_classified_metric.average_odds_difference())\n",
    "print(explainer_classified_metric.statistical_parity_difference())\n",
    "print(explainer_classified_metric.equal_opportunity_difference())"
   ]
  },
  {
   "cell_type": "code",
   "execution_count": 730,
   "metadata": {},
   "outputs": [],
   "source": [
    "from aif360.metrics import MDSSClassificationMetric\n",
    "\n",
    "mdss_classification_metric = MDSSClassificationMetric(\n",
    "        dataset_orig, dataset_pred,\n",
    "        unprivileged_groups=unprivileged_groups,\n",
    "        privileged_groups=privileged_groups,\n",
    ")"
   ]
  },
  {
   "cell_type": "markdown",
   "metadata": {},
   "source": [
    "## Mitigation"
   ]
  },
  {
   "cell_type": "code",
   "execution_count": null,
   "metadata": {},
   "outputs": [],
   "source": []
  }
 ],
 "metadata": {
  "kernelspec": {
   "display_name": "Python 3 (ipykernel)",
   "language": "python",
   "name": "python3"
  },
  "language_info": {
   "codemirror_mode": {
    "name": "ipython",
    "version": 3
   },
   "file_extension": ".py",
   "mimetype": "text/x-python",
   "name": "python",
   "nbconvert_exporter": "python",
   "pygments_lexer": "ipython3",
   "version": "3.10.9"
  },
  "toc": {
   "base_numbering": 1,
   "nav_menu": {
    "height": "12px",
    "width": "252px"
   },
   "number_sections": true,
   "sideBar": true,
   "skip_h1_title": false,
   "title_cell": "Table of Contents",
   "title_sidebar": "Contents",
   "toc_cell": false,
   "toc_position": {
    "height": "calc(100% - 180px)",
    "left": "10px",
    "top": "150px",
    "width": "463px"
   },
   "toc_section_display": "block",
   "toc_window_display": true
  }
 },
 "nbformat": 4,
 "nbformat_minor": 2
}
