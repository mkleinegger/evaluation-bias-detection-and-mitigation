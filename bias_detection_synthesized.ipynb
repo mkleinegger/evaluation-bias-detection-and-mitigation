{
 "cells": [
  {
   "cell_type": "markdown",
   "metadata": {},
   "source": [
    "## Load data"
   ]
  },
  {
   "cell_type": "code",
   "execution_count": 63,
   "metadata": {},
   "outputs": [],
   "source": [
    "import pandas as pd\n",
    "import warnings\n",
    "\n",
    "warnings.filterwarnings(\"ignore\")\n",
    "random_state = 12041500"
   ]
  },
  {
   "cell_type": "code",
   "execution_count": 64,
   "metadata": {},
   "outputs": [],
   "source": [
    "def load_data():\n",
    "    df_train = pd.read_json(\"./data/synthetic_data_CTGANSynthesizer.json\")\n",
    "    df_test = pd.read_json(\"./data/testset.json\")\n",
    "\n",
    "    df_train.drop(columns=['fnlwgt'], inplace=True)\n",
    "    df_test.drop(columns=['fnlwgt'], inplace=True)\n",
    "\n",
    "    return df_train, df_test\n",
    "\n",
    "df_train, df_test = load_data()\n",
    "\n",
    "ratio_features = [\"age\", \"capital-gain\", \"capital-loss\", \"hours-per-week\"]\n",
    "ordinal_features = [\"education-num\"]\n",
    "nominal_features = ['workclass', 'marital-status', 'occupation', 'relationship', 'race', 'sex']\n",
    "target = 'income'"
   ]
  },
  {
   "cell_type": "markdown",
   "metadata": {},
   "source": [
    "## Train baseline"
   ]
  },
  {
   "cell_type": "code",
   "execution_count": 65,
   "metadata": {},
   "outputs": [],
   "source": [
    "from sklearn.linear_model import LogisticRegression\n",
    "from utils import create_model, train_and_evaluate, describe_model"
   ]
  },
  {
   "cell_type": "code",
   "execution_count": 66,
   "metadata": {},
   "outputs": [],
   "source": [
    "clf = LogisticRegression(max_iter=1000, random_state=random_state)"
   ]
  },
  {
   "cell_type": "code",
   "execution_count": 67,
   "metadata": {},
   "outputs": [
    {
     "name": "stdout",
     "output_type": "stream",
     "text": [
      "Metric         Value               \n",
      "Accuracy       0.8361032716630082\n",
      "Precision      0.7822701965699763\n",
      "Recall         0.7458442654631545\n",
      "F1             0.7608356769787064\n"
     ]
    }
   ],
   "source": [
    "## Train baseline\n",
    "model = create_model(clf, nominal_features)\n",
    "y_test, y_pred = train_and_evaluate(model, df_train, df_test, target, drop_na=True)\n",
    "metrics = describe_model(y_test, y_pred, verbose=True)"
   ]
  },
  {
   "cell_type": "markdown",
   "metadata": {},
   "source": [
    "## Fairness Evaluation"
   ]
  },
  {
   "cell_type": "code",
   "execution_count": 68,
   "metadata": {},
   "outputs": [],
   "source": [
    "from utils import split_data\n",
    "from utils_fairness import search_bias, calc_fairness_score, explain_detected_bias"
   ]
  },
  {
   "cell_type": "code",
   "execution_count": 69,
   "metadata": {},
   "outputs": [],
   "source": [
    "X_train, y_train = split_data(df_train, target, drop_na=True)"
   ]
  },
  {
   "cell_type": "code",
   "execution_count": 70,
   "metadata": {},
   "outputs": [],
   "source": [
    "model = create_model(clf, nominal_features)\n",
    "model.fit(X_train, y_train)\n",
    "probs = pd.Series(model.predict_proba(X_train)[:, 1]) # we select for target label"
   ]
  },
  {
   "cell_type": "code",
   "execution_count": 71,
   "metadata": {},
   "outputs": [],
   "source": [
    "privileged_subset, _ = search_bias(X_train, y_train, probs, 1, penalty=1)"
   ]
  },
  {
   "cell_type": "code",
   "execution_count": 72,
   "metadata": {},
   "outputs": [
    {
     "name": "stdout",
     "output_type": "stream",
     "text": [
      "({'capital-gain': [0, 1, 4, 5, 6]}, 226.8525)\n"
     ]
    }
   ],
   "source": [
    "print(privileged_subset)"
   ]
  },
  {
   "cell_type": "code",
   "execution_count": 73,
   "metadata": {},
   "outputs": [
    {
     "name": "stdout",
     "output_type": "stream",
     "text": [
      "Sensitive Attributes: ['capital-gain']\n",
      "\n",
      "                         Group Distance  Proportion  Counts   P-Value\n",
      "capital-gain [37.00, 16383.00]    0.434    0.095449    3563  0.00e+00\n",
      "    capital-gain [-0.00, 5.00]   -0.137    0.517078   19302 1.48e-323\n",
      "   capital-gain [23.00, 37.00]    0.253    0.097458    3638 3.41e-256\n",
      "   capital-gain [15.00, 23.00]    0.087    0.106352    3970  1.82e-38\n",
      "    capital-gain [5.00, 10.00]   -0.047    0.097645    3645  2.44e-13\n",
      "\n",
      "Weighted Mean Statistical Distance: 0.1648489023109496\n"
     ]
    },
    {
     "data": {
      "text/plain": [
       "<fairlens.scorer.FairnessScorer at 0x2c1ae9e40>"
      ]
     },
     "execution_count": 73,
     "metadata": {},
     "output_type": "execute_result"
    }
   ],
   "source": [
    "calc_fairness_score(df_train, privileged_subset[0].keys(), target, verbose=True)"
   ]
  },
  {
   "cell_type": "code",
   "execution_count": 74,
   "metadata": {},
   "outputs": [
    {
     "name": "stdout",
     "output_type": "stream",
     "text": [
      "Our detected privileged group has a size of 19340, we observe 0.0639 as the average probability of earning >50k, but our model predicts 0.2058\n"
     ]
    }
   ],
   "source": [
    "explain_detected_bias(df_train, probs, target, privileged_subset[0])"
   ]
  },
  {
   "cell_type": "markdown",
   "metadata": {},
   "source": [
    "## Fairness Metrics"
   ]
  },
  {
   "cell_type": "code",
   "execution_count": 75,
   "metadata": {},
   "outputs": [],
   "source": [
    "from utils_fairness import transform_to_bias_dataset, describe_fairness, scan_and_calculate_fairness, plot_fairness_metrics"
   ]
  },
  {
   "cell_type": "code",
   "execution_count": 76,
   "metadata": {},
   "outputs": [
    {
     "name": "stdout",
     "output_type": "stream",
     "text": [
      "1744 Na rows removed!\n",
      "202 Na rows removed!\n"
     ]
    }
   ],
   "source": [
    "df_train_bias = transform_to_bias_dataset(df_train, list(privileged_subset[0].keys()), list(privileged_subset[0].values()), verbose=True)\n",
    "df_test_bias = transform_to_bias_dataset(df_test, list(privileged_subset[0].keys()), list(privileged_subset[0].values()), verbose=True)"
   ]
  },
  {
   "cell_type": "code",
   "execution_count": 77,
   "metadata": {},
   "outputs": [
    {
     "name": "stdout",
     "output_type": "stream",
     "text": [
      "Metric                          Value               \n",
      "statistical_parity_difference   0.2197822046732668\n",
      "average_odds_difference         0.18205092550757615\n",
      "equal_opportunity_difference    0.29737495102520567\n",
      "disparate_impact                5.9488519842526815\n",
      "theil_index                     0.11351788790247734\n"
     ]
    }
   ],
   "source": [
    "model = create_model(clf, nominal_features)\n",
    "y_test, y_pred = train_and_evaluate(model, df_train, df_train, target, drop_na=True)\n",
    "metrics = describe_fairness(df_train_bias[target], y_pred, list(privileged_subset[0].keys()), verbose=True)"
   ]
  },
  {
   "cell_type": "code",
   "execution_count": 78,
   "metadata": {},
   "outputs": [],
   "source": [
    "df_fairness_metrics, priviliged_subsets = pd.DataFrame(\n",
    "    columns=[\n",
    "        \"statistical_parity_difference\",\n",
    "        \"average_abs_odds_difference\",\n",
    "        \"equal_opportunity_difference\",\n",
    "        \"disparate_impact\",\n",
    "        \"theil_index\",\n",
    "    ]\n",
    "), {}\n",
    "\n",
    "for i in [1e-17, 1e-10, 0.001, 0.01, 0.1, 0, 1, 5, 10, 25, 50, 100]:\n",
    "    metrics, priv = scan_and_calculate_fairness(model, df_train, target, i)    \n",
    "    df_fairness_metrics.loc[f\"{i}\"] = metrics.values()\n",
    "    priviliged_subsets[f\"{i}\"] = priv"
   ]
  },
  {
   "cell_type": "code",
   "execution_count": 79,
   "metadata": {},
   "outputs": [
    {
     "data": {
      "text/html": [
       "<div>\n",
       "<style scoped>\n",
       "    .dataframe tbody tr th:only-of-type {\n",
       "        vertical-align: middle;\n",
       "    }\n",
       "\n",
       "    .dataframe tbody tr th {\n",
       "        vertical-align: top;\n",
       "    }\n",
       "\n",
       "    .dataframe thead th {\n",
       "        text-align: right;\n",
       "    }\n",
       "</style>\n",
       "<table border=\"1\" class=\"dataframe\">\n",
       "  <thead>\n",
       "    <tr style=\"text-align: right;\">\n",
       "      <th></th>\n",
       "      <th>statistical_parity_difference</th>\n",
       "      <th>average_abs_odds_difference</th>\n",
       "      <th>equal_opportunity_difference</th>\n",
       "      <th>disparate_impact</th>\n",
       "      <th>theil_index</th>\n",
       "    </tr>\n",
       "  </thead>\n",
       "  <tbody>\n",
       "    <tr>\n",
       "      <th>1e-17</th>\n",
       "      <td>0.157790</td>\n",
       "      <td>0.301264</td>\n",
       "      <td>0.548028</td>\n",
       "      <td>80.920614</td>\n",
       "      <td>0.113518</td>\n",
       "    </tr>\n",
       "    <tr>\n",
       "      <th>1e-10</th>\n",
       "      <td>0.176903</td>\n",
       "      <td>0.143317</td>\n",
       "      <td>0.245121</td>\n",
       "      <td>4.778996</td>\n",
       "      <td>0.113518</td>\n",
       "    </tr>\n",
       "    <tr>\n",
       "      <th>0.001</th>\n",
       "      <td>-0.072405</td>\n",
       "      <td>-0.190094</td>\n",
       "      <td>-0.251483</td>\n",
       "      <td>0.678597</td>\n",
       "      <td>0.113518</td>\n",
       "    </tr>\n",
       "    <tr>\n",
       "      <th>0.01</th>\n",
       "      <td>0.106165</td>\n",
       "      <td>0.276341</td>\n",
       "      <td>0.548028</td>\n",
       "      <td>3.123298</td>\n",
       "      <td>0.113518</td>\n",
       "    </tr>\n",
       "    <tr>\n",
       "      <th>0.1</th>\n",
       "      <td>0.164673</td>\n",
       "      <td>0.148689</td>\n",
       "      <td>0.262768</td>\n",
       "      <td>4.440570</td>\n",
       "      <td>0.113518</td>\n",
       "    </tr>\n",
       "    <tr>\n",
       "      <th>0</th>\n",
       "      <td>0.157790</td>\n",
       "      <td>0.301264</td>\n",
       "      <td>0.548028</td>\n",
       "      <td>80.920614</td>\n",
       "      <td>0.113518</td>\n",
       "    </tr>\n",
       "    <tr>\n",
       "      <th>1</th>\n",
       "      <td>0.219782</td>\n",
       "      <td>0.182051</td>\n",
       "      <td>0.297375</td>\n",
       "      <td>5.948852</td>\n",
       "      <td>0.113518</td>\n",
       "    </tr>\n",
       "    <tr>\n",
       "      <th>5</th>\n",
       "      <td>0.208665</td>\n",
       "      <td>0.180456</td>\n",
       "      <td>0.297944</td>\n",
       "      <td>6.022775</td>\n",
       "      <td>0.113518</td>\n",
       "    </tr>\n",
       "    <tr>\n",
       "      <th>10</th>\n",
       "      <td>0.201300</td>\n",
       "      <td>0.189152</td>\n",
       "      <td>0.317138</td>\n",
       "      <td>6.455366</td>\n",
       "      <td>0.113518</td>\n",
       "    </tr>\n",
       "    <tr>\n",
       "      <th>25</th>\n",
       "      <td>0.201300</td>\n",
       "      <td>0.189152</td>\n",
       "      <td>0.317138</td>\n",
       "      <td>6.455366</td>\n",
       "      <td>0.113518</td>\n",
       "    </tr>\n",
       "    <tr>\n",
       "      <th>50</th>\n",
       "      <td>0.201300</td>\n",
       "      <td>0.189152</td>\n",
       "      <td>0.317138</td>\n",
       "      <td>6.455366</td>\n",
       "      <td>0.113518</td>\n",
       "    </tr>\n",
       "    <tr>\n",
       "      <th>100</th>\n",
       "      <td>0.201300</td>\n",
       "      <td>0.189152</td>\n",
       "      <td>0.317138</td>\n",
       "      <td>6.455366</td>\n",
       "      <td>0.113518</td>\n",
       "    </tr>\n",
       "  </tbody>\n",
       "</table>\n",
       "</div>"
      ],
      "text/plain": [
       "       statistical_parity_difference  average_abs_odds_difference  \\\n",
       "1e-17                       0.157790                     0.301264   \n",
       "1e-10                       0.176903                     0.143317   \n",
       "0.001                      -0.072405                    -0.190094   \n",
       "0.01                        0.106165                     0.276341   \n",
       "0.1                         0.164673                     0.148689   \n",
       "0                           0.157790                     0.301264   \n",
       "1                           0.219782                     0.182051   \n",
       "5                           0.208665                     0.180456   \n",
       "10                          0.201300                     0.189152   \n",
       "25                          0.201300                     0.189152   \n",
       "50                          0.201300                     0.189152   \n",
       "100                         0.201300                     0.189152   \n",
       "\n",
       "       equal_opportunity_difference  disparate_impact  theil_index  \n",
       "1e-17                      0.548028         80.920614     0.113518  \n",
       "1e-10                      0.245121          4.778996     0.113518  \n",
       "0.001                     -0.251483          0.678597     0.113518  \n",
       "0.01                       0.548028          3.123298     0.113518  \n",
       "0.1                        0.262768          4.440570     0.113518  \n",
       "0                          0.548028         80.920614     0.113518  \n",
       "1                          0.297375          5.948852     0.113518  \n",
       "5                          0.297944          6.022775     0.113518  \n",
       "10                         0.317138          6.455366     0.113518  \n",
       "25                         0.317138          6.455366     0.113518  \n",
       "50                         0.317138          6.455366     0.113518  \n",
       "100                        0.317138          6.455366     0.113518  "
      ]
     },
     "execution_count": 79,
     "metadata": {},
     "output_type": "execute_result"
    }
   ],
   "source": [
    "df_fairness_metrics"
   ]
  },
  {
   "cell_type": "code",
   "execution_count": 80,
   "metadata": {},
   "outputs": [],
   "source": [
    "df_fairness_metrics.to_json(\"./results/fairness_metrics_synthetic.json\")"
   ]
  },
  {
   "cell_type": "code",
   "execution_count": 81,
   "metadata": {},
   "outputs": [],
   "source": [
    "def calc_diff(data, expectations, target, subset):\n",
    "    if len(subset) == 0:\n",
    "        return {\n",
    "            \"count\": 0,\n",
    "            \"expected_probability\": np.NaN,\n",
    "            \"model_probability\": np.NaN\n",
    "        }\n",
    "\n",
    "    _df = data.copy()\n",
    "    _df[\"expectations\"] = expectations.copy()\n",
    "\n",
    "    _to_choose = _df[subset.keys()].isin(subset).all(axis=1)\n",
    "    _to_choose = _df.loc[_to_choose]\n",
    "\n",
    "    return {\n",
    "        \"count\": len(_to_choose),\n",
    "        \"expected_probability\": np.round(_to_choose[target].mean(), 4),\n",
    "        \"model_probability\": np.round(_to_choose[\"expectations\"].mean(), 4),\n",
    "    }"
   ]
  },
  {
   "cell_type": "code",
   "execution_count": 82,
   "metadata": {},
   "outputs": [],
   "source": [
    "model = create_model(clf, nominal_features)\n",
    "model.fit(X_train, y_train)\n",
    "probs = pd.Series(model.predict_proba(X_train)[:, 1]) # we select for target label\n",
    "\n",
    "df_probs_diff = pd.DataFrame(\n",
    "    columns=[\n",
    "        \"count\",\n",
    "        \"expected_probability\",\n",
    "        \"model_probability\",\n",
    "    ]\n",
    ")\n",
    "for penalty, priv in priviliged_subsets.items():\n",
    "    df_probs_diff.loc[penalty] = calc_diff(df_train, probs, target, priv[0])"
   ]
  },
  {
   "cell_type": "code",
   "execution_count": 83,
   "metadata": {},
   "outputs": [
    {
     "data": {
      "text/html": [
       "<div>\n",
       "<style scoped>\n",
       "    .dataframe tbody tr th:only-of-type {\n",
       "        vertical-align: middle;\n",
       "    }\n",
       "\n",
       "    .dataframe tbody tr th {\n",
       "        vertical-align: top;\n",
       "    }\n",
       "\n",
       "    .dataframe thead th {\n",
       "        text-align: right;\n",
       "    }\n",
       "</style>\n",
       "<table border=\"1\" class=\"dataframe\">\n",
       "  <thead>\n",
       "    <tr style=\"text-align: right;\">\n",
       "      <th></th>\n",
       "      <th>count</th>\n",
       "      <th>expected_probability</th>\n",
       "      <th>model_probability</th>\n",
       "    </tr>\n",
       "  </thead>\n",
       "  <tbody>\n",
       "    <tr>\n",
       "      <th>1e-17</th>\n",
       "      <td>1013</td>\n",
       "      <td>0.0000</td>\n",
       "      <td>0.1981</td>\n",
       "    </tr>\n",
       "    <tr>\n",
       "      <th>1e-10</th>\n",
       "      <td>14398</td>\n",
       "      <td>0.0497</td>\n",
       "      <td>0.2066</td>\n",
       "    </tr>\n",
       "    <tr>\n",
       "      <th>0.001</th>\n",
       "      <td>1345</td>\n",
       "      <td>0.0766</td>\n",
       "      <td>0.2172</td>\n",
       "    </tr>\n",
       "    <tr>\n",
       "      <th>0.01</th>\n",
       "      <td>240</td>\n",
       "      <td>0.0000</td>\n",
       "      <td>0.1864</td>\n",
       "    </tr>\n",
       "    <tr>\n",
       "      <th>0.1</th>\n",
       "      <td>12933</td>\n",
       "      <td>0.0496</td>\n",
       "      <td>0.2051</td>\n",
       "    </tr>\n",
       "    <tr>\n",
       "      <th>0</th>\n",
       "      <td>1013</td>\n",
       "      <td>0.0000</td>\n",
       "      <td>0.1981</td>\n",
       "    </tr>\n",
       "    <tr>\n",
       "      <th>1</th>\n",
       "      <td>19340</td>\n",
       "      <td>0.0639</td>\n",
       "      <td>0.2058</td>\n",
       "    </tr>\n",
       "    <tr>\n",
       "      <th>5</th>\n",
       "      <td>17732</td>\n",
       "      <td>0.0594</td>\n",
       "      <td>0.2059</td>\n",
       "    </tr>\n",
       "    <tr>\n",
       "      <th>10</th>\n",
       "      <td>16030</td>\n",
       "      <td>0.0546</td>\n",
       "      <td>0.2068</td>\n",
       "    </tr>\n",
       "    <tr>\n",
       "      <th>25</th>\n",
       "      <td>16030</td>\n",
       "      <td>0.0546</td>\n",
       "      <td>0.2068</td>\n",
       "    </tr>\n",
       "    <tr>\n",
       "      <th>50</th>\n",
       "      <td>16030</td>\n",
       "      <td>0.0546</td>\n",
       "      <td>0.2068</td>\n",
       "    </tr>\n",
       "    <tr>\n",
       "      <th>100</th>\n",
       "      <td>16030</td>\n",
       "      <td>0.0546</td>\n",
       "      <td>0.2068</td>\n",
       "    </tr>\n",
       "  </tbody>\n",
       "</table>\n",
       "</div>"
      ],
      "text/plain": [
       "       count  expected_probability  model_probability\n",
       "1e-17   1013                0.0000             0.1981\n",
       "1e-10  14398                0.0497             0.2066\n",
       "0.001   1345                0.0766             0.2172\n",
       "0.01     240                0.0000             0.1864\n",
       "0.1    12933                0.0496             0.2051\n",
       "0       1013                0.0000             0.1981\n",
       "1      19340                0.0639             0.2058\n",
       "5      17732                0.0594             0.2059\n",
       "10     16030                0.0546             0.2068\n",
       "25     16030                0.0546             0.2068\n",
       "50     16030                0.0546             0.2068\n",
       "100    16030                0.0546             0.2068"
      ]
     },
     "execution_count": 83,
     "metadata": {},
     "output_type": "execute_result"
    }
   ],
   "source": [
    "df_probs_diff"
   ]
  },
  {
   "cell_type": "markdown",
   "metadata": {},
   "source": [
    "## Binned Data"
   ]
  },
  {
   "cell_type": "code",
   "execution_count": 84,
   "metadata": {},
   "outputs": [],
   "source": [
    "df_train, df_test = load_data()\n",
    "nominal_features = nominal_features + ['age', 'hours-per-week', 'capital-gain', 'capital-loss']"
   ]
  },
  {
   "cell_type": "code",
   "execution_count": 85,
   "metadata": {},
   "outputs": [],
   "source": [
    "import numpy as np\n",
    "import pandas as pd\n",
    "\n",
    "def clean_data(X: pd.DataFrame) -> pd.DataFrame:\n",
    "    X = X.reset_index(drop=True)\n",
    "    cols = list(X.columns)\n",
    "    X[cols] = X[cols].replace([\" ?\"], np.nan)\n",
    "    X = X.dropna()\n",
    "    def strip_str(x):\n",
    "        if isinstance(x, str):\n",
    "            return x.strip()\n",
    "        else:\n",
    "            return x\n",
    "    X = X.applymap(strip_str)\n",
    "    # X[\"relationship\"] = X[\"relationship\"].replace([\"Husband\", \"Wife\"], \"Married\")\n",
    "    X[\"hours-per-week\"] = pd.cut(\n",
    "        x=X[\"hours-per-week\"],\n",
    "        bins=[0.9, 25, 39, 40, 55, 100],\n",
    "        labels=[\"PartTime\", \"MidTime\", \"FullTime\", \"OverTime\", \"BrainDrain\"],\n",
    "    )\n",
    "    X.age = pd.qcut(X.age, q=5)\n",
    "    X[\"capital-gain\"] = pd.cut(\n",
    "        x=X[\"capital-gain\"],\n",
    "        bins=[-1, 0, 5000, 10000, 50000, 100000],\n",
    "        labels=[\"NoGain\", \"LowGain\", \"MediumGain\", \"HighGain\", \"VeryHighGain\"],\n",
    "    )\n",
    "    X[\"capital-loss\"] = pd.cut(\n",
    "        x=X[\"capital-loss\"],\n",
    "        bins=[-1, 0, 1000, 2000, 5000, 100000],\n",
    "        labels=[\"NoLoss\", \"LowLoss\", \"MediumLoss\", \"HighLoss\", \"VeryHighLoss\"],\n",
    "    )\n",
    "\n",
    "    return X\n",
    "\n",
    "df_train = clean_data(df_train.dropna())\n",
    "df_test = clean_data(df_test.dropna())"
   ]
  },
  {
   "cell_type": "code",
   "execution_count": 86,
   "metadata": {},
   "outputs": [],
   "source": [
    "for col in df_train.columns:\n",
    "    if df_train[col].dtype == \"category\":\n",
    "        df_train[col] = df_train[col].astype(\"object\")\n",
    "        df_test[col] = df_test[col].astype(\"object\")"
   ]
  },
  {
   "cell_type": "markdown",
   "metadata": {},
   "source": [
    "### Train baseline"
   ]
  },
  {
   "cell_type": "code",
   "execution_count": 87,
   "metadata": {},
   "outputs": [],
   "source": [
    "from sklearn.linear_model import LogisticRegression\n",
    "from utils import create_model, train_and_evaluate, describe_model"
   ]
  },
  {
   "cell_type": "code",
   "execution_count": 88,
   "metadata": {},
   "outputs": [],
   "source": [
    "clf = LogisticRegression(max_iter=1000, random_state=random_state)"
   ]
  },
  {
   "cell_type": "code",
   "execution_count": 89,
   "metadata": {},
   "outputs": [
    {
     "name": "stdout",
     "output_type": "stream",
     "text": [
      "Metric         Value               \n",
      "Accuracy       0.8366259015365318\n",
      "Precision      0.815639353554005\n",
      "Recall         0.7010494485756561\n",
      "F1             0.7318629810496294\n"
     ]
    }
   ],
   "source": [
    "## Train baseline\n",
    "model = create_model(clf, nominal_features)\n",
    "y_test, y_pred = train_and_evaluate(model, df_train, df_test, target, drop_na=True)\n",
    "metrics = describe_model(y_test, y_pred, verbose=True)"
   ]
  },
  {
   "cell_type": "markdown",
   "metadata": {},
   "source": [
    "### Fairness Evaluation"
   ]
  },
  {
   "cell_type": "code",
   "execution_count": 90,
   "metadata": {},
   "outputs": [],
   "source": [
    "from utils import split_data\n",
    "from utils_fairness import search_bias, calc_fairness_score, explain_detected_bias"
   ]
  },
  {
   "cell_type": "code",
   "execution_count": 91,
   "metadata": {},
   "outputs": [],
   "source": [
    "X_train, y_train = split_data(df_train, target, drop_na=True)"
   ]
  },
  {
   "cell_type": "code",
   "execution_count": 92,
   "metadata": {},
   "outputs": [],
   "source": [
    "model = create_model(clf, nominal_features)\n",
    "model.fit(X_train, y_train)\n",
    "probs = pd.Series(model.predict_proba(X_train)[:, 1]) # we select for target label"
   ]
  },
  {
   "cell_type": "code",
   "execution_count": 93,
   "metadata": {},
   "outputs": [],
   "source": [
    "privileged_subset, _ = search_bias(X_train, y_train, probs, 1, penalty=1)"
   ]
  },
  {
   "cell_type": "code",
   "execution_count": 94,
   "metadata": {},
   "outputs": [
    {
     "name": "stdout",
     "output_type": "stream",
     "text": [
      "({'education-num': [11, 13, 14], 'capital-loss': ['NoLoss'], 'sex': ['Male'], 'race': ['Black'], 'occupation': ['Prof-specialty', 'Protective-serv']}, 7.357)\n"
     ]
    }
   ],
   "source": [
    "print(privileged_subset)"
   ]
  },
  {
   "cell_type": "code",
   "execution_count": 95,
   "metadata": {},
   "outputs": [
    {
     "name": "stdout",
     "output_type": "stream",
     "text": [
      "Sensitive Attributes: ['capital-loss', 'education-num', 'occupation', 'race', 'sex']\n",
      "\n",
      "                               Group Distance  Proportion  Counts   P-Value\n",
      "        Exec-managerial, White, Male    0.486    0.042460    1585  0.00e+00\n",
      "         Prof-specialty, White, Male    0.373    0.061052    2279  0.00e+00\n",
      "                     Exec-managerial    0.409    0.067240    2510  0.00e+00\n",
      "                Prof-specialty, Male    0.348    0.078464    2929  0.00e+00\n",
      "               Exec-managerial, Male    0.482    0.051140    1909  0.00e+00\n",
      "       NoLoss, Exec-managerial, Male    0.472    0.039326    1468  0.00e+00\n",
      "              Exec-managerial, White    0.417    0.054971    2052  0.00e+00\n",
      "                              Female   -0.118    0.371481   13867 2.38e-317\n",
      "             NoLoss, Exec-managerial    0.396    0.051381    1918 2.51e-312\n",
      "NoLoss, Exec-managerial, White, Male    0.479    0.032495    1213 3.98e-283\n",
      "\n",
      "Weighted Mean Statistical Distance: 0.13175298419252776\n"
     ]
    },
    {
     "data": {
      "text/plain": [
       "<fairlens.scorer.FairnessScorer at 0x2c1a1d000>"
      ]
     },
     "execution_count": 95,
     "metadata": {},
     "output_type": "execute_result"
    }
   ],
   "source": [
    "calc_fairness_score(df_train, privileged_subset[0].keys(), target, verbose=True)"
   ]
  },
  {
   "cell_type": "code",
   "execution_count": 96,
   "metadata": {},
   "outputs": [
    {
     "name": "stdout",
     "output_type": "stream",
     "text": [
      "Our detected privileged group has a size of 110, we observe 0.0455 as the average probability of earning >50k, but our model predicts 0.2014\n"
     ]
    }
   ],
   "source": [
    "explain_detected_bias(df_train, probs, target, privileged_subset[0])"
   ]
  },
  {
   "cell_type": "markdown",
   "metadata": {},
   "source": [
    "### Fairness Metrics"
   ]
  },
  {
   "cell_type": "code",
   "execution_count": 97,
   "metadata": {},
   "outputs": [],
   "source": [
    "from utils_fairness import transform_to_bias_dataset, describe_fairness, scan_and_calculate_fairness, plot_fairness_metrics"
   ]
  },
  {
   "cell_type": "code",
   "execution_count": 98,
   "metadata": {},
   "outputs": [],
   "source": [
    "df_train_bias = transform_to_bias_dataset(df_train, list(privileged_subset[0].keys()), list(privileged_subset[0].values()), verbose=True)\n",
    "df_test_bias = transform_to_bias_dataset(df_test, list(privileged_subset[0].keys()), list(privileged_subset[0].values()), verbose=True)"
   ]
  },
  {
   "cell_type": "code",
   "execution_count": 99,
   "metadata": {},
   "outputs": [
    {
     "name": "stdout",
     "output_type": "stream",
     "text": [
      "Metric                          Value               \n",
      "statistical_parity_difference   0.027316204577818276\n",
      "average_odds_difference         -0.22859767869483066\n",
      "equal_opportunity_difference    -0.41778127458693937\n",
      "disparate_impact                1.2003188335706674\n",
      "theil_index                     0.10603210355698797\n"
     ]
    }
   ],
   "source": [
    "model = create_model(clf, nominal_features)\n",
    "y_test, y_pred = train_and_evaluate(model, df_train, df_train, target, drop_na=True)\n",
    "metrics = describe_fairness(df_train_bias[target], y_pred, list(privileged_subset[0].keys()), verbose=True)"
   ]
  },
  {
   "cell_type": "code",
   "execution_count": 100,
   "metadata": {},
   "outputs": [],
   "source": [
    "df_fairness_metrics, priviliged_subsets = pd.DataFrame(\n",
    "    columns=[\n",
    "        \"statistical_parity_difference\",\n",
    "        \"average_abs_odds_difference\",\n",
    "        \"equal_opportunity_difference\",\n",
    "        \"disparate_impact\",\n",
    "        \"theil_index\",\n",
    "    ]\n",
    "), {}\n",
    "\n",
    "for i in [1e-17, 1e-10, 0.001, 0.01, 0.1, 0, 1, 5, 10, 25, 50, 100]:\n",
    "    metrics, priv = scan_and_calculate_fairness(model, df_train, target, i)    \n",
    "    df_fairness_metrics.loc[f\"{i}\"] = metrics.values()\n",
    "    priviliged_subsets[f\"{i}\"] = priv"
   ]
  },
  {
   "cell_type": "code",
   "execution_count": 101,
   "metadata": {},
   "outputs": [
    {
     "data": {
      "text/html": [
       "<div>\n",
       "<style scoped>\n",
       "    .dataframe tbody tr th:only-of-type {\n",
       "        vertical-align: middle;\n",
       "    }\n",
       "\n",
       "    .dataframe tbody tr th {\n",
       "        vertical-align: top;\n",
       "    }\n",
       "\n",
       "    .dataframe thead th {\n",
       "        text-align: right;\n",
       "    }\n",
       "</style>\n",
       "<table border=\"1\" class=\"dataframe\">\n",
       "  <thead>\n",
       "    <tr style=\"text-align: right;\">\n",
       "      <th></th>\n",
       "      <th>statistical_parity_difference</th>\n",
       "      <th>average_abs_odds_difference</th>\n",
       "      <th>equal_opportunity_difference</th>\n",
       "      <th>disparate_impact</th>\n",
       "      <th>theil_index</th>\n",
       "    </tr>\n",
       "  </thead>\n",
       "  <tbody>\n",
       "    <tr>\n",
       "      <th>1e-17</th>\n",
       "      <td>0.120956</td>\n",
       "      <td>0.297646</td>\n",
       "      <td>0.582492</td>\n",
       "      <td>3.797097</td>\n",
       "      <td>0.106032</td>\n",
       "    </tr>\n",
       "    <tr>\n",
       "      <th>1e-10</th>\n",
       "      <td>0.152072</td>\n",
       "      <td>0.313252</td>\n",
       "      <td>0.582492</td>\n",
       "      <td>13.469931</td>\n",
       "      <td>0.106032</td>\n",
       "    </tr>\n",
       "    <tr>\n",
       "      <th>0.001</th>\n",
       "      <td>0.152072</td>\n",
       "      <td>0.313252</td>\n",
       "      <td>0.582492</td>\n",
       "      <td>13.469931</td>\n",
       "      <td>0.106032</td>\n",
       "    </tr>\n",
       "    <tr>\n",
       "      <th>0.01</th>\n",
       "      <td>0.151993</td>\n",
       "      <td>0.313214</td>\n",
       "      <td>0.582492</td>\n",
       "      <td>13.387437</td>\n",
       "      <td>0.106032</td>\n",
       "    </tr>\n",
       "    <tr>\n",
       "      <th>0.1</th>\n",
       "      <td>0.161054</td>\n",
       "      <td>0.317384</td>\n",
       "      <td>0.582492</td>\n",
       "      <td>36.995486</td>\n",
       "      <td>0.106032</td>\n",
       "    </tr>\n",
       "    <tr>\n",
       "      <th>0</th>\n",
       "      <td>0.167404</td>\n",
       "      <td>0.320067</td>\n",
       "      <td>0.583104</td>\n",
       "      <td>178.281059</td>\n",
       "      <td>0.106032</td>\n",
       "    </tr>\n",
       "    <tr>\n",
       "      <th>1</th>\n",
       "      <td>0.027316</td>\n",
       "      <td>-0.228598</td>\n",
       "      <td>-0.417781</td>\n",
       "      <td>1.200319</td>\n",
       "      <td>0.106032</td>\n",
       "    </tr>\n",
       "    <tr>\n",
       "      <th>5</th>\n",
       "      <td>0.000000</td>\n",
       "      <td>0.000000</td>\n",
       "      <td>0.000000</td>\n",
       "      <td>1.000000</td>\n",
       "      <td>0.000000</td>\n",
       "    </tr>\n",
       "    <tr>\n",
       "      <th>10</th>\n",
       "      <td>0.000000</td>\n",
       "      <td>0.000000</td>\n",
       "      <td>0.000000</td>\n",
       "      <td>1.000000</td>\n",
       "      <td>0.000000</td>\n",
       "    </tr>\n",
       "    <tr>\n",
       "      <th>25</th>\n",
       "      <td>0.000000</td>\n",
       "      <td>0.000000</td>\n",
       "      <td>0.000000</td>\n",
       "      <td>1.000000</td>\n",
       "      <td>0.000000</td>\n",
       "    </tr>\n",
       "    <tr>\n",
       "      <th>50</th>\n",
       "      <td>0.000000</td>\n",
       "      <td>0.000000</td>\n",
       "      <td>0.000000</td>\n",
       "      <td>1.000000</td>\n",
       "      <td>0.000000</td>\n",
       "    </tr>\n",
       "    <tr>\n",
       "      <th>100</th>\n",
       "      <td>0.000000</td>\n",
       "      <td>0.000000</td>\n",
       "      <td>0.000000</td>\n",
       "      <td>1.000000</td>\n",
       "      <td>0.000000</td>\n",
       "    </tr>\n",
       "  </tbody>\n",
       "</table>\n",
       "</div>"
      ],
      "text/plain": [
       "       statistical_parity_difference  average_abs_odds_difference  \\\n",
       "1e-17                       0.120956                     0.297646   \n",
       "1e-10                       0.152072                     0.313252   \n",
       "0.001                       0.152072                     0.313252   \n",
       "0.01                        0.151993                     0.313214   \n",
       "0.1                         0.161054                     0.317384   \n",
       "0                           0.167404                     0.320067   \n",
       "1                           0.027316                    -0.228598   \n",
       "5                           0.000000                     0.000000   \n",
       "10                          0.000000                     0.000000   \n",
       "25                          0.000000                     0.000000   \n",
       "50                          0.000000                     0.000000   \n",
       "100                         0.000000                     0.000000   \n",
       "\n",
       "       equal_opportunity_difference  disparate_impact  theil_index  \n",
       "1e-17                      0.582492          3.797097     0.106032  \n",
       "1e-10                      0.582492         13.469931     0.106032  \n",
       "0.001                      0.582492         13.469931     0.106032  \n",
       "0.01                       0.582492         13.387437     0.106032  \n",
       "0.1                        0.582492         36.995486     0.106032  \n",
       "0                          0.583104        178.281059     0.106032  \n",
       "1                         -0.417781          1.200319     0.106032  \n",
       "5                          0.000000          1.000000     0.000000  \n",
       "10                         0.000000          1.000000     0.000000  \n",
       "25                         0.000000          1.000000     0.000000  \n",
       "50                         0.000000          1.000000     0.000000  \n",
       "100                        0.000000          1.000000     0.000000  "
      ]
     },
     "execution_count": 101,
     "metadata": {},
     "output_type": "execute_result"
    }
   ],
   "source": [
    "df_fairness_metrics"
   ]
  },
  {
   "cell_type": "code",
   "execution_count": 102,
   "metadata": {},
   "outputs": [],
   "source": [
    "df_fairness_metrics.to_json(\"./results/fairness_metrics_synthetic_cleaned.json\")"
   ]
  },
  {
   "cell_type": "code",
   "execution_count": 103,
   "metadata": {},
   "outputs": [],
   "source": [
    "model = create_model(clf, nominal_features)\n",
    "model.fit(X_train, y_train)\n",
    "probs = pd.Series(model.predict_proba(X_train)[:, 1]) # we select for target label\n",
    "\n",
    "df_probs_diff = pd.DataFrame(\n",
    "    columns=[\n",
    "        \"count\",\n",
    "        \"expected_probability\",\n",
    "        \"model_probability\",\n",
    "    ]\n",
    ")\n",
    "for penalty, priv in priviliged_subsets.items():\n",
    "    df_probs_diff.loc[penalty] = calc_diff(df_train, probs, target, priv[0])"
   ]
  },
  {
   "cell_type": "code",
   "execution_count": 104,
   "metadata": {},
   "outputs": [
    {
     "data": {
      "text/html": [
       "<div>\n",
       "<style scoped>\n",
       "    .dataframe tbody tr th:only-of-type {\n",
       "        vertical-align: middle;\n",
       "    }\n",
       "\n",
       "    .dataframe tbody tr th {\n",
       "        vertical-align: top;\n",
       "    }\n",
       "\n",
       "    .dataframe thead th {\n",
       "        text-align: right;\n",
       "    }\n",
       "</style>\n",
       "<table border=\"1\" class=\"dataframe\">\n",
       "  <thead>\n",
       "    <tr style=\"text-align: right;\">\n",
       "      <th></th>\n",
       "      <th>count</th>\n",
       "      <th>expected_probability</th>\n",
       "      <th>model_probability</th>\n",
       "    </tr>\n",
       "  </thead>\n",
       "  <tbody>\n",
       "    <tr>\n",
       "      <th>1e-17</th>\n",
       "      <td>185</td>\n",
       "      <td>0.0000</td>\n",
       "      <td>0.0613</td>\n",
       "    </tr>\n",
       "    <tr>\n",
       "      <th>1e-10</th>\n",
       "      <td>164</td>\n",
       "      <td>0.0000</td>\n",
       "      <td>0.0929</td>\n",
       "    </tr>\n",
       "    <tr>\n",
       "      <th>0.001</th>\n",
       "      <td>164</td>\n",
       "      <td>0.0000</td>\n",
       "      <td>0.0929</td>\n",
       "    </tr>\n",
       "    <tr>\n",
       "      <th>0.01</th>\n",
       "      <td>163</td>\n",
       "      <td>0.0000</td>\n",
       "      <td>0.0935</td>\n",
       "    </tr>\n",
       "    <tr>\n",
       "      <th>0.1</th>\n",
       "      <td>447</td>\n",
       "      <td>0.0000</td>\n",
       "      <td>0.0404</td>\n",
       "    </tr>\n",
       "    <tr>\n",
       "      <th>0</th>\n",
       "      <td>1059</td>\n",
       "      <td>0.0076</td>\n",
       "      <td>0.0320</td>\n",
       "    </tr>\n",
       "    <tr>\n",
       "      <th>1</th>\n",
       "      <td>110</td>\n",
       "      <td>0.0455</td>\n",
       "      <td>0.2014</td>\n",
       "    </tr>\n",
       "    <tr>\n",
       "      <th>5</th>\n",
       "      <td>0</td>\n",
       "      <td>NaN</td>\n",
       "      <td>NaN</td>\n",
       "    </tr>\n",
       "    <tr>\n",
       "      <th>10</th>\n",
       "      <td>0</td>\n",
       "      <td>NaN</td>\n",
       "      <td>NaN</td>\n",
       "    </tr>\n",
       "    <tr>\n",
       "      <th>25</th>\n",
       "      <td>0</td>\n",
       "      <td>NaN</td>\n",
       "      <td>NaN</td>\n",
       "    </tr>\n",
       "    <tr>\n",
       "      <th>50</th>\n",
       "      <td>0</td>\n",
       "      <td>NaN</td>\n",
       "      <td>NaN</td>\n",
       "    </tr>\n",
       "    <tr>\n",
       "      <th>100</th>\n",
       "      <td>0</td>\n",
       "      <td>NaN</td>\n",
       "      <td>NaN</td>\n",
       "    </tr>\n",
       "  </tbody>\n",
       "</table>\n",
       "</div>"
      ],
      "text/plain": [
       "       count  expected_probability  model_probability\n",
       "1e-17    185                0.0000             0.0613\n",
       "1e-10    164                0.0000             0.0929\n",
       "0.001    164                0.0000             0.0929\n",
       "0.01     163                0.0000             0.0935\n",
       "0.1      447                0.0000             0.0404\n",
       "0       1059                0.0076             0.0320\n",
       "1        110                0.0455             0.2014\n",
       "5          0                   NaN                NaN\n",
       "10         0                   NaN                NaN\n",
       "25         0                   NaN                NaN\n",
       "50         0                   NaN                NaN\n",
       "100        0                   NaN                NaN"
      ]
     },
     "execution_count": 104,
     "metadata": {},
     "output_type": "execute_result"
    }
   ],
   "source": [
    "df_probs_diff"
   ]
  },
  {
   "cell_type": "markdown",
   "metadata": {},
   "source": [
    "## PDFed Data"
   ]
  },
  {
   "cell_type": "code",
   "execution_count": 105,
   "metadata": {},
   "outputs": [],
   "source": [
    "df_train, df_test = load_data()\n",
    "nominal_features = nominal_features + ['age', 'hours-per-week', 'capital-gain', 'capital-loss']"
   ]
  },
  {
   "cell_type": "code",
   "execution_count": 106,
   "metadata": {},
   "outputs": [],
   "source": [
    "import numpy as np\n",
    "import pandas as pd\n",
    "from scipy.stats import gaussian_kde\n",
    "\n",
    "def clean_data(X: pd.DataFrame) -> pd.DataFrame:\n",
    "     # Function to transform numerical attributes into their PDF values\n",
    "    def transform_to_pdf(data, numerical_columns, target):\n",
    "        transformed_data = data.copy()\n",
    "        for column in numerical_columns:\n",
    "            if column not in ['sex', target]:\n",
    "                kde = gaussian_kde(data[column].dropna())\n",
    "                transformed_data[column] = kde(data[column])\n",
    "        return transformed_data\n",
    "\n",
    "    # Transforming the numerical attributes\n",
    "    # X = X.drop(columns=[\"fnlwgt\", \"education\"], errors=\"ignore\")\n",
    "    cols = list(X.columns)\n",
    "    X[cols] = X[cols].replace([\" ?\"], np.nan)\n",
    "    X = X.dropna()\n",
    "\n",
    "    def strip_str(x):\n",
    "        if isinstance(x, str):\n",
    "            return x.strip()\n",
    "        else:\n",
    "            return x\n",
    "    X = X.applymap(strip_str)\n",
    "\n",
    "    # X[\"relationship\"] = X[\"relationship\"].replace([\"Husband\", \"Wife\"], \"Married\")\n",
    "    X = transform_to_pdf(X,['age', 'hours-per-week', 'capital-gain', 'capital-loss'], 'income')\n",
    "    return X\n",
    "\n",
    "df_train = clean_data(df_train.dropna())\n",
    "df_test = clean_data(df_test.dropna())"
   ]
  },
  {
   "cell_type": "code",
   "execution_count": 107,
   "metadata": {},
   "outputs": [],
   "source": [
    "for col in df_train.columns:\n",
    "    if df_train[col].dtype == \"category\":\n",
    "        df_train[col] = df_train[col].astype(\"object\")\n",
    "        df_test[col] = df_test[col].astype(\"object\")"
   ]
  },
  {
   "cell_type": "markdown",
   "metadata": {},
   "source": [
    "### Train baseline"
   ]
  },
  {
   "cell_type": "code",
   "execution_count": 108,
   "metadata": {},
   "outputs": [],
   "source": [
    "from sklearn.linear_model import LogisticRegression\n",
    "from utils import create_model, train_and_evaluate, describe_model"
   ]
  },
  {
   "cell_type": "code",
   "execution_count": 109,
   "metadata": {},
   "outputs": [],
   "source": [
    "clf = LogisticRegression(max_iter=1000, random_state=random_state)"
   ]
  },
  {
   "cell_type": "code",
   "execution_count": 110,
   "metadata": {},
   "outputs": [
    {
     "name": "stdout",
     "output_type": "stream",
     "text": [
      "Metric         Value               \n",
      "Accuracy       0.7481969269363437\n",
      "Precision      0.7134257748776509\n",
      "Recall         0.7852284631210857\n",
      "F1             0.7161181202405134\n"
     ]
    }
   ],
   "source": [
    "## Train baseline\n",
    "model = create_model(clf, nominal_features)\n",
    "y_test, y_pred = train_and_evaluate(model, df_train, df_test, target, drop_na=True)\n",
    "metrics = describe_model(y_test, y_pred, verbose=True)"
   ]
  },
  {
   "cell_type": "markdown",
   "metadata": {},
   "source": [
    "### Fairness Evaluation"
   ]
  },
  {
   "cell_type": "code",
   "execution_count": 111,
   "metadata": {},
   "outputs": [],
   "source": [
    "from utils import split_data\n",
    "from utils_fairness import search_bias, calc_fairness_score, explain_detected_bias"
   ]
  },
  {
   "cell_type": "code",
   "execution_count": 112,
   "metadata": {},
   "outputs": [],
   "source": [
    "X_train, y_train = split_data(df_train, target, drop_na=True)"
   ]
  },
  {
   "cell_type": "code",
   "execution_count": 113,
   "metadata": {},
   "outputs": [],
   "source": [
    "model = create_model(clf, nominal_features)\n",
    "model.fit(X_train, y_train)\n",
    "probs = pd.Series(model.predict_proba(X_train)[:, 1]) # we select for target label"
   ]
  },
  {
   "cell_type": "code",
   "execution_count": 114,
   "metadata": {},
   "outputs": [],
   "source": [
    "privileged_subset, _ = search_bias(X_train, y_train, probs, 1, penalty=1)"
   ]
  },
  {
   "cell_type": "code",
   "execution_count": 115,
   "metadata": {},
   "outputs": [
    {
     "name": "stdout",
     "output_type": "stream",
     "text": [
      "({'capital-gain': [0.0014268116068545864, 0.0014494447135108503, 0.0014499044018283546, 0.0014502686425889616, 0.0014506540370765706, 0.0014508448770105507], 'workclass': ['?', 'Local-gov'], 'age': [0.0047791226256496434, 0.006711487346189525, 0.006959676452913946, 0.0074541789835679915, 0.009036480031066975, 0.03695082496929242, 0.03792455714871646]}, 11.238)\n"
     ]
    }
   ],
   "source": [
    "print(privileged_subset)"
   ]
  },
  {
   "cell_type": "code",
   "execution_count": 116,
   "metadata": {},
   "outputs": [
    {
     "name": "stdout",
     "output_type": "stream",
     "text": [
      "Sensitive Attributes: ['age', 'capital-gain', 'workclass']\n",
      "\n",
      "                                       Group Distance  Proportion  Counts   P-Value\n",
      "                  capital-gain [-0.00, 0.00]    0.435    0.100029    3734  0.00e+00\n",
      "         capital-gain [-0.00, 0.00], Private    0.431    0.061963    2313  0.00e+00\n",
      "age [0.01, 0.02], capital-gain [-0.00, 0.00]    0.548    0.014921     557 2.95e-169\n",
      "age [0.02, 0.03], capital-gain [-0.00, 0.00]    0.548    0.014278     533 4.20e-162\n",
      "                                Self-emp-inc    0.338    0.032629    1218 1.36e-148\n",
      "    capital-gain [-0.00, 0.00], Self-emp-inc    0.605    0.010099     377 1.41e-139\n",
      "                capital-gain [0.00, 0.00], ?   -0.161    0.069865    2608 3.48e-126\n",
      "age [0.01, 0.01], capital-gain [-0.00, 0.00]    0.497    0.013100     489 1.35e-123\n",
      "                                           ?   -0.155    0.073026    2726 1.26e-119\n",
      "                   capital-gain [0.00, 0.00]   -0.048    0.899971   33595 8.34e-114\n",
      "\n",
      "Weighted Mean Statistical Distance: 0.08010354901745433\n"
     ]
    },
    {
     "data": {
      "text/plain": [
       "<fairlens.scorer.FairnessScorer at 0x2c1aeac80>"
      ]
     },
     "execution_count": 116,
     "metadata": {},
     "output_type": "execute_result"
    }
   ],
   "source": [
    "calc_fairness_score(df_train, privileged_subset[0].keys(), target, verbose=True)"
   ]
  },
  {
   "cell_type": "code",
   "execution_count": 117,
   "metadata": {},
   "outputs": [
    {
     "name": "stdout",
     "output_type": "stream",
     "text": [
      "Our detected privileged group has a size of 374, we observe 0.0 as the average probability of earning >50k, but our model predicts 0.2065\n"
     ]
    }
   ],
   "source": [
    "explain_detected_bias(df_train, probs, target, privileged_subset[0])"
   ]
  },
  {
   "cell_type": "markdown",
   "metadata": {},
   "source": [
    "### Fairness Metrics"
   ]
  },
  {
   "cell_type": "code",
   "execution_count": 118,
   "metadata": {},
   "outputs": [],
   "source": [
    "from utils_fairness import transform_to_bias_dataset, describe_fairness, scan_and_calculate_fairness, plot_fairness_metrics"
   ]
  },
  {
   "cell_type": "code",
   "execution_count": 119,
   "metadata": {},
   "outputs": [],
   "source": [
    "df_train_bias = transform_to_bias_dataset(df_train, list(privileged_subset[0].keys()), list(privileged_subset[0].values()), verbose=True)\n",
    "df_test_bias = transform_to_bias_dataset(df_test, list(privileged_subset[0].keys()), list(privileged_subset[0].values()), verbose=True)"
   ]
  },
  {
   "cell_type": "code",
   "execution_count": 120,
   "metadata": {},
   "outputs": [
    {
     "name": "stdout",
     "output_type": "stream",
     "text": [
      "Metric                          Value               \n",
      "statistical_parity_difference   0.15056525605285226\n",
      "average_odds_difference         0.32627874937004087\n",
      "equal_opportunity_difference    0.6199711702267069\n",
      "disparate_impact                10.385234293961124\n",
      "theil_index                     0.0954776007468658\n"
     ]
    }
   ],
   "source": [
    "model = create_model(clf, nominal_features)\n",
    "y_test, y_pred = train_and_evaluate(model, df_train, df_train, target, drop_na=True)\n",
    "metrics = describe_fairness(df_train_bias[target], y_pred, list(privileged_subset[0].keys()), verbose=True)"
   ]
  },
  {
   "cell_type": "code",
   "execution_count": 121,
   "metadata": {},
   "outputs": [],
   "source": [
    "df_fairness_metrics, priviliged_subsets = pd.DataFrame(\n",
    "    columns=[\n",
    "        \"statistical_parity_difference\",\n",
    "        \"average_abs_odds_difference\",\n",
    "        \"equal_opportunity_difference\",\n",
    "        \"disparate_impact\",\n",
    "        \"theil_index\",\n",
    "    ]\n",
    "), {}\n",
    "\n",
    "for i in [1e-17, 1e-10, 0.001, 0.01, 0.1, 0, 1, 5, 10, 25, 50, 100]:\n",
    "    metrics, priv = scan_and_calculate_fairness(model, df_train, target, i)    \n",
    "    df_fairness_metrics.loc[f\"{i}\"] = metrics.values()\n",
    "    priviliged_subsets[f\"{i}\"] = priv"
   ]
  },
  {
   "cell_type": "code",
   "execution_count": 122,
   "metadata": {},
   "outputs": [
    {
     "data": {
      "text/html": [
       "<div>\n",
       "<style scoped>\n",
       "    .dataframe tbody tr th:only-of-type {\n",
       "        vertical-align: middle;\n",
       "    }\n",
       "\n",
       "    .dataframe tbody tr th {\n",
       "        vertical-align: top;\n",
       "    }\n",
       "\n",
       "    .dataframe thead th {\n",
       "        text-align: right;\n",
       "    }\n",
       "</style>\n",
       "<table border=\"1\" class=\"dataframe\">\n",
       "  <thead>\n",
       "    <tr style=\"text-align: right;\">\n",
       "      <th></th>\n",
       "      <th>statistical_parity_difference</th>\n",
       "      <th>average_abs_odds_difference</th>\n",
       "      <th>equal_opportunity_difference</th>\n",
       "      <th>disparate_impact</th>\n",
       "      <th>theil_index</th>\n",
       "    </tr>\n",
       "  </thead>\n",
       "  <tbody>\n",
       "    <tr>\n",
       "      <th>1e-17</th>\n",
       "      <td>0.093033</td>\n",
       "      <td>-0.200346</td>\n",
       "      <td>-0.380079</td>\n",
       "      <td>2.280574</td>\n",
       "      <td>0.095478</td>\n",
       "    </tr>\n",
       "    <tr>\n",
       "      <th>1e-10</th>\n",
       "      <td>0.152394</td>\n",
       "      <td>0.326953</td>\n",
       "      <td>0.619971</td>\n",
       "      <td>11.229462</td>\n",
       "      <td>0.095478</td>\n",
       "    </tr>\n",
       "    <tr>\n",
       "      <th>0.001</th>\n",
       "      <td>0.103443</td>\n",
       "      <td>0.302980</td>\n",
       "      <td>0.619971</td>\n",
       "      <td>2.664494</td>\n",
       "      <td>0.095478</td>\n",
       "    </tr>\n",
       "    <tr>\n",
       "      <th>0.01</th>\n",
       "      <td>0.115892</td>\n",
       "      <td>0.309269</td>\n",
       "      <td>0.619971</td>\n",
       "      <td>3.334394</td>\n",
       "      <td>0.095478</td>\n",
       "    </tr>\n",
       "    <tr>\n",
       "      <th>0.1</th>\n",
       "      <td>0.086654</td>\n",
       "      <td>0.294659</td>\n",
       "      <td>0.619971</td>\n",
       "      <td>2.100508</td>\n",
       "      <td>0.095478</td>\n",
       "    </tr>\n",
       "    <tr>\n",
       "      <th>0</th>\n",
       "      <td>0.093033</td>\n",
       "      <td>-0.200346</td>\n",
       "      <td>-0.380079</td>\n",
       "      <td>2.280574</td>\n",
       "      <td>0.095478</td>\n",
       "    </tr>\n",
       "    <tr>\n",
       "      <th>1</th>\n",
       "      <td>0.150565</td>\n",
       "      <td>0.326279</td>\n",
       "      <td>0.619971</td>\n",
       "      <td>10.385234</td>\n",
       "      <td>0.095478</td>\n",
       "    </tr>\n",
       "    <tr>\n",
       "      <th>5</th>\n",
       "      <td>0.000000</td>\n",
       "      <td>0.000000</td>\n",
       "      <td>0.000000</td>\n",
       "      <td>1.000000</td>\n",
       "      <td>0.000000</td>\n",
       "    </tr>\n",
       "    <tr>\n",
       "      <th>10</th>\n",
       "      <td>0.000000</td>\n",
       "      <td>0.000000</td>\n",
       "      <td>0.000000</td>\n",
       "      <td>1.000000</td>\n",
       "      <td>0.000000</td>\n",
       "    </tr>\n",
       "    <tr>\n",
       "      <th>25</th>\n",
       "      <td>0.000000</td>\n",
       "      <td>0.000000</td>\n",
       "      <td>0.000000</td>\n",
       "      <td>1.000000</td>\n",
       "      <td>0.000000</td>\n",
       "    </tr>\n",
       "    <tr>\n",
       "      <th>50</th>\n",
       "      <td>0.000000</td>\n",
       "      <td>0.000000</td>\n",
       "      <td>0.000000</td>\n",
       "      <td>1.000000</td>\n",
       "      <td>0.000000</td>\n",
       "    </tr>\n",
       "    <tr>\n",
       "      <th>100</th>\n",
       "      <td>0.000000</td>\n",
       "      <td>0.000000</td>\n",
       "      <td>0.000000</td>\n",
       "      <td>1.000000</td>\n",
       "      <td>0.000000</td>\n",
       "    </tr>\n",
       "  </tbody>\n",
       "</table>\n",
       "</div>"
      ],
      "text/plain": [
       "       statistical_parity_difference  average_abs_odds_difference  \\\n",
       "1e-17                       0.093033                    -0.200346   \n",
       "1e-10                       0.152394                     0.326953   \n",
       "0.001                       0.103443                     0.302980   \n",
       "0.01                        0.115892                     0.309269   \n",
       "0.1                         0.086654                     0.294659   \n",
       "0                           0.093033                    -0.200346   \n",
       "1                           0.150565                     0.326279   \n",
       "5                           0.000000                     0.000000   \n",
       "10                          0.000000                     0.000000   \n",
       "25                          0.000000                     0.000000   \n",
       "50                          0.000000                     0.000000   \n",
       "100                         0.000000                     0.000000   \n",
       "\n",
       "       equal_opportunity_difference  disparate_impact  theil_index  \n",
       "1e-17                     -0.380079          2.280574     0.095478  \n",
       "1e-10                      0.619971         11.229462     0.095478  \n",
       "0.001                      0.619971          2.664494     0.095478  \n",
       "0.01                       0.619971          3.334394     0.095478  \n",
       "0.1                        0.619971          2.100508     0.095478  \n",
       "0                         -0.380079          2.280574     0.095478  \n",
       "1                          0.619971         10.385234     0.095478  \n",
       "5                          0.000000          1.000000     0.000000  \n",
       "10                         0.000000          1.000000     0.000000  \n",
       "25                         0.000000          1.000000     0.000000  \n",
       "50                         0.000000          1.000000     0.000000  \n",
       "100                        0.000000          1.000000     0.000000  "
      ]
     },
     "execution_count": 122,
     "metadata": {},
     "output_type": "execute_result"
    }
   ],
   "source": [
    "df_fairness_metrics"
   ]
  },
  {
   "cell_type": "code",
   "execution_count": 123,
   "metadata": {},
   "outputs": [],
   "source": [
    "df_fairness_metrics.to_json(\"./results/fairness_metrics_synthetic_pdf.json\")"
   ]
  },
  {
   "cell_type": "code",
   "execution_count": 124,
   "metadata": {},
   "outputs": [],
   "source": [
    "model = create_model(clf, nominal_features)\n",
    "model.fit(X_train, y_train)\n",
    "probs = pd.Series(model.predict_proba(X_train)[:, 1]) # we select for target label\n",
    "\n",
    "df_probs_diff = pd.DataFrame(\n",
    "    columns=[\n",
    "        \"count\",\n",
    "        \"expected_probability\",\n",
    "        \"model_probability\",\n",
    "    ]\n",
    ")\n",
    "for penalty, priv in priviliged_subsets.items():\n",
    "    df_probs_diff.loc[penalty] = calc_diff(df_train, probs, target, priv[0])"
   ]
  },
  {
   "cell_type": "code",
   "execution_count": 125,
   "metadata": {},
   "outputs": [
    {
     "data": {
      "text/html": [
       "<div>\n",
       "<style scoped>\n",
       "    .dataframe tbody tr th:only-of-type {\n",
       "        vertical-align: middle;\n",
       "    }\n",
       "\n",
       "    .dataframe tbody tr th {\n",
       "        vertical-align: top;\n",
       "    }\n",
       "\n",
       "    .dataframe thead th {\n",
       "        text-align: right;\n",
       "    }\n",
       "</style>\n",
       "<table border=\"1\" class=\"dataframe\">\n",
       "  <thead>\n",
       "    <tr style=\"text-align: right;\">\n",
       "      <th></th>\n",
       "      <th>count</th>\n",
       "      <th>expected_probability</th>\n",
       "      <th>model_probability</th>\n",
       "    </tr>\n",
       "  </thead>\n",
       "  <tbody>\n",
       "    <tr>\n",
       "      <th>1e-17</th>\n",
       "      <td>234</td>\n",
       "      <td>0.0043</td>\n",
       "      <td>0.1892</td>\n",
       "    </tr>\n",
       "    <tr>\n",
       "      <th>1e-10</th>\n",
       "      <td>537</td>\n",
       "      <td>0.0000</td>\n",
       "      <td>0.1921</td>\n",
       "    </tr>\n",
       "    <tr>\n",
       "      <th>0.001</th>\n",
       "      <td>177</td>\n",
       "      <td>0.0000</td>\n",
       "      <td>0.1911</td>\n",
       "    </tr>\n",
       "    <tr>\n",
       "      <th>0.01</th>\n",
       "      <td>141</td>\n",
       "      <td>0.0000</td>\n",
       "      <td>0.2286</td>\n",
       "    </tr>\n",
       "    <tr>\n",
       "      <th>0.1</th>\n",
       "      <td>127</td>\n",
       "      <td>0.0000</td>\n",
       "      <td>0.1930</td>\n",
       "    </tr>\n",
       "    <tr>\n",
       "      <th>0</th>\n",
       "      <td>234</td>\n",
       "      <td>0.0043</td>\n",
       "      <td>0.1892</td>\n",
       "    </tr>\n",
       "    <tr>\n",
       "      <th>1</th>\n",
       "      <td>374</td>\n",
       "      <td>0.0000</td>\n",
       "      <td>0.2065</td>\n",
       "    </tr>\n",
       "    <tr>\n",
       "      <th>5</th>\n",
       "      <td>0</td>\n",
       "      <td>NaN</td>\n",
       "      <td>NaN</td>\n",
       "    </tr>\n",
       "    <tr>\n",
       "      <th>10</th>\n",
       "      <td>0</td>\n",
       "      <td>NaN</td>\n",
       "      <td>NaN</td>\n",
       "    </tr>\n",
       "    <tr>\n",
       "      <th>25</th>\n",
       "      <td>0</td>\n",
       "      <td>NaN</td>\n",
       "      <td>NaN</td>\n",
       "    </tr>\n",
       "    <tr>\n",
       "      <th>50</th>\n",
       "      <td>0</td>\n",
       "      <td>NaN</td>\n",
       "      <td>NaN</td>\n",
       "    </tr>\n",
       "    <tr>\n",
       "      <th>100</th>\n",
       "      <td>0</td>\n",
       "      <td>NaN</td>\n",
       "      <td>NaN</td>\n",
       "    </tr>\n",
       "  </tbody>\n",
       "</table>\n",
       "</div>"
      ],
      "text/plain": [
       "       count  expected_probability  model_probability\n",
       "1e-17    234                0.0043             0.1892\n",
       "1e-10    537                0.0000             0.1921\n",
       "0.001    177                0.0000             0.1911\n",
       "0.01     141                0.0000             0.2286\n",
       "0.1      127                0.0000             0.1930\n",
       "0        234                0.0043             0.1892\n",
       "1        374                0.0000             0.2065\n",
       "5          0                   NaN                NaN\n",
       "10         0                   NaN                NaN\n",
       "25         0                   NaN                NaN\n",
       "50         0                   NaN                NaN\n",
       "100        0                   NaN                NaN"
      ]
     },
     "execution_count": 125,
     "metadata": {},
     "output_type": "execute_result"
    }
   ],
   "source": [
    "df_probs_diff"
   ]
  }
 ],
 "metadata": {
  "kernelspec": {
   "display_name": "base",
   "language": "python",
   "name": "python3"
  },
  "language_info": {
   "codemirror_mode": {
    "name": "ipython",
    "version": 3
   },
   "file_extension": ".py",
   "mimetype": "text/x-python",
   "name": "python",
   "nbconvert_exporter": "python",
   "pygments_lexer": "ipython3",
   "version": "3.10.14"
  }
 },
 "nbformat": 4,
 "nbformat_minor": 2
}
